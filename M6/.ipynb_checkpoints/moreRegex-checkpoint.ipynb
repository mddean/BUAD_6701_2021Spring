{
 "cells": [
  {
   "cell_type": "markdown",
   "metadata": {},
   "source": [
    "# More Regular Expresssions\n",
    "\n",
    "Let's look at a few more important topics for regular expressions. \n",
    "\n",
    "## Anchors and Boundaries\n",
    "\n",
    "Regular expresssions allow you to match specific positions in text. You can probably imagine that this would be very useful when you want to match single words or word phrases in text, identify sentences, etc. Here are the most commonly used anchors and boundaries used in regex.\n",
    "\n",
    "- `^` matches the beginning of a string or line (when it is **not** inside `[]`)\n",
    "- `$` matches the end of a string or line\n",
    "- `\\A` matches the beginning of a string\n",
    "- `\\Z` matches the end of a string\n",
    "- `\\b` matches a word boundary and allows \"whole words only\" searches in the form of `\\bword\\b`\n",
    "- `\\B` mathes anything but a word boundary\n",
    "\n",
    "Let's look at a few examples."
   ]
  },
  {
   "cell_type": "code",
   "execution_count": null,
   "metadata": {},
   "outputs": [],
   "source": [
    "import re\n",
    "s = \"high income from the higher end of the spectrum is quite high, but what is highest still?\""
   ]
  },
  {
   "cell_type": "code",
   "execution_count": null,
   "metadata": {},
   "outputs": [],
   "source": [
    "# Can we find the string \"hi\" at the beginning of the string s?\n",
    "re.findall(r\"^hi\", s)"
   ]
  },
  {
   "cell_type": "code",
   "execution_count": null,
   "metadata": {},
   "outputs": [],
   "source": [
    "# Find only the word \"high\" using word boundaries`\n",
    "re.findall(r\"\\bhigh\\b\", s)"
   ]
  },
  {
   "cell_type": "markdown",
   "metadata": {},
   "source": [
    "### Which Ones?\n",
    "\n",
    "How do we know which one of those \"high\" substring it was? We can use `re.finditer()` to get back an interable object that contains all the `Match` objects that allow us to see the start and end points for each substring matched. These end points are in the `span` part of the print out."
   ]
  },
  {
   "cell_type": "code",
   "execution_count": null,
   "metadata": {},
   "outputs": [],
   "source": [
    "# Use re.finditer() to get Match objects\n",
    "for i in re.finditer(r\"\\bhigh\\b\", s):\n",
    "    print(i)"
   ]
  },
  {
   "cell_type": "code",
   "execution_count": null,
   "metadata": {},
   "outputs": [],
   "source": [
    "# What happens if we use \\b at the beginning and \\B at the end?\n",
    "for i in re.finditer(r\"\\bhigh\\B\", s):\n",
    "    print(i)\n",
    "    print(s[i.start():i.end()+5])"
   ]
  },
  {
   "cell_type": "markdown",
   "metadata": {},
   "source": [
    "## Quantifiers in Regex\n",
    "\n",
    "If you want to specify whether a regex element can be matched zero, one, or many times, then you should use *quantifiers*. Quantifiers are always placed ***after*** regex elements. The most commonly used quantifiers include:\n",
    "\n",
    "- `+` matches an item one or more times\n",
    "- `*` matches an item zero or mort times\n",
    "- `{n}` matches an item exactly $n$ times\n",
    "- `{k,n}` matches an item at least $k$ times and at most $n$ times\n",
    "- `?` matches an item zero or one time\n",
    "\n",
    "Let's look at a few examples."
   ]
  },
  {
   "cell_type": "code",
   "execution_count": null,
   "metadata": {},
   "outputs": [],
   "source": [
    "testStrings = [\"bt\", \"bet\", \"beet\", \"beeet\", \"beeeet\"]"
   ]
  },
  {
   "cell_type": "code",
   "execution_count": null,
   "metadata": {},
   "outputs": [],
   "source": [
    "# zero or more\n",
    "for t in testStrings:\n",
    "    print(re.findall(r\"be*t\", t))"
   ]
  },
  {
   "cell_type": "code",
   "execution_count": null,
   "metadata": {},
   "outputs": [],
   "source": [
    "# one or more\n",
    "for t in testStrings:\n",
    "    print(re.findall(r\"be+t\", t))"
   ]
  },
  {
   "cell_type": "code",
   "execution_count": null,
   "metadata": {},
   "outputs": [],
   "source": [
    "# excactly once\n",
    "for t in testStrings:\n",
    "    print(re.findall(r\"be{1}t\", t))"
   ]
  },
  {
   "cell_type": "code",
   "execution_count": null,
   "metadata": {},
   "outputs": [],
   "source": [
    "# at least 1, no more than 2\n",
    "for t in testStrings:\n",
    "    print(re.findall(r\"be{1,2}t\", t))"
   ]
  },
  {
   "cell_type": "code",
   "execution_count": null,
   "metadata": {},
   "outputs": [],
   "source": [
    "# Zere or One\n",
    "for t in testStrings:\n",
    "    print(re.findall(r\"be?t\", t))"
   ]
  },
  {
   "cell_type": "markdown",
   "metadata": {},
   "source": [
    "## Groups in Regex\n",
    "\n",
    "You can group elements of regex by enclosing them in parantheses `()`. By default, groups are also captured in addition to the whole regular expression. In other words, a regex `Match` object will store the textual value of the complete match as well as textual values of the patterns specified in group. Groups can be thought of as regex subpatterns. (Note: To turn off group capturing, you would use the syntax `(?:)` to start the group.\n",
    "\n",
    "Let's look at a few examples."
   ]
  },
  {
   "cell_type": "code",
   "execution_count": null,
   "metadata": {},
   "outputs": [],
   "source": [
    "assets = \"Total Assets = $10,000,000\""
   ]
  },
  {
   "cell_type": "code",
   "execution_count": null,
   "metadata": {},
   "outputs": [],
   "source": [
    "for i in re.finditer(r\"Total Assets = (\\$[\\d,\\.]+)\\b\", assets):\n",
    "    print(i)\n",
    "    print(i.groups())"
   ]
  },
  {
   "cell_type": "markdown",
   "metadata": {},
   "source": [
    "## Look Ahead and Look Behind in Regex\n",
    "\n",
    "One of the powerful characteristics of regex is that it is possible to check whether a regex item is followed by a certain pattern without including that pattern in the resulting match. ***Positive look ahead*** checks whether a regex item is followed by a given pattern using the syntax `(?=pattern)`. ***Negative look ahead***, denoted by `(?!pattern)`, checks whether a regex item is **not** followed by a given pattern.\n",
    "\n",
    "We can also check to see if a regex item is preceded (or not) by a certain pattern without including that pattern in the output match. ***Positive look behind*** checks whether a regex item is preceded by a given pattern using the syntax `(?<=pattern)`. ***Negative look behind***, denoted `(?<!pattern)`, checks whether a regex item is **not** preceded by a given pattern.\n",
    "\n",
    "Let's look a few examples."
   ]
  },
  {
   "cell_type": "code",
   "execution_count": null,
   "metadata": {},
   "outputs": [],
   "source": [
    "names = [\"filename.txt\", \"filename.csv\"]"
   ]
  },
  {
   "cell_type": "code",
   "execution_count": null,
   "metadata": {},
   "outputs": [],
   "source": [
    "# Does .txt follow \"filename\"?\n",
    "for i in names:\n",
    "    print(re.findall(r\"filename(?=.txt)\", i))"
   ]
  },
  {
   "cell_type": "code",
   "execution_count": null,
   "metadata": {},
   "outputs": [],
   "source": [
    "# Does .txt NOT follow \"filename\"?\n",
    "for i in names:\n",
    "    print(re.findall(r\"filename(?!.txt)\", i))"
   ]
  },
  {
   "cell_type": "code",
   "execution_count": null,
   "metadata": {},
   "outputs": [],
   "source": [
    "years = [\"year 2020\", \"series 2020\"]"
   ]
  },
  {
   "cell_type": "code",
   "execution_count": null,
   "metadata": {},
   "outputs": [],
   "source": [
    "# Does \"year \" (with space) show up before 4 consecutive digits?\n",
    "for y in years:\n",
    "    print(re.findall(r\"(?<=year\\s)\\d{4}\", y))"
   ]
  },
  {
   "cell_type": "code",
   "execution_count": null,
   "metadata": {},
   "outputs": [],
   "source": [
    "# Does \"year \" (with space) NOT show up before 4 consecutive digits?\n",
    "for y in years:\n",
    "    print(re.findall(r\"(?<!year\\s)\\d{4}\", y))"
   ]
  }
 ],
 "metadata": {
  "kernelspec": {
   "display_name": "Python 3",
   "language": "python",
   "name": "python3"
  },
  "language_info": {
   "codemirror_mode": {
    "name": "ipython",
    "version": 3
   },
   "file_extension": ".py",
   "mimetype": "text/x-python",
   "name": "python",
   "nbconvert_exporter": "python",
   "pygments_lexer": "ipython3",
   "version": "3.8.5"
  }
 },
 "nbformat": 4,
 "nbformat_minor": 4
}
