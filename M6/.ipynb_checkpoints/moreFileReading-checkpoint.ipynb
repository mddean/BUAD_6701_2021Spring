{
 "cells": [
  {
   "cell_type": "markdown",
   "metadata": {},
   "source": [
    "# More About Reading Files\n",
    "\n",
    "We've seen rudimentary, yet very effective, ways to read data from files. Here we want to explore how to read **multiple** files from a directory. There is directory called `data` that contains several text files. We want to be able to read all of those in and then do some basic tasks.\n",
    "\n",
    "We will need to load the `os` module to allow us to traverse the directory structure."
   ]
  },
  {
   "cell_type": "code",
   "execution_count": null,
   "metadata": {},
   "outputs": [],
   "source": [
    "import os"
   ]
  },
  {
   "cell_type": "code",
   "execution_count": null,
   "metadata": {},
   "outputs": [],
   "source": [
    "# Look at files in the current working directory\n",
    "os.listdir()"
   ]
  },
  {
   "cell_type": "markdown",
   "metadata": {},
   "source": [
    "So, we see `.listdir()` returns a list of **all** the files in the directory passed in. In this case, we did not send in a specific directory, so it looked in the same directory / folder where our Jupyter Notebook resides (i.e., the current working directory). Now, let's look in the `data` subdirectory. To do, so we pass in the string `./data` to tell it that we want to look in subdirectory `data` from the current directory (the `.`). "
   ]
  },
  {
   "cell_type": "code",
   "execution_count": null,
   "metadata": {},
   "outputs": [],
   "source": [
    "# See what files are in the data subfolder\n",
    "os.listdir(\"./data\")"
   ]
  },
  {
   "cell_type": "markdown",
   "metadata": {},
   "source": [
    "What happens if we try to access a directory that does not exist?"
   ]
  },
  {
   "cell_type": "code",
   "execution_count": null,
   "metadata": {},
   "outputs": [],
   "source": [
    "# Subfolder answers does not exist\n",
    "os.listdir(\"./answers\")"
   ]
  },
  {
   "cell_type": "markdown",
   "metadata": {},
   "source": [
    "And what happens if we don't proceed the subdirectory with `./`?"
   ]
  },
  {
   "cell_type": "code",
   "execution_count": null,
   "metadata": {},
   "outputs": [],
   "source": [
    "# Try just \"data\"\n",
    "os.listdir(\"data\")"
   ]
  },
  {
   "cell_type": "markdown",
   "metadata": {},
   "source": [
    "What happened? Why? What if try `/data` - without the period?"
   ]
  },
  {
   "cell_type": "code",
   "execution_count": null,
   "metadata": {},
   "outputs": [],
   "source": [
    "os.listdir(\"/data\")"
   ]
  },
  {
   "cell_type": "markdown",
   "metadata": {},
   "source": [
    "In general, it is better to explicitly specify the subdirector is from the current directory with the syntax `./data` - with the period. The `.` means current working directory. You can use double periods, `..`, if you want to go up one folder. Let's try it."
   ]
  },
  {
   "cell_type": "code",
   "execution_count": null,
   "metadata": {},
   "outputs": [],
   "source": [
    "os.listdir(\"..\")"
   ]
  },
  {
   "cell_type": "markdown",
   "metadata": {},
   "source": [
    "If you want to check to see what current working directory you are in, you can call `os.getcwd()`."
   ]
  },
  {
   "cell_type": "code",
   "execution_count": null,
   "metadata": {},
   "outputs": [],
   "source": [
    "os.getcwd()"
   ]
  },
  {
   "cell_type": "markdown",
   "metadata": {},
   "source": [
    "There is also a method called `.scandir()` which will return a iterator of (`os.DirEntry`)[https://docs.python.org/3/library/os.html#os.DirEntry] objects. Each of those objects contain other information about each file that might be useful if you really get into a lot of I/O coding. Here, I just show it to let you know that it exists."
   ]
  },
  {
   "cell_type": "code",
   "execution_count": null,
   "metadata": {},
   "outputs": [],
   "source": [
    "# Loop over the results of os.scandir()\n",
    "for i in os.scandir():\n",
    "    print(f\"i={i}       i.name={i.name}\")"
   ]
  },
  {
   "cell_type": "markdown",
   "metadata": {},
   "source": [
    "----\n",
    "\n",
    "## Looping Over Files in Directory\n",
    "\n",
    "Because we can get a list of all the files (and **subfolders**) back as a list, we can easily iterate over that list and read each file. Let's try it."
   ]
  },
  {
   "cell_type": "code",
   "execution_count": null,
   "metadata": {},
   "outputs": [],
   "source": [
    "# capture list in variable named dataFiles\n",
    "dataFiles = os.listdir(\"./data\")\n",
    "\n",
    "# Use a for loop to iterate over the files, one at a time\n",
    "for file in dataFiles:\n",
    "    # print out file we are reading\n",
    "    print(\"File we are trying to open and read:\", file)\n",
    "    with open(\"./data/\"+file) as f:\n",
    "        # Just print out the contents of each file after file name\n",
    "        print(f.read())\n",
    "        print(\"\\n\\n\")"
   ]
  },
  {
   "cell_type": "markdown",
   "metadata": {},
   "source": [
    "----\n",
    "\n",
    "<font color='red' size = '5'> Student Exercise </font>\n",
    "\n",
    "## Doing Something With Stuff You Read In\n",
    "\n",
    "There is a file called `states.csv` in the subdirectory `./data`. There are 5 fields: State, Population, Electoral Votes, Highway Miles, and Square Miles. Each line represents one of the states in the United States.\n",
    "\n",
    "### Task\n",
    "\n",
    "Read in the file and create a list called `sums` which should contain the sum of the data elements in this order:\n",
    "\n",
    "1. Sum of the states' population\n",
    "2. Sum of the states' electoral votes\n",
    "3. Sum of the states' highway miles\n",
    "4. Sum of the states' square miles"
   ]
  }
 ],
 "metadata": {
  "kernelspec": {
   "display_name": "Python 3",
   "language": "python",
   "name": "python3"
  },
  "language_info": {
   "codemirror_mode": {
    "name": "ipython",
    "version": 3
   },
   "file_extension": ".py",
   "mimetype": "text/x-python",
   "name": "python",
   "nbconvert_exporter": "python",
   "pygments_lexer": "ipython3",
   "version": "3.8.5"
  }
 },
 "nbformat": 4,
 "nbformat_minor": 4
}
