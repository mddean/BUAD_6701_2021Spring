{
 "cells": [
  {
   "cell_type": "markdown",
   "metadata": {},
   "source": [
    "# Introduction to String Manipulation and Reading Files\n",
    "\n",
    "We'll re-examine some of the basic string manipulation we have seen before and then move on to regular expressions.\n",
    "\n",
    "## String Manipulation\n",
    "\n",
    "Recall that a string object in Python is technically a sequence of characters. We can access elements of a string the same way access elements of any sequence, with the square bracket notation and index, `[index]`. Indexing starts at 0."
   ]
  },
  {
   "cell_type": "code",
   "execution_count": null,
   "metadata": {},
   "outputs": [],
   "source": [
    "# Create a silly string\n",
    "s = \"This is just a silly string that contains all kinds of nonsense.\""
   ]
  },
  {
   "cell_type": "code",
   "execution_count": null,
   "metadata": {},
   "outputs": [],
   "source": [
    "# Let's see how long the string is\n",
    "print(f\"The string s is {len(s)} characters long.\")"
   ]
  },
  {
   "cell_type": "code",
   "execution_count": null,
   "metadata": {},
   "outputs": [],
   "source": [
    "# Iterate through the string using a basic for loop\n",
    "# This will print each character on a separate line\n",
    "for char in s:\n",
    "    print(char)"
   ]
  },
  {
   "cell_type": "code",
   "execution_count": null,
   "metadata": {},
   "outputs": [],
   "source": [
    "# Another way to iterate through the string\n",
    "for i in range(len(s)):\n",
    "    print(f\"The character returned by calling s[{i}] is {s[i]}\")"
   ]
  },
  {
   "cell_type": "code",
   "execution_count": null,
   "metadata": {},
   "outputs": [],
   "source": [
    "# You can also slice a string\n",
    "print(f\"s[4:9] = {s[4:9]}\")"
   ]
  },
  {
   "cell_type": "code",
   "execution_count": null,
   "metadata": {},
   "outputs": [],
   "source": [
    "# Starting at far right-hand-side and going left\n",
    "print(f\"s[-1:-5:-1] = {s[-1:-5:-1]}\")"
   ]
  },
  {
   "cell_type": "code",
   "execution_count": null,
   "metadata": {},
   "outputs": [],
   "source": [
    "# What if I wanted to completely reverse the sentence?\n",
    "# YOUR CODE HERE"
   ]
  },
  {
   "cell_type": "code",
   "execution_count": null,
   "metadata": {},
   "outputs": [],
   "source": [
    "# Changing the case of a string\n",
    "print(f\"s.lower() = {s.lower()}\")\n",
    "print(f\"s.upper() = {s.upper()}\")"
   ]
  },
  {
   "cell_type": "markdown",
   "metadata": {},
   "source": [
    "### Searching Within a String\n",
    "\n",
    "We can also search within a string using some built-in methods. The method `.find()` will return the index of the first occurrence of the substring you pass to it. It will return `-1` if it does not find the substring. There are optional arguments that lets you specify within the range `[start, end]`."
   ]
  },
  {
   "cell_type": "code",
   "execution_count": null,
   "metadata": {},
   "outputs": [],
   "source": [
    "# Find the first occurrence of \"a\"\n",
    "s.lower().find(\"a\")"
   ]
  },
  {
   "cell_type": "code",
   "execution_count": null,
   "metadata": {},
   "outputs": [],
   "source": [
    "# Find the first occurrence of \"that\"\n",
    "s.lower().find(\"that\")"
   ]
  },
  {
   "cell_type": "code",
   "execution_count": null,
   "metadata": {},
   "outputs": [],
   "source": [
    "# Find the first occurrence of \"these\"\n",
    "# \"these\" is not in the string s, so we get back -1\n",
    "s.lower().find(\"these\")"
   ]
  },
  {
   "cell_type": "code",
   "execution_count": null,
   "metadata": {},
   "outputs": [],
   "source": [
    "# See if there is another \"a\" after the first one we found before\n",
    "# Not giving an \"end\" will assume from start to the end of the string\n",
    "# Where is the first occurrence of \"a\" starting from index 14?\n",
    "s.lower().find(\"a\", 14)"
   ]
  },
  {
   "cell_type": "code",
   "execution_count": null,
   "metadata": {},
   "outputs": [],
   "source": [
    "# Any \"a\" between index 14 and 30\n",
    "s.lower().find(\"a\", 14, 30)"
   ]
  },
  {
   "cell_type": "markdown",
   "metadata": {},
   "source": [
    "So, the argument `end` is **exclusive**. Try changing the end to 31."
   ]
  },
  {
   "cell_type": "code",
   "execution_count": null,
   "metadata": {},
   "outputs": [],
   "source": [
    "s.lower().find(\"a\", 14, 31)"
   ]
  },
  {
   "cell_type": "markdown",
   "metadata": {},
   "source": [
    "We also have the convenience methods of `startswith()` and `endswith()` that return `True` or `False`."
   ]
  },
  {
   "cell_type": "code",
   "execution_count": null,
   "metadata": {},
   "outputs": [],
   "source": [
    "s.lower().startswith(\"in the\")"
   ]
  },
  {
   "cell_type": "code",
   "execution_count": null,
   "metadata": {},
   "outputs": [],
   "source": [
    "s.lower().startswith(\"this\")"
   ]
  },
  {
   "cell_type": "code",
   "execution_count": null,
   "metadata": {},
   "outputs": [],
   "source": [
    "s.lower().endswith(\".\")"
   ]
  },
  {
   "cell_type": "code",
   "execution_count": null,
   "metadata": {},
   "outputs": [],
   "source": [
    "s.lower().endswith(\"sense.\")"
   ]
  },
  {
   "cell_type": "code",
   "execution_count": null,
   "metadata": {},
   "outputs": [],
   "source": [
    "# Is the string s lower case? What if you call .lower()?\n",
    "print(f\"s.islower() = {s.islower()}\")\n",
    "print(f\"s.lower().islower() = {s.lower().islower()}\")"
   ]
  },
  {
   "cell_type": "markdown",
   "metadata": {},
   "source": [
    "#### Checking Character Contents of String\n",
    "\n",
    "We can check to see if the string contains only alphabetical characters, only digits, or only alphanumerical characters."
   ]
  },
  {
   "cell_type": "code",
   "execution_count": null,
   "metadata": {},
   "outputs": [],
   "source": [
    "# Does s contain only alphabetical characters?\n",
    "s.lower().isalpha()"
   ]
  },
  {
   "cell_type": "code",
   "execution_count": null,
   "metadata": {},
   "outputs": [],
   "source": [
    "# Does s contain only digits?\n",
    "s.lower().isdigit()"
   ]
  },
  {
   "cell_type": "code",
   "execution_count": null,
   "metadata": {},
   "outputs": [],
   "source": [
    "# Does s contain only alphanumeric characters?\n",
    "s.lower().isalnum()"
   ]
  },
  {
   "cell_type": "markdown",
   "metadata": {},
   "source": [
    "Those all came back `False`. There are two reasons:\n",
    "\n",
    "1. There are spaces in the string (whitespace).\n",
    "2. There is a period at the end of the sentence.\n",
    "\n",
    "So, let's try another string to test our intuition."
   ]
  },
  {
   "cell_type": "code",
   "execution_count": null,
   "metadata": {},
   "outputs": [],
   "source": [
    "# testing out .isalpha(), .isalnum(), etc.\n",
    "test = \"1234abcd\"\n",
    "\n",
    "# YOUR CODE\n",
    "# print out various tests on the string test"
   ]
  },
  {
   "cell_type": "markdown",
   "metadata": {},
   "source": [
    "Let's go back to our original string `s` and remove the spaces and put the string in lower case."
   ]
  },
  {
   "cell_type": "code",
   "execution_count": null,
   "metadata": {},
   "outputs": [],
   "source": [
    "# Put in lower case and remove the spaces\n",
    "removeSpaces = \"\".join(s.lower().split())\n",
    "removeSpaces"
   ]
  },
  {
   "cell_type": "code",
   "execution_count": null,
   "metadata": {},
   "outputs": [],
   "source": [
    "# What happens when we call .isalpha() now?\n",
    "removeSpaces.isalpha()"
   ]
  },
  {
   "cell_type": "code",
   "execution_count": null,
   "metadata": {},
   "outputs": [],
   "source": [
    "# Doesn't like the period (\".\")\n",
    "# Let's remove it with rstrip() and try again\n",
    "removeSpaces.rstrip(\".\").isalpha()"
   ]
  },
  {
   "cell_type": "markdown",
   "metadata": {},
   "source": [
    "#### Splitting and Joining Strings\n",
    "\n",
    "We just saw how to split a string an join it back together. By default, the when you call `split()` with no arguments, it will use whitespace as the delimiter for splitting the string. For our sentence `s` that is what we wanted. We then used `join` passing it the list of split words, specifying that there should be no characters between the elements of the list (each word in our case) when joining them. \n",
    "\n",
    "Now, let's create a new string and by joining the split original string with a new character `|`. Then, we'll try to split it using that delimiter."
   ]
  },
  {
   "cell_type": "code",
   "execution_count": null,
   "metadata": {},
   "outputs": [],
   "source": [
    "# Split s after making it lower case\n",
    "splitS = s.lower().split()\n",
    "print(splitS)"
   ]
  },
  {
   "cell_type": "code",
   "execution_count": null,
   "metadata": {},
   "outputs": [],
   "source": [
    "# Create a newS string that joins all of the elements in the\n",
    "# list with a pipe symbol \"|\" between each element\n",
    "newS = \"|\".join(splitS)\n",
    "print(newS)"
   ]
  },
  {
   "cell_type": "code",
   "execution_count": null,
   "metadata": {},
   "outputs": [],
   "source": [
    "# Now split the newS using the new delimiter\n",
    "newS.split(\"|\")"
   ]
  },
  {
   "cell_type": "markdown",
   "metadata": {},
   "source": [
    "## Reading from Files\n",
    "\n",
    "We've already seen how useful `pandas` can be for reading in .csv file and .xlsx files. These file are often **structured** data. There are many times when we have unstructured data in files that we also want to analyze. For example, we might want to parse emails, HTML (Hyper Text Markup Language), or JSON (JavaScript Object Notation) files. Each of these file types do have a structure to them, but not it is often not **tabular** like we saw with our .csv and Excel files. What this generally means is that we often will need to manually examine a representative sample of the file types that we want to parse to help us write code that will automate the task of \"reading\" these files."
   ]
  },
  {
   "cell_type": "markdown",
   "metadata": {},
   "source": [
    "### Reading Files\n",
    "\n",
    "There are several ways to read a file in. At the most basic you can use the method `open()`.\n",
    "\n",
    "- [`open()`](https://docs.python.org/3/library/functions.html#open) returns a [file object](https://docs.python.org/3/glossary.html#term-file-object), and is most commonly used with two arguments: `open(filename, mode)`.\n",
    "- Using the [`with`](https://docs.python.org/3/reference/compound_stmts.html#with) keyword. It is good practice to use the `with` keyword when dealing with file objects. The advantage is that the file is properly closed after its suite finishes, even if an exception is raised at some point. Using with is also much shorter than writing equivalent `try-finally` blocks.\n",
    "\n",
    "Once the file is open, you can call `read()` which will try to read the entire file. You can also read one line at a time with `readline()`."
   ]
  },
  {
   "cell_type": "markdown",
   "metadata": {},
   "source": [
    "### HTML file\n",
    "\n",
    "Let's look at a simple HTML file. All we are going to do is open the file, read in its content, covert it all to lower case, store it in the variable `inputText`, and then explicitly close the file. We can then print the `inputText` to see what was in the file. We'll do it two ways."
   ]
  },
  {
   "cell_type": "code",
   "execution_count": null,
   "metadata": {},
   "outputs": [],
   "source": [
    "# 1. With open()\n",
    "f = open(\"sample.html\", \"r\")\n",
    "inputText = f.read().lower()\n",
    "# Explicitly close the file \n",
    "f.close()\n",
    "\n",
    "print(inputText)"
   ]
  },
  {
   "cell_type": "code",
   "execution_count": null,
   "metadata": {},
   "outputs": [],
   "source": [
    "# 1b. Read each line one at a time\n",
    "f2 = open(\"sample.html\", \"r\")\n",
    "print(\"line 1:\", f2.readline(), end=\"\")\n",
    "print(\"line 2:\", f2.readline(), end=\"\")\n",
    "print(\"line 3:\", f2.readline(), end=\"\")\n",
    "    \n",
    "f2.close()"
   ]
  },
  {
   "cell_type": "code",
   "execution_count": null,
   "metadata": {},
   "outputs": [],
   "source": [
    "# 1c. Iterate over the file one line at a time\n",
    "f3 = open(\"sample.html\", \"r\")\n",
    "for line in f3:\n",
    "    print(line, end=\"\")\n",
    "    \n",
    "f3.close()"
   ]
  },
  {
   "cell_type": "code",
   "execution_count": null,
   "metadata": {},
   "outputs": [],
   "source": [
    "# 2. Use with statement\n",
    "with open(\"sample.html\", \"r\") as f4:\n",
    "    inputText = f4.read().lower()\n",
    "    \n",
    "\n",
    "# We did not explicitly close the file, is it closed?\n",
    "print(f4.closed)\n",
    "print(inputText)"
   ]
  },
  {
   "cell_type": "markdown",
   "metadata": {},
   "source": [
    "#### Splitting Lines\n",
    "\n",
    "We saw earlier that we could split a string into pieces using whitespace as the delimiter (by default) with `split()`. There is another way to split -- `splitlines()` which uses newline characters to split. Let's try both with our `inputText` variable."
   ]
  },
  {
   "cell_type": "code",
   "execution_count": null,
   "metadata": {},
   "outputs": [],
   "source": [
    "inputText.split()"
   ]
  },
  {
   "cell_type": "code",
   "execution_count": null,
   "metadata": {},
   "outputs": [],
   "source": [
    "inputText.splitlines()"
   ]
  },
  {
   "cell_type": "markdown",
   "metadata": {},
   "source": [
    "### Text Files\n",
    "\n",
    "Reading a text file (.txt) can be done just like we did with the HTML file. The preferred method is by using the `with` statement because it will close the file for us and forces us to think in the **context** of working with the file when it is open. That is, whatever code we put in the `with` statement will be executed with the file open which can be costly in terms of memory and processing time. \n",
    "\n"
   ]
  },
  {
   "cell_type": "code",
   "execution_count": null,
   "metadata": {},
   "outputs": [],
   "source": [
    "with open(\"wordDoc.txt\", \"r\") as textFile:\n",
    "    myText = textFile.read()\n",
    "    \n",
    "print(myText)"
   ]
  },
  {
   "cell_type": "markdown",
   "metadata": {},
   "source": [
    "Let's split `myText` using `splitlines()` after changing the case to lower case. We'll use a `for` loop to iterate over each element in the returned list."
   ]
  },
  {
   "cell_type": "code",
   "execution_count": null,
   "metadata": {},
   "outputs": [],
   "source": [
    "for line in myText.lower().splitlines():\n",
    "    print(\"line is:\\n\", line, sep=\"\")\n",
    "    print()"
   ]
  },
  {
   "cell_type": "markdown",
   "metadata": {},
   "source": [
    "----\n",
    "\n",
    "<font color='red' size = '5'> Student Exercise </font>\n",
    "\n",
    "You have been given a .txt file that contains an article from the *New York Times* called `nyTimes.txt`. In the **Code** cells below, do the following:\n",
    "\n",
    "1. Read the data from .txt file into a variable called `article` and print it out.\n",
    "2. How many characters are in the article?\n",
    "3. Approximately, how many words are in the article?\n",
    "4. Which words show up the most? \n",
    "\n",
    "-----"
   ]
  },
  {
   "cell_type": "code",
   "execution_count": null,
   "metadata": {},
   "outputs": [],
   "source": [
    "# 1. Read in the file to variable article\n"
   ]
  },
  {
   "cell_type": "code",
   "execution_count": null,
   "metadata": {},
   "outputs": [],
   "source": [
    "# 2. How many characters in article?\n"
   ]
  },
  {
   "cell_type": "code",
   "execution_count": null,
   "metadata": {},
   "outputs": [],
   "source": [
    "# 3. Approximately, how many words in article? \n"
   ]
  },
  {
   "cell_type": "code",
   "execution_count": null,
   "metadata": {},
   "outputs": [],
   "source": [
    "# 4. Which words show up the most? \n"
   ]
  }
 ],
 "metadata": {
  "kernelspec": {
   "display_name": "Python 3",
   "language": "python",
   "name": "python3"
  },
  "language_info": {
   "codemirror_mode": {
    "name": "ipython",
    "version": 3
   },
   "file_extension": ".py",
   "mimetype": "text/x-python",
   "name": "python",
   "nbconvert_exporter": "python",
   "pygments_lexer": "ipython3",
   "version": "3.8.5"
  }
 },
 "nbformat": 4,
 "nbformat_minor": 4
}
