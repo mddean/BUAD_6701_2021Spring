{
 "cells": [
  {
   "cell_type": "markdown",
   "metadata": {},
   "source": [
    "# M6: Introduction to Text Analysis\n",
    "\n",
    "So far we have been focusing our analysis mostly on **structured** data. For that task, we have been using our good friend `pandas`. As you can probably surmise, structured and tidy data is often only arrived at after much data wrangling and munging. There are also many situations where you want to analyze more unstructured types of data, in particular text data. Examples include things like: sentiment analysis from online customer reviews, common themes in customer service trouble tickets worked on by our customer service representatives, and finding irregularities in emails.\n",
    "\n",
    "Like everything else we have explored so far, text analysis is a vast topic that we will only scratch the surface of.\n",
    "\n",
    "## Learning Objectives\n",
    "\n",
    "#### By the end of this module, you should be able to:\n",
    "\n",
    "- perform some rudimentary exploratory data analysis using visualization\n",
    "- create visualizations using `matplotlib` \n",
    "- create basic plots using `pandas`\n",
    "- create visualizations using `seaborn`\n",
    "\n",
    "\n",
    "### Activities\n",
    "\n",
    "| Activities                | \n",
    "| :--------------------------------------- | \n",
    "| **[Module 6: Introduction to String Manipulation and Reading Files][nb1]** |\n",
    "| **[Module 6: Introduction to Regular Expressions][nb2]** |\n",
    "\n",
    "\n",
    "\n",
    "[nb1]: introToString.ipynb\n",
    "[nb2]: introToRegex.ipynb"
   ]
  },
  {
   "cell_type": "markdown",
   "metadata": {},
   "source": [
    "### Ancillary Material\n",
    "\n",
    "1. Regular Expression [`HOWTO`][1].\n",
    "2. The [official documentation][2] for `re`.\n",
    "3. A [website][3] that let's you test out regular expressions.\n",
    "4. W3Schools [website][4] for Python's regular expressions.\n",
    "5. [*Mastering Regular Expressions*][5] book. (Full-text available online through W&M libraries.)\n",
    "\n",
    "-----\n",
    "\n",
    "[1]: https://docs.python.org/3/howto/regex.html\n",
    "[2]: https://docs.python.org/3/library/re.html\n",
    "[3]: http://www.regular-expressions.info/\n",
    "[4]: https://www.w3schools.com/python/python_regex.asp\n",
    "[5]: https://www.oreilly.com/library/view/mastering-regular-expressions/0596528124/"
   ]
  },
  {
   "cell_type": "markdown",
   "metadata": {
    "deletable": false,
    "editable": false
   },
   "source": [
    "**&copy; 2021 - Present: Matthew D. Dean, Ph.D.   \n",
    "Clinical Associate Professor of Business Analytics at William \\& Mary.**"
   ]
  }
 ],
 "metadata": {
  "kernelspec": {
   "display_name": "Python 3",
   "language": "python",
   "name": "python3"
  },
  "language_info": {
   "codemirror_mode": {
    "name": "ipython",
    "version": 3
   },
   "file_extension": ".py",
   "mimetype": "text/x-python",
   "name": "python",
   "nbconvert_exporter": "python",
   "pygments_lexer": "ipython3",
   "version": "3.8.5"
  }
 },
 "nbformat": 4,
 "nbformat_minor": 4
}
