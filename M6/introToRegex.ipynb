{
 "cells": [
  {
   "cell_type": "markdown",
   "metadata": {},
   "source": [
    "# Introduction to Regular Expressions\n",
    "\n",
    "We've seen some useful and powerful methods of the Python `str` type for formatting, splitting, and manipulation. We have seen that those methods might have some drawbacks. For example, when we split a string the resulting list contains **mostly** words. However, they are **mostly** words because there may be trailing punctuation marks such as commas or periods attached to the word. The good news is that we have a more powerful tool at our disposal called *regular expressions* or *regex* for short. \n",
    "\n",
    "Regular expressions are a huge topic. In fact, there are entire books written on the topic. Therefore, we are only going to be able to touch the surface. We'll see examples that should give you a glimpse into the power of regular expressions and how they can be used across various scenarios. \n",
    "\n",
    "One way to think of regular expressions is that they are simply a way conduct *flexible pattern matching* in strings. If you have any experience with Unix or Linux and use the command line, then you are probably familiar with the wildcard character `*`. For example, if want a listing of all the `.txt` files in a directory, on a Linux machine we would issue the command `ls *.txt`. On a Windows machine we would similarly use `dir *.txt`. We can access command line commands from Jupyter Notebooks by preceding the command with the exclamation mark, `!`. Let's try it."
   ]
  },
  {
   "cell_type": "code",
   "execution_count": null,
   "metadata": {},
   "outputs": [],
   "source": [
    "# can use dir on a Windows machine\n",
    "!dir *.txt\n",
    "\n",
    "# can use ls on Linux machine\n",
    "#!ls *.txt"
   ]
  },
  {
   "cell_type": "markdown",
   "metadata": {},
   "source": [
    "Regular expressions are more than just using wildcards; there are a wide range of flexible string-matching syntaxes. To use regular expressions in Python, you use the built-in `re` module. Using regular expressions we could duplicate some of the built-in string methods like `split()`. The advantage of learning and using regular expressions is that they are **much more flexible**.  "
   ]
  },
  {
   "cell_type": "markdown",
   "metadata": {},
   "source": [
    "## Commonly Used Functions\n",
    "\n",
    "Within the `re` module there are many useful methods/functions. Here are some of the most commonly used ones:\n",
    "\n",
    "- `re.search(pattern, string)` scans through a string looking for the first location where the `pattern` matches; output is a `Match` object if there is a match or `None` otherwise.\n",
    "- `re.findall(pattern, string)` returns all substrings where the `pattern` is matches and returns them as a list.\n",
    "- `re.split(pattern, string)` splits a string at every match of the `pattern` and returns a list of strings. \n",
    "- `re.sub(pattern, repl, string)` finds all matches of `pattern` in `string` and replaces them with `repl`.\n",
    "\n",
    "When creating the regular expressions (i.e., the patterns) you often use raw literal strings by preceding the string with `r`. For example, we might call `re.search(r\"pattern\", string)`. Recall, that raw literal strings treat backslashes as backslashes instead to trying to convert to special characters. If we used `r\"\\n\"` as the pattern, it would look for a backslash followed by the character `n`, whereas the pattern `\"\\n\"` would look for newlines."
   ]
  },
  {
   "cell_type": "markdown",
   "metadata": {},
   "source": [
    "## Syntax\n",
    "\n",
    "You need to `import re` to get started. You then need to come up with an expression and compile it. When you compile the regular expression into a pattern object, that object then has methods for various operations such as searching for pattern matches or performing string substitutions. The most commonly used methods are:\n",
    "\n",
    "| Method/Attribute | Purpose                | \n",
    "| :----------------|:----------------------- | \n",
    "| `match()` | Determine if the regular expression matches at the beginning of the string. |\n",
    "| `search()` | Scan through a string, looking for any location where this RE matches. |\n",
    "| `findall()` | Find all substrings where the RE matches, and returns them as a list. |\n",
    "| `finditer()` | Find all substrings where the RE matches, and returns them as an [iterator](https://docs.python.org/3/glossary.html#term-iterator). |\n",
    "\n",
    "Let's start with a simple example where we build a regular expression with a simple string of characters. It will match that exact string."
   ]
  },
  {
   "cell_type": "code",
   "execution_count": null,
   "metadata": {},
   "outputs": [],
   "source": [
    "import re"
   ]
  },
  {
   "cell_type": "code",
   "execution_count": null,
   "metadata": {},
   "outputs": [],
   "source": [
    "# build and compile the regular expression to look for \"tart\"\n",
    "regex = re.compile(\"tart\")\n",
    "s = \"What starts as tart never turns sweet.\"\n",
    "\n",
    "# Search for regex in s; if found get Match object\n",
    "regex.search(s)"
   ]
  },
  {
   "cell_type": "code",
   "execution_count": null,
   "metadata": {},
   "outputs": [],
   "source": [
    "# Find all of the matches in s\n",
    "regex.findall(s)"
   ]
  },
  {
   "cell_type": "markdown",
   "metadata": {},
   "source": [
    "Notice that a `list` is returned with all of the matches. You can see how many were found by looking at the length of the returned list. "
   ]
  },
  {
   "cell_type": "code",
   "execution_count": null,
   "metadata": {},
   "outputs": [],
   "source": [
    "listOfMatches = regex.findall(s)\n",
    "print(f\"We found {len(listOfMatches)} matches\")\n",
    "print(f\"listOfMatches:\\n{listOfMatches}\")"
   ]
  },
  {
   "cell_type": "markdown",
   "metadata": {},
   "source": [
    "### Characters and Character Sets\n",
    "\n",
    "#### Special Characters\n",
    "\n",
    "There are several special purpose characters in regular expressions. These include: `.`, `^`, `$`, `*`, `+`, `?`, `{`, `}`, `[`, `]`, `\\`, `|`, `(`, and `)`. For a special character to be treated literally, you need to add a backslash before that character. For example, `\\$` indicates the dollar sign. Let's look at few examples."
   ]
  },
  {
   "cell_type": "code",
   "execution_count": null,
   "metadata": {},
   "outputs": [],
   "source": [
    "earnings = \"Apple's earnings per share for the three months that ended in December 2020 was $5.67.\""
   ]
  },
  {
   "cell_type": "code",
   "execution_count": null,
   "metadata": {},
   "outputs": [],
   "source": [
    "# Try to find the string \"$5.67\"\n",
    "eRegex = re.compile(\"$5.67\")\n",
    "eRegex.findall(earnings)"
   ]
  },
  {
   "cell_type": "markdown",
   "metadata": {},
   "source": [
    "Well, that returned an empty `list` meaning that it was not found. Let's **escape** the dollar sign with a backslash and see if it will find it."
   ]
  },
  {
   "cell_type": "code",
   "execution_count": null,
   "metadata": {},
   "outputs": [],
   "source": [
    "# Try escaping the dollar sign by preceding it with a backslash\n",
    "eRegex = re.compile(\"\\$5.67\")\n",
    "eRegex.findall(earnings)"
   ]
  },
  {
   "cell_type": "markdown",
   "metadata": {},
   "source": [
    "#### Character Sets\n",
    "\n",
    "A *character set* allows you to specify a set of characters that will allow you to match any single character in that given set. To specify a character set, you use square brackets, `[` and `]`. For example, `[hik]` would match any one of the lower case letters `h`, `i`, and `k`. Some examples of character sets include:\n",
    "\n",
    "- `[a-z]` matches any lower case letter between `a` and `z`.\n",
    "- `[A-Z]` matches any upper case letter between `A` and `Z`. \n",
    "- `[a-zA-Z]` matches any letter, both lower case and upper case, in the English alphabet.\n",
    "- `[0-9]` matches a single digit between 0 and 9. \n",
    "\n",
    "You can also **negate** character sets by using the special character `^` inside the square brackets. For example, `[^a-z]` will match anything as long as it is **not** a lower case letter in the range of `a` to `z`. \n",
    "\n",
    "There are some built-in common character sets that have a shorthand notation. Examples include:\n",
    "\n",
    "- `.` matches any character except new line.\n",
    "- `\\d` matches any decimal digit (i.e., `[0-9]`).\n",
    "- `\\D` matches any **non-digit** character (i.e., `[^0-9]`).\n",
    "- `\\w` matches any alphanumeric character (i.e., `[a-zA-Z0-9_]`); also called a word character and includes digits and underscores.\n",
    "- `\\W` matches a **non-word** character (i.e., `[^a-zA-Z0-9_]`).\n",
    "- `\\s` matches any space, new line, tab, carriage return, etc. (i.e., whitespace; `[ \\t\\n\\r\\f\\v]`).\n",
    "- `\\S` matches everything but whitespace (i.e., `[^ \\t\\n\\r\\f\\v]`)."
   ]
  },
  {
   "cell_type": "code",
   "execution_count": null,
   "metadata": {},
   "outputs": [],
   "source": [
    "# Let's find all the digits in earnings string\n",
    "tempRegex = re.compile(\"\\d\")\n",
    "tempRegex.findall(earnings)"
   ]
  },
  {
   "cell_type": "code",
   "execution_count": null,
   "metadata": {},
   "outputs": [],
   "source": [
    "# Let's find all the non-digits in earnings string\n",
    "tempRegex = re.compile(\"\\D\")\n",
    "tempRegex.findall(earnings)"
   ]
  },
  {
   "cell_type": "code",
   "execution_count": null,
   "metadata": {},
   "outputs": [],
   "source": [
    "# What about whitespace\n",
    "tempRegex = re.compile(\"\\s\")\n",
    "tempRegex.findall(earnings)"
   ]
  },
  {
   "cell_type": "code",
   "execution_count": null,
   "metadata": {},
   "outputs": [],
   "source": [
    "# Non-word characters\n",
    "tempRegex = re.compile(\"\\W\")\n",
    "tempRegex.findall(earnings)"
   ]
  },
  {
   "cell_type": "code",
   "execution_count": null,
   "metadata": {},
   "outputs": [],
   "source": [
    "# Make a new pattern to search for\n",
    "# Any lower case letter\n",
    "p = re.compile(\"[a-z]\")\n",
    "p"
   ]
  },
  {
   "cell_type": "code",
   "execution_count": null,
   "metadata": {},
   "outputs": [],
   "source": [
    "# Match looks at the BEGINNING of the string\n",
    "m = p.match(earnings)\n",
    "print(m)\n",
    "if m:\n",
    "    print(m.group())"
   ]
  },
  {
   "cell_type": "code",
   "execution_count": null,
   "metadata": {},
   "outputs": [],
   "source": [
    "# Match looks at the BEGINNING of the string\n",
    "m = p.match(earnings.lower())\n",
    "print(m)\n",
    "if m:\n",
    "    print(m.group())"
   ]
  },
  {
   "cell_type": "markdown",
   "metadata": {},
   "source": [
    "The wildcard character is `*` and matches 0 or more characters. Alternatively, if you want to have at least 1 of the characters (instead of 0), then you can use the `+` character. Let's create two new regular expressions that examines how these special characters differ."
   ]
  },
  {
   "cell_type": "code",
   "execution_count": null,
   "metadata": {},
   "outputs": [],
   "source": [
    "# match 0 or more character between \n",
    "p1 = re.compile(\"be*t\")\n",
    "print(f\"p1 is {p1}\")\n",
    "\n",
    "p2 = re.compile(\"be+t\")\n",
    "print(f\"p2 is {p2}\")"
   ]
  },
  {
   "cell_type": "code",
   "execution_count": null,
   "metadata": {},
   "outputs": [],
   "source": [
    "# create a list of strings to search through\n",
    "bStrings = [\"b\", \"be\", \"bee\", \"bt\", \"bet\", \"beet\", \"beeet\"]"
   ]
  },
  {
   "cell_type": "code",
   "execution_count": null,
   "metadata": {},
   "outputs": [],
   "source": [
    "for i in bStrings:\n",
    "    if p1.match(i):\n",
    "        print(f\"p1 matched {i}\")\n",
    "        \n",
    "    if p2.match(i):\n",
    "        print(f\"p2 matched {i}\")"
   ]
  },
  {
   "cell_type": "markdown",
   "metadata": {},
   "source": [
    "We can try to split our earnings sentence into words. We saw earlier that we can just call `.split()` on the string itself. There are some draw backs to that approach, but it at least gives us an **approximation** of the words found in the string. We can also try to find all of the words using regular expressions. "
   ]
  },
  {
   "cell_type": "code",
   "execution_count": null,
   "metadata": {},
   "outputs": [],
   "source": [
    "print(f\"There are approximately {len(earnings.split())} words in earnings. Here they are:\\n{earnings.split()}\")"
   ]
  },
  {
   "cell_type": "markdown",
   "metadata": {},
   "source": [
    "In this case, this sentence does not have any quirks (e.g., dashes), so we get the correct answer by simply splitting on whitespace with `.split()`. On the other hand if our sentence was something like the one below, it will overcount the number of words."
   ]
  },
  {
   "cell_type": "code",
   "execution_count": null,
   "metadata": {},
   "outputs": [],
   "source": [
    "sent = \"Yet many vaccinated people continue to obsess over the risks from Covid — because they are so new and salient.\""
   ]
  },
  {
   "cell_type": "code",
   "execution_count": null,
   "metadata": {},
   "outputs": [],
   "source": [
    "print(f\"Count using split = {len(sent.split())}\")\n",
    "print(sent.split())"
   ]
  },
  {
   "cell_type": "markdown",
   "metadata": {},
   "source": [
    "Let's try with regular expressions. We know that `\\w` will give us \"words\", so try that first by finding them all."
   ]
  },
  {
   "cell_type": "code",
   "execution_count": null,
   "metadata": {},
   "outputs": [],
   "source": [
    "print(\"Count using \\\\w =\", len(re.findall(r'[\\w]+', earnings)))\n",
    "print(re.findall(r'[\\w]+', earnings))"
   ]
  },
  {
   "cell_type": "markdown",
   "metadata": {},
   "source": [
    "Well, that did not end up like we had hoped. Let's try putting word boundaries around it and include apostrophes."
   ]
  },
  {
   "cell_type": "code",
   "execution_count": null,
   "metadata": {},
   "outputs": [],
   "source": [
    "x = re.findall(r\"\\b[a-zA-Z\\'\\-]+\\b\", earnings)\n",
    "print(len(x))\n",
    "print(x)"
   ]
  },
  {
   "cell_type": "markdown",
   "metadata": {},
   "source": [
    "What happened now? We lost the year and the dollar amount. In some sense this is correct because these are the only *true words*. Much of which way you to count depends on what you are trying to accomplish. Let's try the other sentence and see what happens. "
   ]
  },
  {
   "cell_type": "code",
   "execution_count": null,
   "metadata": {},
   "outputs": [],
   "source": [
    "y = re.findall(r\"\\b[a-zA-Z\\'\\-]+\\b\", sent)\n",
    "print(len(y))\n",
    "print(y)"
   ]
  },
  {
   "cell_type": "markdown",
   "metadata": {},
   "source": [
    "For this particular sentence it looks like our regular expression worked the way hoped. It removed the dash. Notice also that in both cases, the last word: neither had the period attached to it which is probably what we want. \n",
    "\n",
    "Now, we create another \"sentence\" that contains a few characters that we haven't seen in our examples yet. Before running the code cell below the one defining `sent2`, take a minute to think about what you think will be included and excluded in the result of calling `findall()`. "
   ]
  },
  {
   "cell_type": "code",
   "execution_count": null,
   "metadata": {},
   "outputs": [],
   "source": [
    "sent2 = \"Here's another sentence; it contains some other hard-coded items: 1. here 2. maybe \\\n",
    "        this will be under_represented by some stuff! Maybe?\""
   ]
  },
  {
   "cell_type": "code",
   "execution_count": null,
   "metadata": {},
   "outputs": [],
   "source": [
    "z = re.findall(r\"\\b[a-zA-Z\\'\\-]+\\b\", sent2)\n",
    "print(len(z))\n",
    "print(z)"
   ]
  },
  {
   "cell_type": "markdown",
   "metadata": {},
   "source": [
    "### Try with File\n",
    "\n",
    "Now, let's try with our file from before `nyTimes.txt`. "
   ]
  },
  {
   "cell_type": "code",
   "execution_count": null,
   "metadata": {},
   "outputs": [],
   "source": [
    "with open(\"nyTimes_UTF8.txt\", \"r\", encoding=\"UTF8\") as ny:\n",
    "    nyt = ny.read()\n",
    "    \n",
    "# Find all \"words\" two ways\n",
    "# 1. with split on the string\n",
    "sWords = nyt.split()\n",
    "print(f\"Using .split() there were {len(sWords)} words\")\n",
    "\n",
    "\n",
    "# 2. with regex findall\n",
    "sWords2 = re.findall(r\"\\b[a-zA-Z\\'\\-]+\\b\", nyt)\n",
    "print(f\"Using regex there were {len(sWords2)}\")"
   ]
  },
  {
   "cell_type": "code",
   "execution_count": null,
   "metadata": {},
   "outputs": [],
   "source": [
    "print(sWords2)"
   ]
  }
 ],
 "metadata": {
  "kernelspec": {
   "display_name": "Python 3",
   "language": "python",
   "name": "python3"
  },
  "language_info": {
   "codemirror_mode": {
    "name": "ipython",
    "version": 3
   },
   "file_extension": ".py",
   "mimetype": "text/x-python",
   "name": "python",
   "nbconvert_exporter": "python",
   "pygments_lexer": "ipython3",
   "version": "3.8.5"
  }
 },
 "nbformat": 4,
 "nbformat_minor": 4
}
