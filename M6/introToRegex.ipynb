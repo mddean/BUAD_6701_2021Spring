{
 "cells": [
  {
   "cell_type": "markdown",
   "metadata": {},
   "source": [
    "# Introduction to Regular Expressions\n",
    "\n",
    "We've seen some useful and powerful methods of the Python `str` type for formatting, splitting, and manipulation. We have seen that those methods might have some drawbacks. For example, when we split a string the resulting list contains **mostly** words. However, they are **mostly** words because there may be trailing punctuation marks such as commas or periods attached to the word. The good news is that we have a more powerful tool at our disposal called *regular expressions* or *regex* for short. \n",
    "\n",
    "Regular expressions are a huge topic. In fact, there are entire books written on the topic. Therefore, we are only going to be able to touch the surface. We'll see examples that should give you a glimpse into the power of regular expressions and how they can be used across various scenarios. \n",
    "\n",
    "One way to think of regular expressions is that they are simply a way conduct *flexible pattern matching* in strings. If you have any experience with Unix or Linux and use the command line, then you are probably familiar with the wildcard character `*`. For example, if want a listing of all the `.txt` files in a directory, on a Linux machine we would issue the command `ls *.txt`. On a Windows machine we would similarly use `dir *.txt`. We can access command line commands from Jupyter Notebooks by preceding the command with the exclamation mark, `!`. Let's try it."
   ]
  },
  {
   "cell_type": "code",
   "execution_count": null,
   "metadata": {},
   "outputs": [],
   "source": [
    "# can use dir on a Windows machine\n",
    "!dir *.txt\n",
    "\n",
    "# can use ls on Linux machine\n",
    "#!ls *.txt"
   ]
  },
  {
   "cell_type": "markdown",
   "metadata": {},
   "source": [
    "Regular expressions are more than just using wildcards; there are a wide range of flexible string-matching syntaxes. To use regular expressions in Python, you use the built-in `re` module. Using regular expressions we could duplicate some of the built-in string methods like `split()`. The advantage of learning and using regular expressions is that they are **much more flexible**.  "
   ]
  },
  {
   "cell_type": "markdown",
   "metadata": {},
   "source": [
    "## Commonly Used Functions\n",
    "\n",
    "Within the `re` module there are many useful methods/functions. Here are some of the most commonly used ones:\n",
    "\n",
    "- `re.search(pattern, string)` scans through a string looking for the first location where the `pattern` matches; output is a `Match` object if there is a match or `None` otherwise.\n",
    "- `re.findall(pattern, string)` returns all substrings where the `pattern` is matches and returns them as a list.\n",
    "- `re.split(pattern, string)` splits a string at every match of the `pattern` and returns a list of strings. \n",
    "- `re.sub(pattern, repl, string)` finds all matches of `pattern` in `string` and replaces them with `repl`.\n",
    "\n",
    "When creating the regular expressions (i.e., the patterns) you often use raw literal strings by preceding the string with `r`. For example, we might call `re.search(r\"pattern\", string)`. Recall, that raw literal strings treat backslashes as backslashes instead to trying to convert to special characters. If we used `r\"\\n\"` as the pattern, it would look for a backslash followed by the character `n`, whereas the pattern `\"\\n\"` would look for newlines."
   ]
  },
  {
   "cell_type": "markdown",
   "metadata": {},
   "source": [
    "## Syntax\n",
    "\n",
    "You need to `import re` to get started. You then need to come up with an expression and compile it. Let's start with a simple example where we build a regular expression with a simple string of characters. It will match that exact string."
   ]
  },
  {
   "cell_type": "code",
   "execution_count": null,
   "metadata": {},
   "outputs": [],
   "source": [
    "import re"
   ]
  },
  {
   "cell_type": "code",
   "execution_count": null,
   "metadata": {},
   "outputs": [],
   "source": [
    "# build and compile the regular expression to look for \"tart\"\n",
    "regex = re.compile(\"tart\")\n",
    "s = \"What starts as tart never turns sweet.\"\n",
    "\n",
    "# Search for regex in s; if found get Match object\n",
    "regex.search(s)"
   ]
  },
  {
   "cell_type": "code",
   "execution_count": null,
   "metadata": {},
   "outputs": [],
   "source": [
    "# Find all of the matches in s\n",
    "regex.findall(s)"
   ]
  },
  {
   "cell_type": "markdown",
   "metadata": {},
   "source": [
    "Notice that a `list` is returned with all of the matches. You can see how many were found by looking at the length of the returned list. "
   ]
  },
  {
   "cell_type": "code",
   "execution_count": null,
   "metadata": {},
   "outputs": [],
   "source": [
    "listOfMatches = regex.findall(s)\n",
    "print(f\"We found {len(listOfMatches)} matches\")"
   ]
  },
  {
   "cell_type": "markdown",
   "metadata": {},
   "source": [
    "### Characters and Character Sets\n",
    "\n",
    "#### Special Characters\n",
    "\n",
    "There are several special purpose characters in regular expressions. These include: `.`, `^`, `$`, `*`, `+`, `?`, `{`, `}`, `[`, `]`, `\\`, `|`, `(`, and `)`. For a special character to be treated literally, you need to add a backslash before that character. For example, `\\$` indicates the dollar sign. Let's look at few examples."
   ]
  },
  {
   "cell_type": "code",
   "execution_count": null,
   "metadata": {},
   "outputs": [],
   "source": [
    "earnings = \"Apple's earnings per share for the three months that ended in December 2020 was $5.67.\""
   ]
  },
  {
   "cell_type": "code",
   "execution_count": null,
   "metadata": {},
   "outputs": [],
   "source": [
    "# Try to find the string \"$5.67\"\n",
    "eRegex = re.compile(\"$5.67\")\n",
    "eRegex.findall(earnings)"
   ]
  },
  {
   "cell_type": "markdown",
   "metadata": {},
   "source": [
    "Well, that returned an empty `list` meaning that it was not found. Let's **escape** the dollar sign with a backslash and see if it will find it."
   ]
  },
  {
   "cell_type": "code",
   "execution_count": null,
   "metadata": {},
   "outputs": [],
   "source": [
    "# Try escaping the dollar sign by preceding it with a backslash\n",
    "eRegex = re.compile(\"\\$5.67\")\n",
    "eRegex.findall(earnings)"
   ]
  },
  {
   "cell_type": "markdown",
   "metadata": {},
   "source": [
    "#### Character Sets\n",
    "\n",
    "A *character set* allows you to specify a set of characters that will allow you to match any single character in that given set. To specify a character set, you use square brackets, `[` and `]`. For example, `[hik]` would match any one of the lower case letters `h`, `i`, and `k`. Some examples of character sets include:\n",
    "\n",
    "- `[a-z]` matches any lower case letter between `a` and `z`.\n",
    "- `[A-Z]` matches any upper case letter between `A` and `Z`. \n",
    "- `[a-zA-Z]` matches any letter, both lower case and upper case, in the English alphabet.\n",
    "- `[0-9]` matches a single digit between 0 and 9. \n",
    "\n",
    "You can also **negate** character sets by using the special character `^` inside the square brackets. For example, `[^a-z]` will match anything as long as it is **not** a lower case letter in the range of `a` to `z`. \n",
    "\n",
    "There are some built-in common character sets that have a shorthand notation. Examples include:\n",
    "\n",
    "- `.` matches any character except new line.\n",
    "- `\\d` matches a digit character (i.e., `[0-9]`).\n",
    "- `\\D` matches a **non-digit** character (i.e., `[^0-9]`).\n",
    "- `\\w` matches a word character including digits and underscores.\n",
    "- `\\W` matches a **non-word** character.\n",
    "- `\\s` matches a space, new line, tab, carriage return, etc. (i.e., whitespace).\n",
    "- `\\S` matches everything but whitespace."
   ]
  },
  {
   "cell_type": "code",
   "execution_count": null,
   "metadata": {},
   "outputs": [],
   "source": [
    "# Let's find all the digits in earnings string\n",
    "tempRegex = re.compile(\"\\d\")\n",
    "tempRegex.findall(earnings)"
   ]
  },
  {
   "cell_type": "code",
   "execution_count": null,
   "metadata": {},
   "outputs": [],
   "source": [
    "# Let's find all the non-digits in earnings string\n",
    "tempRegex = re.compile(\"\\D\")\n",
    "tempRegex.findall(earnings)"
   ]
  },
  {
   "cell_type": "code",
   "execution_count": null,
   "metadata": {},
   "outputs": [],
   "source": [
    "# What about whitespace\n",
    "tempRegex = re.compile(\"\\s\")\n",
    "tempRegex.findall(earnings)"
   ]
  },
  {
   "cell_type": "code",
   "execution_count": null,
   "metadata": {},
   "outputs": [],
   "source": [
    "# Non-word characters\n",
    "tempRegex = re.compile(\"\\W\")\n",
    "tempRegex.findall(earnings)"
   ]
  }
 ],
 "metadata": {
  "kernelspec": {
   "display_name": "Python 3",
   "language": "python",
   "name": "python3"
  },
  "language_info": {
   "codemirror_mode": {
    "name": "ipython",
    "version": 3
   },
   "file_extension": ".py",
   "mimetype": "text/x-python",
   "name": "python",
   "nbconvert_exporter": "python",
   "pygments_lexer": "ipython3",
   "version": "3.8.5"
  }
 },
 "nbformat": 4,
 "nbformat_minor": 4
}
