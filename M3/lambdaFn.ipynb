{
 "cells": [
  {
   "cell_type": "markdown",
   "metadata": {},
   "source": [
    "## Lambda Functions\n",
    "\n",
    "We have already seen how to write user-defined functions that contain several (or possibly lots more) lines of code. If we need a function that is short and a hassle to define in an normal way, i.e., with the `def` keyword, then you can use a *lambda* function (or expression). A lambda function is an anonymous (unnamed) function. You will often see them used as an argument to other functions that expect a function; for example, they might be used as `sorted()`'s \"key\" argument. We create a lambda function with the keyword `lambda`.\n",
    "\n",
    "If we want to use the lambda function **outside** of the use case of an argument to another function, then we will often assign it to a variable name. Let's try it."
   ]
  },
  {
   "cell_type": "code",
   "execution_count": null,
   "metadata": {},
   "outputs": [],
   "source": [
    "# What happens if I just try to create a lambda function that squares its input\n",
    "lambda x:x**2"
   ]
  },
  {
   "cell_type": "code",
   "execution_count": null,
   "metadata": {},
   "outputs": [],
   "source": [
    "# Well, that's not super helpful because I can't call it\n",
    "# Try again\n",
    "f = lambda x:x**2\n",
    "print(f(4))"
   ]
  },
  {
   "cell_type": "code",
   "execution_count": null,
   "metadata": {},
   "outputs": [],
   "source": [
    "# Create a lambda function that returns the first element of a given list\n",
    "g = lambda x:x[0]\n",
    "print(g([\"first\", \"second\", \"third\"]))"
   ]
  },
  {
   "cell_type": "markdown",
   "metadata": {},
   "source": [
    "-----\n",
    "\n",
    "While the lambda function is limited in the functions you can define, you can include a conditional statement. Let's try it."
   ]
  },
  {
   "cell_type": "code",
   "execution_count": null,
   "metadata": {},
   "outputs": [],
   "source": [
    "h = lambda x:\"even\" if x%2 == 0 else \"odd\"\n",
    "print(f\"The number 5 is {h(5)}.\")\n",
    "print(f\"The number 6 is {h(6)}.\")"
   ]
  },
  {
   "cell_type": "markdown",
   "metadata": {},
   "source": [
    "-----\n",
    "\n",
    "Now, let's try to use a lambda function as an argument to another function. We'll start with the built-in function `sorted()` that builds a new sorted list from an interable."
   ]
  },
  {
   "cell_type": "code",
   "execution_count": null,
   "metadata": {},
   "outputs": [],
   "source": [
    "# Create a two-dimensional list\n",
    "myList = [[1,9], [2,8], [3,7], [4,6], [5,5]]\n",
    "\n",
    "# Now sort the list by the second element in each sublist\n",
    "sorted(myList, key = lambda x:x[1])"
   ]
  },
  {
   "cell_type": "code",
   "execution_count": null,
   "metadata": {},
   "outputs": [],
   "source": [
    "# We could also have used the .sort() method on the list object itself\n",
    "# Make sure my List is still original\n",
    "myList"
   ]
  },
  {
   "cell_type": "code",
   "execution_count": null,
   "metadata": {},
   "outputs": [],
   "source": [
    "# Now use the sort method on the list object itself\n",
    "myList.sort(key = lambda x:x[1])\n",
    "myList"
   ]
  },
  {
   "cell_type": "markdown",
   "metadata": {},
   "source": [
    "You should have noticed that the built-in function `sorted()` returns a **new** list, while the `sort` method on the list object sorts *in place*.\n",
    "\n",
    "-----"
   ]
  },
  {
   "cell_type": "markdown",
   "metadata": {},
   "source": [
    "<font color='red' size = '5'> Student Exercise </font>\n",
    "\n",
    "In the **Code** cell below, create the following three lambda functions.\n",
    "\n",
    "1. A lambda function called `x` that returns 1 if and only if the boolean `True` is passed to it.\n",
    "2. A lambda function called `y` that returns the **type** of the first element of a **`tuple`** that gets passed to it.\n",
    "3. A lambda function called `z` that computes and returns the factorial of the integer passed to it.\n",
    "\n",
    "*HINT:* The cell code below the one you are to work in contains the tests that you should run to see if you have defined your lambda functions correctly.\n",
    "\n",
    "*SANITY CHECK:* If you do this correctly, the output of those tests should be:\n",
    "\n",
    "```python\n",
    "x(True) = 1\n",
    "x(3) = 0\n",
    "x(4) = 0\n",
    "<class 'int'>\n",
    "<class 'str'>\n",
    "<class 'float'>\n",
    "z(5) = 120\n",
    "```\n",
    "\n",
    "-----"
   ]
  },
  {
   "cell_type": "code",
   "execution_count": null,
   "metadata": {},
   "outputs": [],
   "source": [
    "### YOUR CODE HERE\n"
   ]
  },
  {
   "cell_type": "code",
   "execution_count": null,
   "metadata": {},
   "outputs": [],
   "source": [
    "### Test your code above\n",
    "print(f\"x(True) = {x(True)}\")\n",
    "print(f\"x(3) = {x(3)}\")\n",
    "print(f\"x(4) = {x(4)}\")\n",
    "\n",
    "print(y((2, 5.16, \"string\")))\n",
    "print(y((\"string\", 2, 5.16)))\n",
    "print(y((5.16, \"string\", 2)))\n",
    "\n",
    "print(f\"z(5) = {z(5)}\")"
   ]
  }
 ],
 "metadata": {
  "kernelspec": {
   "display_name": "Python 3",
   "language": "python",
   "name": "python3"
  },
  "language_info": {
   "codemirror_mode": {
    "name": "ipython",
    "version": 3
   },
   "file_extension": ".py",
   "mimetype": "text/x-python",
   "name": "python",
   "nbconvert_exporter": "python",
   "pygments_lexer": "ipython3",
   "version": "3.7.6"
  }
 },
 "nbformat": 4,
 "nbformat_minor": 4
}
