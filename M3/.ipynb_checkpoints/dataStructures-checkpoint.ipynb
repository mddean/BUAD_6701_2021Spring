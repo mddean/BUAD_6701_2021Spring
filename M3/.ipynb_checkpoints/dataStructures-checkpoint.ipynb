{
 "cells": [
  {
   "cell_type": "markdown",
   "metadata": {},
   "source": [
    "# Data Structures in Python\n",
    "----"
   ]
  },
  {
   "cell_type": "markdown",
   "metadata": {},
   "source": [
    "We have have already seen *built-in* numeric data types in Python: `int` and `float`. We have also seen `str` for strings which is technically called a *text sequence type*. First, we will revisit the `str` data type. Then, we will explore a few more built-in data types that will prove very useful: `list`, `tuple`, `range`, and `dict`. \n",
    "\n",
    "-----\n",
    "\n",
    "## Sequence Types\n",
    "\n",
    "### Strings - the `str` data type\n",
    "\n",
    "The `str` data type is a special sequence type - a *text* sequence type. Recall that we create strings by providing a sequence of zero or more characters enclosed in either a pair of single quote characters, `'`, or a pair of double quote characters, `\"`."
   ]
  },
  {
   "cell_type": "code",
   "execution_count": null,
   "metadata": {},
   "outputs": [],
   "source": [
    "# Create a couple of strings, print them and their types out\n",
    "string1 = \"My first string!\"\n",
    "print(\"string1 =\", string1)\n",
    "print(\"   type =\", type(string1))\n",
    "\n",
    "string2 = \"3000\"\n",
    "print(\"\\nstring2 =\", string2)\n",
    "print(\"   type =\", type(string2))"
   ]
  },
  {
   "cell_type": "markdown",
   "metadata": {},
   "source": [
    "-----\n",
    "We will often need to manipulate string data. Luckily, there are several useful methods for strings. We look at several next.\n",
    "\n",
    "-----"
   ]
  },
  {
   "cell_type": "markdown",
   "metadata": {},
   "source": [
    "### Concatenate Strings"
   ]
  },
  {
   "cell_type": "code",
   "execution_count": null,
   "metadata": {},
   "outputs": [],
   "source": [
    "# Concatenate two strings together\n",
    "# The + operator is \"overloaded\", so it works on strings in addition to numbers\n",
    "string1 + string2"
   ]
  },
  {
   "cell_type": "markdown",
   "metadata": {},
   "source": [
    "### Repeating Strings"
   ]
  },
  {
   "cell_type": "code",
   "execution_count": null,
   "metadata": {},
   "outputs": [],
   "source": [
    "# Repeating strings\n",
    "# The * operator is also overloaded, allowing it work on strings\n",
    "string2 * 4"
   ]
  },
  {
   "cell_type": "markdown",
   "metadata": {},
   "source": [
    "### Extracting Pieces of Strings\n",
    "\n",
    "To extract characters from a string, you pass an *index* number inside of square brackets `[]`. Indexing starts at 0. So, to get the first character from the string `string1` you would issue the command `string1[0]`. "
   ]
  },
  {
   "cell_type": "code",
   "execution_count": null,
   "metadata": {},
   "outputs": [],
   "source": [
    "# We may want to extract parts of a string\n",
    "# Get the first 2 characters of string1\n",
    "string1[0:2]"
   ]
  },
  {
   "cell_type": "code",
   "execution_count": null,
   "metadata": {},
   "outputs": [],
   "source": [
    "# Get the last character of string1\n",
    "string1[-1]"
   ]
  },
  {
   "cell_type": "code",
   "execution_count": null,
   "metadata": {},
   "outputs": [],
   "source": [
    "# We can also check to see if a substring exists (or not) in the string\n",
    "# We use the `in` operator\n",
    "# Check to see if the word `first` is in string1\n",
    "\"first\" in string1"
   ]
  },
  {
   "cell_type": "code",
   "execution_count": null,
   "metadata": {},
   "outputs": [],
   "source": [
    "# Check to see if `hello` is in string2\n",
    "\"hello\" in string2"
   ]
  },
  {
   "cell_type": "code",
   "execution_count": null,
   "metadata": {},
   "outputs": [],
   "source": [
    "# Is hello *not in* string2?\n",
    "\"hello\" not in string2"
   ]
  },
  {
   "cell_type": "markdown",
   "metadata": {},
   "source": [
    "-----\n",
    "\n",
    "### Other Useful String Functions and Methods\n",
    "\n",
    "Let's explore a few of the most commonly used string manipulations that we will use.\n",
    "\n",
    "### Length of Strings"
   ]
  },
  {
   "cell_type": "code",
   "execution_count": null,
   "metadata": {},
   "outputs": [],
   "source": [
    "# How long is a string?\n",
    "# Use the len() function\n",
    "print(\"length of string1 =\", len(string1))\n",
    "print(\"length of string2 =\", len(string2))"
   ]
  },
  {
   "cell_type": "markdown",
   "metadata": {},
   "source": [
    "### Changing the Case of Strings"
   ]
  },
  {
   "cell_type": "code",
   "execution_count": null,
   "metadata": {},
   "outputs": [],
   "source": [
    "# What if we want to convert everything to lower case or upper case\n",
    "# Convert string1 to lower\n",
    "print(string1.lower())\n",
    "\n",
    "# Convert string1 to upper\n",
    "print(string1.upper())\n",
    "\n",
    "## NOTE: Neither one of these modify the original string1. Instead they return a new string."
   ]
  },
  {
   "cell_type": "markdown",
   "metadata": {},
   "source": [
    "-----\n",
    "\n",
    "### Cleaning Strings\n",
    "\n",
    "A common need when cleaning text data is to remove white space from the **beginning and end** of strings. We can use the `strip` method to accomplish this. White space includes space, tab, and newline characters."
   ]
  },
  {
   "cell_type": "code",
   "execution_count": null,
   "metadata": {},
   "outputs": [],
   "source": [
    "# Create a string with spaces at beginning and end\n",
    "badString = \"     Spaces at the beginning and end.     \"\n",
    "print(\"before:|\", badString, \"|\", sep=\"\")\n",
    "print(\"after :|\", badString.strip(), \"|\", sep=\"\")"
   ]
  },
  {
   "cell_type": "code",
   "execution_count": null,
   "metadata": {},
   "outputs": [],
   "source": [
    "# Create a string with spaces at beginning and end\n",
    "# Add newline and tab characters and spaces in middle\n",
    "# Will strip work?\n",
    "badString2 = \"\"\"     Spaces at the beginning and end.     Now let's try newline \\n and\n",
    "    even a tab \\t or \\t two to see what happens.\\n\"\"\"\n",
    "print(\"before:|\", badString2, \"|\", sep=\"\")\n",
    "print(\"after :|\", badString2.strip(), \"|\", sep=\"\")"
   ]
  },
  {
   "cell_type": "markdown",
   "metadata": {},
   "source": [
    "Well, that did not work. Hence, `strip()` only works for beginning and ending whitespace, even the newline character as we just saw. Luckily for us, there is another useful function that will help out. We will use `split()` to remove spaces, tabs, and newlines in a string. Splitting the string puts the words into a `list` (more later on `list`s). We can reconstruct the string with just spaces by using the `join()` method. Let's try it.\n"
   ]
  },
  {
   "cell_type": "code",
   "execution_count": null,
   "metadata": {},
   "outputs": [],
   "source": [
    "# Split it and look at the list\n",
    "badStringList = badString2.split()\n",
    "print(badStringList)\n",
    "\n",
    "# Now, reconstruct with join\n",
    "goodString = \" \".join(badStringList)\n",
    "print(goodString)"
   ]
  },
  {
   "cell_type": "markdown",
   "metadata": {},
   "source": [
    "----\n",
    "\n",
    "Similar to `strip`, there are also `lstrip` and `rstrip` that strips off whitespace on at the beginning (the left) and the end (right), respectively. \n",
    "\n",
    "We may also want to find substrings within a string. There are various methods for this taks similar to the `in` operator we saw earlier. We will look at `startswith`, `endswith`, `find`, and `replace`. The methods `startswith` and `endswith` do exactly what they say: they will return a boolean indicating if the string starts or ends with the specified substring. The `find` method searches for a substring within a string. If it is found, the *index* of the first occurrence is returned. If the substring is not found it returns -1.  You can use `replace` to replace one substring with another within a string. By default it replaces *all* occurrences of the substring. An optional *count* argument allows you to specify the number of replacements."
   ]
  },
  {
   "cell_type": "code",
   "execution_count": null,
   "metadata": {},
   "outputs": [],
   "source": [
    "# Create a string\n",
    "string3 = \"I think text analysis is fun because text is where the hidden messages are.\"\n",
    "\n",
    "# Does string3 start with \"I\"?\n",
    "print(string3.startswith(\"I\"))\n",
    "\n",
    "# What about case? Test with \"i\"\n",
    "print(string3.startswith(\"i\"))\n",
    "\n",
    "# Does string3 end with \"text\"?\n",
    "print(string3.endswith(\"text\"))"
   ]
  },
  {
   "cell_type": "code",
   "execution_count": null,
   "metadata": {},
   "outputs": [],
   "source": [
    "# Where does the first occurrence of \"text\" occur in string3?\n",
    "string3.find(\"text\")"
   ]
  },
  {
   "cell_type": "code",
   "execution_count": null,
   "metadata": {},
   "outputs": [],
   "source": [
    "# Replace the word \"text\" with \"TEXT\" for all occurrences\n",
    "print(string3.replace(\"text\", \"TEXT\"))\n",
    "\n",
    "# Replace \"text\" with \"TEXT\" once - just the first occurrence\n",
    "print(string3.replace(\"text\", \"TEXT\", 1))"
   ]
  },
  {
   "cell_type": "markdown",
   "metadata": {},
   "source": [
    "----\n",
    "\n",
    "You may also want to count the number of occurrence of a substring within in a string. You can use the `count` method.\n",
    "\n",
    "*Thought Excercise:* Are there any other ways to accomplish the same task?"
   ]
  },
  {
   "cell_type": "code",
   "execution_count": null,
   "metadata": {},
   "outputs": [],
   "source": [
    "# How many times does \"text\" show up in string3?\n",
    "# We are going to convert everything to lower case and then count\n",
    "string3.lower().count(\"text\")"
   ]
  },
  {
   "cell_type": "markdown",
   "metadata": {},
   "source": [
    "----\n",
    "\n",
    "### Raw and Formatted String Literals\n",
    "\n",
    "As we saw in `badString2` above, we can include newline and tab characters within a string by using `\\n` and `\\t`, respectively. If you want to have the characters `\\n` show up in the string instead of being replaced with a newline, then you have two options:\n",
    "\n",
    "1. Escape it by adding an additional backslash: `\\\\n`.\n",
    "2. Make the string a *raw string literal* by preceding the opening quotation mark with the letter `r`. "
   ]
  },
  {
   "cell_type": "code",
   "execution_count": null,
   "metadata": {},
   "outputs": [],
   "source": [
    "# Create a string with a new line character in it\n",
    "s1 = \"String over \\n two lines?\"\n",
    "print(s1)\n",
    "\n",
    "# Create a string with escaped new line character\n",
    "s2 = \"String over \\\\n two lines?\"\n",
    "print(s2)\n",
    "\n",
    "# Create a raw literal string\n",
    "s3 = r\"String over \\n two lines?\"\n",
    "print(s3)"
   ]
  },
  {
   "cell_type": "markdown",
   "metadata": {},
   "source": [
    "#### Formatted Literal Strings\n",
    "\n",
    "To help with formatting when printing out strings, Python provides the concept of *formatted string literals*, also called f-strings. You can include the value of Python expressions inside a string by prefixing the string with an `f` or `F` and writing expressions as `{expression}`. "
   ]
  },
  {
   "cell_type": "code",
   "execution_count": null,
   "metadata": {},
   "outputs": [],
   "source": [
    "# Create an f-string\n",
    "myVar = 3*3\n",
    "myFString = f\"The value of myVar is {myVar}\"\n",
    "print(myFString)\n",
    "\n",
    "myFString2 = f\"The value of myVar with some formatting is {myVar:0.2f}\"\n",
    "print(myFString2)"
   ]
  },
  {
   "cell_type": "markdown",
   "metadata": {},
   "source": [
    "-----\n",
    "\n",
    "<font color='red' size = '5'> Student Exercise </font>\n",
    "\n",
    "In the **Code** cell below is a long string variable named `bfb2020AnnualReport`. It contains language from Brown-Forman's [website](https://www.brown-forman.com/investors/annual-report/) under 'Investors'. \n",
    "\n",
    "Complete the following tasks in the empty **Code** cell below the cell that contains `bfb2020AnnualReport`. Be sure to run that cell of code before trying your own code.\n",
    "\n",
    "1. Convert the string to lower case and print it out.\n",
    "2. Convert the string to upper case and print it out.\n",
    "3. Count the number of times the substring \"150\" occurs.\n",
    "4. Count the nubmer of times the substring \"we\" occurs.\n",
    "5. How many words are in the string?\n",
    "\n",
    "-----"
   ]
  },
  {
   "cell_type": "code",
   "execution_count": null,
   "metadata": {},
   "outputs": [],
   "source": [
    "bfb2020AnnualReport = \"\"\"As we mark our 150th year, we take time to pause and consider the many people,\n",
    "places,and products of Brown-Forman, and our continuing ability to deliver on our corporate ambition so\n",
    "aptly described as \"Nothing Better In The Market.\"\n",
    "\n",
    "This ambition has allowed us to successfully navigate through many industry, economic, and geopolitical\n",
    "challenges, and changes over the span of 15 decades, from world wars and U.S. Prohibition to recessions\n",
    "and global crises. Through it all, the promise first made by our founder, George Garvin Brown, and \n",
    "inscribed on every bottle of Old Forester since 1870, has guided our growth and performance.\n",
    "\n",
    "When facing the unpredictable, our culture of collaboration and inclusion ensures that we endure. This \n",
    "holds true in the creative, resilient, and exemplary response of our employees to the COVID-19 pandemic. \n",
    "There is \"Nothing Better in the Market\" than the character of our people.\n",
    "\n",
    "As our portfolio and geographies become more diverse, so do our employees, consumers, and communities. \n",
    "Our long tradition of being responsible in everything we do keeps us steadfast in our efforts to promote \n",
    "alcohol responsibility and advance environmental sustainability. We believe our continued, thoughtful, \n",
    "long-term perspective, coupled with our diverse, inclusive, and caring culture, serve us today and will \n",
    "serve the generations that follow. There is “Nothing Better in the Market” than our values and our culture.\n",
    "\n",
    "Whether it’s a flavorful whiskey on the rocks, a favorite cocktail crafted with one of our many fine spirits,\n",
    "or an expressive glass of wine, our products are present during some of life’s important moments. They are \n",
    "part of bringing people together in times of celebration, as well as quiet moments of reflection. There is \n",
    "\"Nothing Better in the Market\" than our brands.\n",
    "\n",
    "When we look back at all that we have accomplished in the last 150 years and where we stand today, we take \n",
    "pride in both our performance and our potential. Our ambition for Brown-Forman is a journey we are always on,\n",
    "constantly striving and continually discovering new ways to make ourselves, our brands, and our company even\n",
    "better. There is \"Nothing Better in the Market\" than Brown-Forman— yesterday, today, tomorrow, and for \n",
    "generations to come.\"\"\""
   ]
  },
  {
   "cell_type": "code",
   "execution_count": null,
   "metadata": {},
   "outputs": [],
   "source": []
  },
  {
   "cell_type": "markdown",
   "metadata": {},
   "source": [
    "-----\n",
    "\n",
    "## Other Sequence Types\n",
    "\n",
    "In addition to the text sequence type of `str`, there are three others that are built-in sequence types: `list`, `tuple`, and `range`.\n",
    "\n",
    "### The `list` Sequence Type\n",
    "\n",
    "We have already seen a `list` above, when we used `str.split()` to break the string up into substrings using whitespace as a delimiter. So, what exactly is a `list`? A `list` is an ordered, *mutable* collection of objects. *Mutable* means you can make changes to it: adding, deleting, or changing the objects in the collection. In Python, a `list` can contain different data types."
   ]
  },
  {
   "cell_type": "markdown",
   "metadata": {},
   "source": [
    "#### Creating Lists\n",
    "\n",
    "You create a list by enclosing data inside square brackets, `[]`, and separating each item with a comma. Let's create a few different lists."
   ]
  },
  {
   "cell_type": "code",
   "execution_count": null,
   "metadata": {},
   "outputs": [],
   "source": [
    "# Create a list that only contains integers\n",
    "intList = [2, 4, 6]\n",
    "print(intList)\n",
    "print(type(intList))"
   ]
  },
  {
   "cell_type": "code",
   "execution_count": null,
   "metadata": {},
   "outputs": [],
   "source": [
    "# Create a list that contains integers and floats\n",
    "numList = [2, 4.4, 6, 8.8]\n",
    "print(numList)\n",
    "print(type(numList))"
   ]
  },
  {
   "cell_type": "code",
   "execution_count": null,
   "metadata": {},
   "outputs": [],
   "source": [
    "# You can put string in the list too\n",
    "strAndNumList = [\"one\", 2, 3.0]\n",
    "print(strAndNumList)\n",
    "print(type(strAndNumList))"
   ]
  },
  {
   "cell_type": "code",
   "execution_count": null,
   "metadata": {},
   "outputs": [],
   "source": [
    "# You can even create a list of lists\n",
    "twoDList = [[1,1], [2,2], [3,3]]\n",
    "print(twoDList)\n",
    "print(type(twoDList))"
   ]
  },
  {
   "cell_type": "markdown",
   "metadata": {},
   "source": [
    "#### Retrieving Elements of Lists\n",
    "\n",
    "We've already seen how to retrieve characters out of a string. The process for a `list` is the same: we access an element of the list by typing the name of the list followed by the *index* of the element you want inside square brackets. **Indexing starts at 0.** For example, to retrieve the first element of the list `strAndNumList`, which is \"one\", we would use `strAndNumList[0]`. Let's try it."
   ]
  },
  {
   "cell_type": "code",
   "execution_count": null,
   "metadata": {},
   "outputs": [],
   "source": [
    "# Get the first element of strAndNumList\n",
    "print(strAndNumList[0])\n",
    "print(type(strAndNumList[0]))"
   ]
  },
  {
   "cell_type": "code",
   "execution_count": null,
   "metadata": {},
   "outputs": [],
   "source": [
    "# To get the last element you can use the index -1\n",
    "# This implies that we can count from either the beginning (0) or the end (-1)\n",
    "strAndNumList[-1]"
   ]
  },
  {
   "cell_type": "markdown",
   "metadata": {},
   "source": [
    "#### Slicing Lists\n",
    "\n",
    "If we want more than a single element of a list, that is also quite easily done. The syntax is `listName[start:end:step]`, where `start` is the index of the first element we want to retrieve (inclusive lower bound), `end` is one more than the index of the last element we want to retrieve (exclusive upper bound), and `step` is the gap between indicies (default gap is 1)."
   ]
  },
  {
   "cell_type": "code",
   "execution_count": null,
   "metadata": {},
   "outputs": [],
   "source": [
    "# Create a new list\n",
    "letters = [\"a\", \"b\", \"c\", \"d\", \"e\", \"f\", \"g\", \"h\"]\n",
    "print(f\"letters[0:2]   : {letters[0:2]}\")\n",
    "print(f\"letters[2:2]   : {letters[2:2]}\")\n",
    "print(f\"letters[:2]    : {letters[:2]}\")\n",
    "print(f\"letters[4:]    : {letters[4:]}\")\n",
    "print(f\"letters[0:8:2] : {letters[0:8:2]}\")\n",
    "print(f\"letters[8:0:-2]: {letters[8:0:-2]}\")"
   ]
  },
  {
   "cell_type": "markdown",
   "metadata": {},
   "source": [
    "#### Modifying List Elements\n",
    "\n",
    "To modify a single element of a list, simply reference that index and assign a different value to it. For example, to change the letter \"a\" to \"first\" in the `letters` list from above, we would type `letters[0] = \"first\"`. To change multiple elements at once, you can assign the new values using a list slice."
   ]
  },
  {
   "cell_type": "code",
   "execution_count": null,
   "metadata": {},
   "outputs": [],
   "source": [
    "# Change \"a\" to \"first\" in letters\n",
    "letters[0] = \"first\"\n",
    "print(letters)"
   ]
  },
  {
   "cell_type": "code",
   "execution_count": null,
   "metadata": {},
   "outputs": [],
   "source": [
    "# Now, change the last two elements using a list slice\n",
    "# We are counting backwards now: start at -1, end at -3 (exclusive, remember), use step = -1\n",
    "# Verify it's the two we want\n",
    "print(letters[-1:-3:-1])\n",
    "\n",
    "# now change them\n",
    "letters[-1:-3:-1] = [\"last\", \"second to last\"]\n",
    "print(letters)"
   ]
  },
  {
   "cell_type": "markdown",
   "metadata": {},
   "source": [
    "#### Copying Lists\n",
    "\n",
    "If you try copying a list, say `myList`, to a second list called `yourList` with the following command `yourList = myList`, then you have created a *shallow* copy. In effect, you have simply created a new variable (or symbol if you will) called `yourList` that points to the exact same data as `myList` in the underlying memory space. Therefore, when you make changes to `myList`, those changes will show up in `yourList` and vice versa. If you do **not** want a shallow copy, then you need to create a *deep* copy by using the method `copy`."
   ]
  },
  {
   "cell_type": "code",
   "execution_count": null,
   "metadata": {},
   "outputs": [],
   "source": [
    "# Create myList, print it out\n",
    "myList = [1, 2, 3, 4, 5]\n",
    "print(f\"myList  : {myList}\")\n",
    "\n",
    "# Create yourList and print it out\n",
    "yourList = myList\n",
    "print(f\"yourList: {yourList}\")\n",
    "\n",
    "# Now change the first element of myList\n",
    "print(\"\\nChanging the first element of myList to 999 ...\")\n",
    "myList[0] = 999\n",
    "print(f\"myList  : {myList}\")\n",
    "print(f\"yourList: {yourList}\")\n",
    "\n",
    "# Try the other direction\n",
    "print(\"\\nChanging the last element of yourList to 999 ...\")\n",
    "yourList[-1] = 999\n",
    "print(f\"myList  : {myList}\")\n",
    "print(f\"yourList: {yourList}\")"
   ]
  },
  {
   "cell_type": "code",
   "execution_count": null,
   "metadata": {},
   "outputs": [],
   "source": [
    "# Let's try a deep copy instead\n",
    "myNewList = [2, 4, 6, 8]\n",
    "print(f\"myNewList  : {myNewList}\")\n",
    "\n",
    "# Create yourNewList with .copy()\n",
    "yourNewList = myNewList.copy()\n",
    "print(f\"yourNewList: {yourNewList}\")\n",
    "\n",
    "# Changing the first element of myNewList\n",
    "print(\"\\nChanging the first element of myNewList to -999 ...\")\n",
    "myNewList[0] = -999\n",
    "print(f\"myNewList  : {myNewList}\")\n",
    "print(f\"yourNewList: {yourNewList}\")\n",
    "\n",
    "# Try the other direction\n",
    "print(\"\\nChanging the last element of yourNewList to -999 ...\")\n",
    "yourNewList[-1] = -999\n",
    "print(f\"myNewList  : {myNewList}\")\n",
    "print(f\"yourNewList: {yourNewList}\")"
   ]
  },
  {
   "cell_type": "markdown",
   "metadata": {},
   "source": [
    "#### Other List Operations\n",
    "\n",
    "We've already seen how to find how many elements are in a `list` by using the function `len`.  We can join two lists together by using the `+` operator. Similarly, we can use `*` to make copies of a list and append them to the end, thus duplicating lists *n* times. Other various helpful methods include `append`, `insert`, `remove`, `sort`, and `reverse` among others."
   ]
  },
  {
   "cell_type": "code",
   "execution_count": null,
   "metadata": {},
   "outputs": [],
   "source": [
    "# Concatenate two lists\n",
    "bigList = myNewList + yourNewList\n",
    "print(bigList)"
   ]
  },
  {
   "cell_type": "code",
   "execution_count": null,
   "metadata": {},
   "outputs": [],
   "source": [
    "# Duplicate list\n",
    "myNewList3Times = myNewList * 3\n",
    "print(myNewList3Times)"
   ]
  },
  {
   "cell_type": "code",
   "execution_count": null,
   "metadata": {},
   "outputs": [],
   "source": [
    "# Append a new element to bigList\n",
    "bigList.append(\"New Element\")\n",
    "print(bigList)"
   ]
  },
  {
   "cell_type": "markdown",
   "metadata": {},
   "source": [
    "----\n",
    "\n",
    "### Tuples\n",
    "\n",
    "A `tuple` is a collection that is ordered and *immutable*. Creating a `tuple` is very similar to creating a `list` except you use parentheses `()` instead of square brackets, `[]`. The process of accessing elements of a `tuple` is identical to that of a `list`. You need to be aware of `tuple`s because some functions either return them or require them in various packages/modules that you will encounter. Let's try it."
   ]
  },
  {
   "cell_type": "code",
   "execution_count": null,
   "metadata": {},
   "outputs": [],
   "source": [
    "# Create a tuple\n",
    "t = (1, 2, 3)\n",
    "print(t)\n",
    "print(type(t))"
   ]
  },
  {
   "cell_type": "code",
   "execution_count": null,
   "metadata": {},
   "outputs": [],
   "source": [
    "# Get the first element of the tuple t\n",
    "print(t[0])\n",
    "\n",
    "# Try to change the first element\n",
    "t[0] = 999"
   ]
  },
  {
   "cell_type": "markdown",
   "metadata": {},
   "source": [
    "----\n",
    "\n",
    "### Range\n",
    "\n",
    "A `range` represents an immutable sequence of numbers is commonly used for looping a specific number of times in a `for` loop. You call `range(stop)` where `stop` represents the number of elements you want in the sequence. By default `range` starts indexing at 0. You can change this behavior using the other constructor call of `range(start, stop, [step])`. The optional argument of `step` defaults to 1."
   ]
  },
  {
   "cell_type": "code",
   "execution_count": null,
   "metadata": {},
   "outputs": [],
   "source": [
    "# Call a few different ones to see how it works\n",
    "print(range(10))"
   ]
  },
  {
   "cell_type": "code",
   "execution_count": null,
   "metadata": {},
   "outputs": [],
   "source": [
    "# Okay, that didn't tell me much\n",
    "# Let's wrap it in a list and then print it out\n",
    "print(list(range(10)))\n",
    "\n",
    "# Change start to 1 ... notice stop is EXCLUSIVE\n",
    "print(list(range(1, 10)))\n",
    "\n",
    "# Count by 2s staring at 2 and going up to and INCLUDING 10\n",
    "print(list(range(2, 11, 2)))"
   ]
  },
  {
   "cell_type": "markdown",
   "metadata": {},
   "source": [
    "-----\n",
    "\n",
    "<font color='red' size = '5'> Student Exercise </font>\n",
    "\n",
    "Complete the following tasks in the empty **Code** cell below.\n",
    "\n",
    "1. Create a new `list` called `theList` that contains the odd numbers from 1 to 9.\n",
    "    - Challenge: Can you complete this task using `range`?    \n",
    "2. Print out the first 2 element of `theList`.\n",
    "3. Print out the last 2 elements of `theList`.\n",
    "4. Make a copy of the `theList`, call it `reversedList`, reverse the elements of it, and print it out.\n",
    "    - Make sure you do **not** change the order of the original `theList`.\n",
    "5. Print out the combined list of `theList` and `reversedList`.\n",
    "\n",
    "-----"
   ]
  },
  {
   "cell_type": "code",
   "execution_count": null,
   "metadata": {},
   "outputs": [],
   "source": []
  },
  {
   "cell_type": "markdown",
   "metadata": {},
   "source": [
    "-----\n",
    "\n",
    "## Dictionaries\n",
    "\n",
    "One of the most useful built-in data types in Python is the dictionary or the `dict` type. A dictionary is a collection that is *unordered* and *mutable*. The elements of the collection are **key-value** pairs. Instead of being indexed by a range of numbers (like a `list` or `tuple`), a dictionary is indexed by *keys* which can be be any immutable type. For example, strings and numbers can always be keys. You **cannot** use `list`s as keys since they can be modified in place. The values can be any valid data type.\n",
    "\n",
    "It is best to think of dictionaries as *key:value* pairs with the requirement that keys are unique. To create a dictionary, you place comma-separted key:value pairs inside of curly braces, `{}`. "
   ]
  },
  {
   "cell_type": "code",
   "execution_count": null,
   "metadata": {},
   "outputs": [],
   "source": [
    "# Create an income statement dictionary\n",
    "incomeStmt = {\"Revenue\": 100,\n",
    "             \"COGS\": 52,\n",
    "             \"Gross Margin\": 45,\n",
    "             \"SG&A\": 40,\n",
    "             \"Net Income\": 5}\n",
    "\n",
    "print(incomeStmt)"
   ]
  },
  {
   "cell_type": "code",
   "execution_count": null,
   "metadata": {},
   "outputs": [],
   "source": [
    "# Retrieve an element using the key\n",
    "incomeStmt[\"COGS\"]"
   ]
  },
  {
   "cell_type": "code",
   "execution_count": null,
   "metadata": {},
   "outputs": [],
   "source": [
    "# To add a key-value to a dictionary, assign the value to a new key\n",
    "# Add \"Fiscal Year\": 2018\n",
    "incomeStmt[\"Fiscal Year\"] = 2018\n",
    "print(incomeStmt)"
   ]
  },
  {
   "cell_type": "code",
   "execution_count": null,
   "metadata": {},
   "outputs": [],
   "source": [
    "# To change a value, access it using the key and reassign\n",
    "# Change the fiscal year to 1998\n",
    "incomeStmt[\"Fiscal Year\"] = 1998\n",
    "print(incomeStmt)"
   ]
  },
  {
   "cell_type": "code",
   "execution_count": null,
   "metadata": {},
   "outputs": [],
   "source": [
    "# Get the keys of the dictionary as a list\n",
    "list(incomeStmt)"
   ]
  },
  {
   "cell_type": "code",
   "execution_count": null,
   "metadata": {},
   "outputs": [],
   "source": [
    "# You can use the `in` operator to determine if the key exists\n",
    "\"COGS\" in incomeStmt"
   ]
  },
  {
   "cell_type": "code",
   "execution_count": null,
   "metadata": {},
   "outputs": [],
   "source": [
    "\"cogs\" in incomeStmt"
   ]
  },
  {
   "cell_type": "code",
   "execution_count": null,
   "metadata": {},
   "outputs": [],
   "source": [
    "# To get all the items as an iterable object, you call .items()\n",
    "incomeStmt.items()"
   ]
  },
  {
   "cell_type": "code",
   "execution_count": null,
   "metadata": {},
   "outputs": [],
   "source": [
    "# As a preview let's loop through the dictionary\n",
    "for k, v in incomeStmt.items():\n",
    "    print(f\"key: {k:15}value: {v}\")"
   ]
  },
  {
   "cell_type": "markdown",
   "metadata": {},
   "source": [
    "## Ancillary Information\n",
    "\n",
    "The following links are to additional documentation that you might find helpful in learning this material. \n",
    "\n",
    "1. The official Python tutorial about [formatting strings][1].\n",
    "2. A nice post about [f-strings][2].\n",
    "3. The official Python tutorial about [datastructures][3].\n",
    "\n",
    "\n",
    "-----\n",
    "\n",
    "[1]: https://docs.python.org/3/tutorial/inputoutput.html\n",
    "[2]: https://realpython.com/python-f-strings/\n",
    "[3]: https://docs.python.org/3/tutorial/datastructures.html"
   ]
  },
  {
   "cell_type": "markdown",
   "metadata": {
    "deletable": false,
    "editable": false
   },
   "source": [
    "**&copy; 2021 - Present: Matthew D. Dean, Ph.D.   \n",
    "Clinical Associate Professor of Business Analytics at William \\& Mary.**"
   ]
  }
 ],
 "metadata": {
  "kernelspec": {
   "display_name": "Python 3",
   "language": "python",
   "name": "python3"
  },
  "language_info": {
   "codemirror_mode": {
    "name": "ipython",
    "version": 3
   },
   "file_extension": ".py",
   "mimetype": "text/x-python",
   "name": "python",
   "nbconvert_exporter": "python",
   "pygments_lexer": "ipython3",
   "version": "3.8.5"
  }
 },
 "nbformat": 4,
 "nbformat_minor": 4
}
