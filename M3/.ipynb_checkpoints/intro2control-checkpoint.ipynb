{
 "cells": [
  {
   "cell_type": "markdown",
   "metadata": {},
   "source": [
    "# Python Conditional Statements and Control Flow\n",
    "\n",
    "-----"
   ]
  },
  {
   "cell_type": "markdown",
   "metadata": {},
   "source": [
    "Recall that we can create variables and assign values to those variables by simply creating a valid name followed by the equal sign and value we want to assign to that variable. For example to assign the integer 3 to the variable `x`, we would type:\n",
    "\n",
    "> `x = 3`\n",
    "\n",
    "We can determine the `type` of a variable by sending the variable name into the `type()` function. For example, `type(x)` will return `int`."
   ]
  },
  {
   "cell_type": "code",
   "execution_count": null,
   "metadata": {},
   "outputs": [],
   "source": [
    "# Try it to make sure\n",
    "x = 3\n",
    "type(x)"
   ]
  },
  {
   "cell_type": "markdown",
   "metadata": {},
   "source": [
    "We can also attempt to convert a variable to a different type. Suppose we wanted to **cast** our variable `x` to a floating point. We can attempt to do so by passing it to the function `float()`."
   ]
  },
  {
   "cell_type": "code",
   "execution_count": null,
   "metadata": {},
   "outputs": [],
   "source": [
    "# Try to convert the int to a float\n",
    "newX = float(x)\n",
    "print(newX)\n",
    "print(type(newX))"
   ]
  },
  {
   "cell_type": "markdown",
   "metadata": {},
   "source": [
    "But what happens when you try to convert a variable and Python cannot \"do it\"? Let's try it."
   ]
  },
  {
   "cell_type": "code",
   "execution_count": null,
   "metadata": {},
   "outputs": [],
   "source": [
    "# Create a new variable that contains a string\n",
    "myString = \"Hi there\"\n",
    "print(\"type(myString=\", type(myString))\n",
    "\n",
    "# Try to convert myString to an int\n",
    "int(myString)"
   ]
  },
  {
   "cell_type": "markdown",
   "metadata": {},
   "source": [
    "----\n",
    "\n",
    "Previously, we covered the basic Python concepts required to begin writing legal Python code. Now, we will introduce conditional statements, which enable a program to perform different operations based on the value of a specific condition. The condition must evaluate to a Boolean value and can involve multiple comparison tests and logical operators. As a result, we first introduce Python's comparison operators (or Boolean tests) and logical operators before introducing the Python `if` statement. Then, we discuss additional control flow by utilizing loops.\n",
    "\n",
    "-----"
   ]
  },
  {
   "cell_type": "markdown",
   "metadata": {},
   "source": [
    "## Python Comparison (or Boolean) Operators\n",
    "\n",
    "Python supports the [basic comparison operators][1]. The following table summarizes the comparison operations:\n",
    "\n",
    "| Operator  | Description             | Example                    |\n",
    "| --------- | ----------------------- | -------------------------- |\n",
    "| `==` | equal | `a == b` |\n",
    "| `!=` | not equal | `a != b` |\n",
    "| `>` | strictly greater than | `a > b` |\n",
    "| `>=` | greater than or equal | `a >= b` |\n",
    "| `<` | strictly less than | `a < b` |\n",
    "| `<=` | less than or equal | `a <= b` |\n",
    "\n",
    "Typically, the data type of the values on either side of a comparison operator should be identical. If they are different, for example, different numerical types, the Python interpreter will attempt to coerce them to be of the same type. If that isn't possible, the objects being compared will never be equivalent (since they are of different, incompatible types). These operators are demonstrated in the following code cells. \n",
    "\n",
    "-----\n",
    "\n",
    "[1]: https://docs.python.org/3/library/stdtypes.html#comparisons"
   ]
  },
  {
   "cell_type": "code",
   "execution_count": null,
   "metadata": {},
   "outputs": [],
   "source": [
    "# Define several variables to demonstrate \n",
    "# comparison (Boolean) operators\n",
    "a = 5\n",
    "b = 6"
   ]
  },
  {
   "cell_type": "code",
   "execution_count": null,
   "metadata": {},
   "outputs": [],
   "source": [
    "# Equivalence operator\n",
    "a == b"
   ]
  },
  {
   "cell_type": "code",
   "execution_count": null,
   "metadata": {},
   "outputs": [],
   "source": [
    "# Not equivalence operator\n",
    "a != b"
   ]
  },
  {
   "cell_type": "code",
   "execution_count": null,
   "metadata": {},
   "outputs": [],
   "source": [
    "# Greater than operator\n",
    "a > b"
   ]
  },
  {
   "cell_type": "code",
   "execution_count": null,
   "metadata": {},
   "outputs": [],
   "source": [
    "# Less than operator\n",
    "a < b"
   ]
  },
  {
   "cell_type": "code",
   "execution_count": null,
   "metadata": {},
   "outputs": [],
   "source": [
    "# Compare different, numerical data types\n",
    "a == 5.0"
   ]
  },
  {
   "cell_type": "code",
   "execution_count": null,
   "metadata": {},
   "outputs": [],
   "source": [
    "# Compare different data types\n",
    "a == 'Five'"
   ]
  },
  {
   "cell_type": "markdown",
   "metadata": {},
   "source": [
    "-----\n",
    "\n",
    "<font color='red' size = '5'> Student Exercise </font>\n",
    "\n",
    "In the empty **Code** cell below, create two variables, `y` and `z`, assign the following values to these two variables, and test out the conditional operators `==`, `!=`, `>`, and `<`:\n",
    "\n",
    "1. 0, -1\n",
    "2. 1, 1.0\n",
    "3. 9, 3**2\n",
    "\n",
    "Did the results match your expectations?\n",
    "\n",
    "-----"
   ]
  },
  {
   "cell_type": "code",
   "execution_count": null,
   "metadata": {},
   "outputs": [],
   "source": []
  },
  {
   "cell_type": "markdown",
   "metadata": {},
   "source": [
    "-----\n",
    "\n",
    "### Python Logical Operators\n",
    "\n",
    "In order to build more complex conditional statements, Python provides [three logical operators][1] that allow multiple comparisons to be combined. These three operators are described in the following table:\n",
    "\n",
    "\n",
    "| Operator  | Description             | Example                    |\n",
    "| --------- | ----------------------- | -------------------------- |\n",
    "| or   | **or** operator, `True` if either condition is true       | `a or b`|\n",
    "| and  | **and** operator, `True` only if both conditions are true       | `a and b`|\n",
    "| not  | **not** operator, opposite of condition       | `not a`|\n",
    "\n",
    "These operators are fairly self-explanatory, but one important issue is that the Python operator will stop evaluating a conditional statement as quickly as possible. Thus, if the first part of an `and` operation is `False` (or, conversely `True` for an `or` operation), the remaining part of the statement will not be processed since the overall result will be `False`. This approach is known as _short-circuiting_ and can produce faster code execution; however, it can easily lead to confusion if you perform function calls or variable creation in the latter parts of a conditional statement.\n",
    "\n",
    "These operators are demonstrated in the following Code cells, where we first define several Boolean variables before showing how to use each operator. In general, it is recommended to use parentheses to explicitly indicate operator order. Otherwise, one must be very careful to understand and follow the rules of operator precedence.\n",
    "\n",
    "-----\n",
    "[1]: https://docs.python.org/3/library/stdtypes.html#boolean-operations-and-or-not"
   ]
  },
  {
   "cell_type": "code",
   "execution_count": null,
   "metadata": {},
   "outputs": [],
   "source": [
    "c = (a == b)\n",
    "d = (a != b)\n",
    "\n",
    "print(c, d)"
   ]
  },
  {
   "cell_type": "code",
   "execution_count": null,
   "metadata": {},
   "outputs": [],
   "source": [
    "# Or operator\n",
    "c or d"
   ]
  },
  {
   "cell_type": "code",
   "execution_count": null,
   "metadata": {},
   "outputs": [],
   "source": [
    "# And operator\n",
    "\n",
    "c and d"
   ]
  },
  {
   "cell_type": "code",
   "execution_count": null,
   "metadata": {},
   "outputs": [],
   "source": [
    "# Not operator\n",
    "\n",
    "not c"
   ]
  },
  {
   "cell_type": "code",
   "execution_count": null,
   "metadata": {},
   "outputs": [],
   "source": [
    "# Demonstrate short-circuiting\n",
    "\n",
    "# Define function to print message and return Boolean\n",
    "def test():\n",
    "    print('Hello')\n",
    "    return True\n",
    "\n",
    "# Function is never called since c is False\n",
    "c and test()"
   ]
  },
  {
   "cell_type": "markdown",
   "metadata": {},
   "source": [
    "-----\n",
    "\n",
    "<font color='red' size = '5'> Student Exercise </font>\n",
    "\n",
    "In the empty **Code** cell below, create a new function called `myFunction` that takes no arguments and always returns `True`. Apply the `not` operator to the return value from this function and use the equivalence operator to compare this new value to `False`. Did the final result match your expectations?\n",
    "\n",
    "Note that you may want to use parentheses to group operations.\n",
    "\n",
    "-----"
   ]
  },
  {
   "cell_type": "code",
   "execution_count": null,
   "metadata": {},
   "outputs": [],
   "source": []
  },
  {
   "cell_type": "markdown",
   "metadata": {},
   "source": [
    "-----\n",
    "\n",
    "These operators can be used on any data types, not just integers. When comparing a more complex data type, for example, a string of characters, the equivalence tests require matching of each item in the string. This is demonstrated in the following Code cell.\n",
    "\n",
    "-----"
   ]
  },
  {
   "cell_type": "code",
   "execution_count": null,
   "metadata": {},
   "outputs": [],
   "source": [
    "\"William\" == \"william\""
   ]
  },
  {
   "cell_type": "markdown",
   "metadata": {},
   "source": [
    "-----\n",
    "\n",
    "### Conditional Statements\n",
    "\n",
    "Python supports conditional execution of code blocks by using `if` conditional branching statements. Formally, the syntax for an `if` statement is simple. \n",
    "\n",
    "```python\n",
    "if (condition):\n",
    "    # Do something\n",
    "```\n",
    "\n",
    "If the condition evaluates to `True`, the indented statements are executed; otherwise, they are not executed, and the program execution continues with the lines following the if clause. The condition can be any combination of variables, functions, comparison, or logical operators as long as the final result evaluates to either `True` or `False`. The following Code cell demonstrates the basic operation of an `if` statement.\n",
    "\n",
    "-----"
   ]
  },
  {
   "cell_type": "code",
   "execution_count": null,
   "metadata": {
    "scrolled": true
   },
   "outputs": [],
   "source": [
    "# Test out an if ... else statement\n",
    "\n",
    "# First define a function to use\n",
    "def theFunction():\n",
    "    return False\n",
    "\n",
    "print('Before the if statement.')\n",
    "\n",
    "if (not theFunction()):\n",
    "    print('Inside the if statement.')\n",
    "\n",
    "print('After the if statement.')"
   ]
  },
  {
   "cell_type": "markdown",
   "metadata": {},
   "source": [
    "-----\n",
    "\n",
    "An `if` statement can also execute statements if the condition is `False` by using an `else` clause as shown in the following pseudocode:\n",
    "\n",
    "\n",
    "```python\n",
    "if (condition):\n",
    "    # Do something\n",
    "else:\n",
    "    # Do something else        \n",
    "```\n",
    "\n",
    "In this case, either the first set of statements (indicted by the `# Do something` comment) is executed, or the second set of statements (indicted by the `# Do something else` comment) is executed, depending on whether the condition evaluates to `True` (the first set of statements) or `False` (the second set of statements). This is demonstrated in the following Code cell.\n",
    "\n",
    "-----"
   ]
  },
  {
   "cell_type": "code",
   "execution_count": null,
   "metadata": {},
   "outputs": [],
   "source": [
    "# Test out an if ... else statement\n",
    "\n",
    "print('Before the if statement.')\n",
    "\n",
    "if (theFunction()):\n",
    "    print('Inside the true section.')\n",
    "else:\n",
    "    print('Inside the false section.')\n",
    "\n",
    "print('After the if statement.')"
   ]
  },
  {
   "cell_type": "markdown",
   "metadata": {},
   "source": [
    "-----\n",
    "\n",
    "### Nested `if` statements\n",
    "\n",
    "We can nest `if` statements inside each other to handle more complex tests. The key requirement is that you must maintain the proper level of indentation for each `if` and `else` clause. A nested `if` statement can be useful when handling multiple options depending on the values of multiple variables. This is demonstrated in the following Code cell.\n",
    "\n",
    "-----"
   ]
  },
  {
   "cell_type": "code",
   "execution_count": null,
   "metadata": {},
   "outputs": [],
   "source": [
    "# We assign multiple variables on one line, separating them by a semicolon\n",
    "# This is just a shorthand to avoid placing them on different lines\n",
    "x = 7 ; y = 14"
   ]
  },
  {
   "cell_type": "code",
   "execution_count": null,
   "metadata": {},
   "outputs": [],
   "source": [
    "if (x > 10):\n",
    "    if (y > 10):\n",
    "        print('Both x and y are large.')\n",
    "    else:\n",
    "        print('x is large and y is small.')\n",
    "else:\n",
    "    if (y > 10):\n",
    "        print('x is small and y is large.')\n",
    "    else:\n",
    "        print('Both x and y are small.')"
   ]
  },
  {
   "cell_type": "markdown",
   "metadata": {},
   "source": [
    "-----\n",
    "\n",
    "### The `elif` clause\n",
    "\n",
    "Multiple branches are supported by using one or more `elif` commands, which is shorthand for `else if`, after the initial `if` statement. An `else` statement can be used to handle any results that are not met by previous conditional statements. The code blocks are initiated by a colon character following and indented four spaces, as demonstrated in the following sample code:\n",
    "\n",
    "```python\n",
    "if (x > 10):\n",
    "    print(\"x is large\")\n",
    "elif (x > 5):\n",
    "    print(\"x is medium\")\n",
    "else:\n",
    "    print(\"x is small\")\n",
    "```\n",
    "\n",
    "Depending on the value of the variable `x`, the first, second, or third `print` statement will be executed. `if` control statements can be nested if required by the algorithmic logic, but doing so requires being extremely careful to maintain proper indentation. Nested conditional statements are demonstrated in the following sample code:\n",
    "\n",
    "```python\n",
    "if (x > 10):\n",
    "    if (y > 10):\n",
    "        print(\"x and y are large\")\n",
    "    else:\n",
    "        print(\"x is large, but y is not\")  \n",
    "elif (x > 5):\n",
    "    if (y > 10):\n",
    "        print(\"x is medium but y is large\")\n",
    "else:\n",
    "    if (y > 10):\n",
    "        print(\"x is small and y is large\")\n",
    "    elif (y > 5):\n",
    "        print(\"x is small but y is medium\")\n",
    "    else:\n",
    "        print(\"x and y are small\")\n",
    "```\n",
    "\n",
    "-----"
   ]
  },
  {
   "cell_type": "markdown",
   "metadata": {},
   "source": [
    "<font color='red' size = '5'> Student Exercise </font>\n",
    "\n",
    "The **Code** cell below contains this last conditional statement. Provide your own initial values for `x` and `y`, and before executing the Code cell, determine what output will be displayed. Now run the Code cell. Was your expectation correct? Try different values for `x` and `y` and repeat this process, and (optionally) try changing the conditional statements.\n",
    "\n",
    "-----"
   ]
  },
  {
   "cell_type": "code",
   "execution_count": null,
   "metadata": {},
   "outputs": [],
   "source": [
    "# Change the values for x and y and see how the output changes\n",
    "\n",
    "x = 10\n",
    "y = 10\n",
    "\n",
    "if (x > 10):\n",
    "    if (y > 10):\n",
    "        print(\"x and y are large\")\n",
    "    else:\n",
    "        print(\"x is large, but y is not\")  \n",
    "elif (x > 5):\n",
    "    if (y > 10):\n",
    "        print(\"x is medium but y is large\")\n",
    "else:\n",
    "    if (y > 10):\n",
    "        print(\"x is small and y is large\")\n",
    "    elif (y > 5):\n",
    "        print(\"x is small but y is medium\")\n",
    "    else:\n",
    "        print(\"x and y are small\")"
   ]
  },
  {
   "cell_type": "markdown",
   "metadata": {},
   "source": [
    "-----\n",
    "\n",
    "### Handling empty code blocks\n",
    "\n",
    "While you can simply place a comment in an indented block to indicate no code should be executed, a better option, which is explicit, is to use the `pass` statement. The `pass` statement does nothing and is a simple placeholder that is used in place of a code block when no action is required. This statement can be useful to delay writing specific operations, for example, when you build a multi-way `if` statement and the code to implement each option is not finalized. This is demonstrated in the following Code cell.\n",
    "\n",
    "-----"
   ]
  },
  {
   "cell_type": "code",
   "execution_count": null,
   "metadata": {},
   "outputs": [],
   "source": [
    "# value could be entered by user or computed\n",
    "value = \"violet\"\n",
    "\n",
    "if (value == \"blue\"):\n",
    "    print(\"Your favorite color is blue.\")\n",
    "    # modify a plot visualization to use blue\n",
    "elif (value == \"red\"):\n",
    "    pass # No code option yet for red\n",
    "else:\n",
    "    print(\"You did not enter a valid color selection\")"
   ]
  },
  {
   "cell_type": "markdown",
   "metadata": {},
   "source": [
    "-----\n",
    "## Loops\n",
    "\n",
    "A loop executes an action while a condition is met, then terminates. There are two basic looping techniques.\n",
    "\n",
    "### `while` loops\n",
    "\n",
    "A `while` loop will execute while a condition is `True`, as its name implies. The `while` loop first checks whether a condition is true. If it is, the loop takes some actions and then rechecks the condition. If the condition is true, the loop executes again. This process repeats until the condition is false. *Note:* This is where you can easily create an **infinite loop**, which is very, very **bad** thing.\n",
    "\n",
    "The syntax for a `while` loop is:\n",
    "\n",
    "```python\n",
    "while condition:\n",
    "    statement 1\n",
    "    statement 2\n",
    "    ...\n",
    "```\n",
    "\n",
    "### `for` loops\n",
    "\n",
    "A `for` loop is very similiar to a `while` loop. It will test a condition and execute the body of the loop if the condition is satisfied. The difference is that a `for` loop will *iterate*, or loop over, something automatically. These are the types of loops you will encounter very, very frequently. Therefore, you should gain a solid understanding of them. The syntax of a `for` loop is:\n",
    "\n",
    "```python\n",
    "for variable in somethingIterable:\n",
    "    statement 1\n",
    "    statement 2\n",
    "    ...\n",
    "```\n",
    "\n",
    "A common scenario is to loop over a collection of data, such as a `list`. The code below creates a new list and iterates through it using a `for` loop.`"
   ]
  },
  {
   "cell_type": "code",
   "execution_count": null,
   "metadata": {},
   "outputs": [],
   "source": [
    "# Create a list with some stuff in it\n",
    "myList = [1, 3, \"Five\", 7, 9]\n",
    "\n",
    "# Iterate over myList with a for loop, simply printing each element\n",
    "for i in myList:\n",
    "    print(i)"
   ]
  },
  {
   "cell_type": "markdown",
   "metadata": {},
   "source": [
    "You will also encounter the scenario where you know the number of times you want to execute a specific number of times. You can accomplish this task by using the built-in `range()` function. Although it appears that `range()` returns and acts like a `list`, it does not; it is in fact an object which returns successive items of the desired sequence when you iterate over it (this saves space). Let's try it."
   ]
  },
  {
   "cell_type": "code",
   "execution_count": null,
   "metadata": {},
   "outputs": [],
   "source": [
    "# set up the number of times you want to execute a statement\n",
    "n = 5\n",
    "for i in range(n):\n",
    "    print(\"i =\", i)"
   ]
  },
  {
   "cell_type": "markdown",
   "metadata": {},
   "source": [
    "You should have noticed, that by default, the `range()` function starts at 0. You can change this behavior by passing in two parameters: the starting point and the ending point, whic is **excluded**. The call `range(1, 5)` would only create the sequence of numbers `1, 2, 3, 4` and **not** include the number 5."
   ]
  },
  {
   "cell_type": "code",
   "execution_count": null,
   "metadata": {},
   "outputs": [],
   "source": [
    "# Create a starting point of 1\n",
    "start = 1\n",
    "for i in range(start, n):\n",
    "    print(\"i =\", i)"
   ]
  },
  {
   "cell_type": "markdown",
   "metadata": {},
   "source": [
    "### `break` and `continue`\n",
    "\n",
    "We can use the keywords `break` or `continue` within loops. The `break` statment breaks out of the innermost enclosing `for` or `while` loop. Conversely, the `continue` statement continues with the next iteration of the loop. Let's look at both now."
   ]
  },
  {
   "cell_type": "code",
   "execution_count": null,
   "metadata": {},
   "outputs": [],
   "source": [
    "# Loop through numbers 1 to 9\n",
    "# Break out of the for loop when we find 5\n",
    "for num in range(1, 10):\n",
    "    if num == 5:\n",
    "        print(\"Found 5, so breaking\")\n",
    "        break\n",
    "    print(\"num is\", num)"
   ]
  },
  {
   "cell_type": "code",
   "execution_count": null,
   "metadata": {},
   "outputs": [],
   "source": [
    "# Loop through numbers 1 to 9\n",
    "# Continue to next iteration when we find 5\n",
    "for num in range(1, 10):\n",
    "    if num == 5:\n",
    "        continue  # skip the number 5\n",
    "    print(\"num is\", num)"
   ]
  },
  {
   "cell_type": "markdown",
   "metadata": {},
   "source": [
    "-----\n",
    "## Ancillary Information\n",
    "\n",
    "The following links are to additional documentation that you might find helpful in learning this material. Reading these web-accessible documents is completely optional.\n",
    "\n",
    "1. The official Python documentation for [conditional statements][1]\n",
    "2. The book _A Byte of Python_ includes an introduction to [conditional statements](https://python.swaroopch.com/control_flow.html).\n",
    "3. The book [*Think Python*][2] includes a discussion on conditional statements.\n",
    "\n",
    "\n",
    "-----\n",
    "\n",
    "[1]: https://docs.python.org/3/tutorial/controlflow.html#if-statements\n",
    "[2]: http://greenteapress.com/thinkpython2/html/thinkpython2006.html"
   ]
  },
  {
   "cell_type": "markdown",
   "metadata": {
    "deletable": false,
    "editable": false
   },
   "source": [
    "**&copy; 2021 - Present: Matthew D. Dean, Ph.D.   \n",
    "Clinical Associate Professor of Business Analytics at William \\& Mary.**"
   ]
  }
 ],
 "metadata": {
  "kernelspec": {
   "display_name": "Python 3",
   "language": "python",
   "name": "python3"
  },
  "language_info": {
   "codemirror_mode": {
    "name": "ipython",
    "version": 3
   },
   "file_extension": ".py",
   "mimetype": "text/x-python",
   "name": "python",
   "nbconvert_exporter": "python",
   "pygments_lexer": "ipython3",
   "version": "3.8.5"
  }
 },
 "nbformat": 4,
 "nbformat_minor": 1
}
