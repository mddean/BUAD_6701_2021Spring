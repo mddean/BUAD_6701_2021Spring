{
 "cells": [
  {
   "cell_type": "markdown",
   "metadata": {},
   "source": [
    "## List Comprehension\n",
    "\n",
    "List comprehensions are convenient ways to quickly create a `list`. We'll look at a \"traditional\" way to create a `list` using a `for` loop and then create the same `list` using list comprehension. To create a list comprehension, you need to understand that every list comprehension includes three elements:\n",
    "\n",
    "1. `expression` is the member itself, a call to a method, or any other valid expression that returns a value.\n",
    "2. `member` is the object or value in the list or iterable.\n",
    "3. `iterable` is a list, set, sequence, generator, or any other object that can return its elements one at a time. \n",
    "\n",
    "The format to create a new `list` using a comprehension statement then is:\n",
    "\n",
    "```python\n",
    "newList = [expression for member in iterable]\n",
    "```"
   ]
  },
  {
   "cell_type": "markdown",
   "metadata": {},
   "source": [
    "-----\n",
    "\n",
    "One of the advantages of using a list comprehension statement is that you can often gain efficiency and speed up your code. For many of the tasks that we will encounter, this may not be a huge deal. However, when you start to create larger and more involved Python programs, you may find the gain in speed is worth it.\n",
    "\n",
    "One of the disadvantages of a list comprehension statement is that it is more difficult to read and understand for Python beginners. If you come from another programming language, like Java, then it is also new to you. Many people argue that once you understand the format it is easier to read and understand and is in fact a more **Pythonic** way to write code.\n",
    "\n",
    "One additional thing to keep in mind is that every list comprehension statement can always be translated to a traditional `for` loop. The reverse is **not** true; not every `for` loop can be converted to a comprehension statement.\n",
    "\n",
    "Let's try an example. We'll create a list that contains the squares of the numbers 1 through 1000. "
   ]
  },
  {
   "cell_type": "code",
   "execution_count": null,
   "metadata": {},
   "outputs": [],
   "source": [
    "# Create a list in a \"traditional\" manner\n",
    "# First, create the empty list\n",
    "myList = []\n",
    "\n",
    "# Use a for loop starting at 1 going up to and including 1000 by stepsize of 1\n",
    "# Append the squared value into the list\n",
    "for i in range(1,1001,1):\n",
    "    myList.append(i**2)"
   ]
  },
  {
   "cell_type": "code",
   "execution_count": null,
   "metadata": {},
   "outputs": [],
   "source": [
    "# Now do it with a list comprehension statement\n",
    "newList = [i**2 for i in range(1,1001,1)]"
   ]
  },
  {
   "cell_type": "code",
   "execution_count": null,
   "metadata": {},
   "outputs": [],
   "source": [
    "# Test to see if they are the equal (== tests element-wise)\n",
    "myList == newList"
   ]
  },
  {
   "cell_type": "markdown",
   "metadata": {},
   "source": [
    "### Explaining the Example\n",
    "\n",
    "In our example above, the **expression** is `i**2`, the **member** value is `i`, and **iterable** is `range(1,1001,1)`. One of the benefits of a list comprehension statement, once you get used to using them, is that it focuses on *what* you want to put in the list. In our case, we wanted to put the squared values in the new list. This expression is the first part of the comprehension statement, emphasizing *what* we are storing in the new list. If you have a strong mathematics background, you might think of of this as describing sets or perhaps equations."
   ]
  },
  {
   "cell_type": "markdown",
   "metadata": {},
   "source": [
    "-----\n",
    "\n",
    "## Adding Conditionals\n",
    "\n",
    "We can also include conditional statements within the comprehension statement. The format for doing so is:\n",
    "\n",
    "```python\n",
    "newList = [expression for member in iterable (if conditional)]\n",
    "```\n",
    "\n",
    "You will find that having the ability to add a conditional statment is a useful feature. As a contrived example, suppose we only wanted to store the squared values of the **even** integers from 1 to 10. We can easily accomplish this with a list comprehension statement with a conditional. Let's try it."
   ]
  },
  {
   "cell_type": "code",
   "execution_count": null,
   "metadata": {},
   "outputs": [],
   "source": [
    "# Create a list that contains the squared values of the *even* integers\n",
    "# from 1 to 10 (inclusively) using a list comprehension statement\n",
    "evenSquares = [i**2 for i in range(1,11) if i%2 == 0]\n",
    "print(evenSquares)"
   ]
  },
  {
   "cell_type": "markdown",
   "metadata": {},
   "source": [
    "What if, additionally, we wanted to also store the cube of the odd integers from 1 to 10. That is, we want a list that looks like this:\n",
    "\n",
    "```python\n",
    "\n",
    "```\n",
    "\n",
    "To do so, we need to add an `else` clause to our conditional. Let's try it."
   ]
  },
  {
   "cell_type": "code",
   "execution_count": null,
   "metadata": {},
   "outputs": [],
   "source": [
    "# Create a list that contains the squared values of the *even* integers\n",
    "# and the cubed value of the odd integers from 1 to 10 (inclusively)\n",
    "# using a list comprehension statement\n",
    "\n",
    "# Will this work?\n",
    "evenSquaresOddCubes = [i**2 for i in range(1,11) if i%2 == 0 else i**3]\n",
    "print(evenSquaresOddCubes)"
   ]
  },
  {
   "cell_type": "code",
   "execution_count": null,
   "metadata": {},
   "outputs": [],
   "source": [
    "# Nope ... so now what?\n",
    "# We have to move the `if ... else` forward\n",
    "# NOTE: the parantheses are not necessary, but might help with readability\n",
    "evenSquaresOddCubes = [(i**2 if i%2 == 0 else i**3) for i in range(1,11)]\n",
    "print(evenSquaresOddCubes)"
   ]
  },
  {
   "cell_type": "markdown",
   "metadata": {},
   "source": [
    "----"
   ]
  },
  {
   "cell_type": "markdown",
   "metadata": {},
   "source": [
    "----\n",
    "\n",
    "<font color='red' size = '5'> Student Exercise </font>\n",
    "\n",
    "In the **Code** cell below, write a list comprehension statement that will create a new list called `vowels` that only contain the letters \"a\", \"e\", \"i\", \"o\", and \"u\" found in the given `sentence`. \n",
    "\n",
    "- *HINT:* It is good practice to put the sentence in lower case and only checking for the lower case vowels.\n",
    "- *SANITY CHECK:* If you do this correctly, your list `vowels` should have a length of 20.\n",
    "\n",
    "-----"
   ]
  },
  {
   "cell_type": "code",
   "execution_count": null,
   "metadata": {},
   "outputs": [],
   "source": [
    "# Initializing our variable `sentence`\n",
    "sentence = \"How much wood could a woodchuck chuck if woodchuck could chuck wood?\"\n",
    "\n",
    "### YOUR CODE HERE\n"
   ]
  },
  {
   "cell_type": "markdown",
   "metadata": {},
   "source": [
    "-----\n",
    "\n",
    "## Dictionary Comprehension\n",
    "\n",
    "Dictionary comprehension is very similar to list comprehension. The only differences are that:\n",
    "\n",
    "- Dictionary comprehension uses curly braces rather than square brackets\n",
    "- You **must** specify keys and values, separated by a colon, to be appended to the dictionary rather than just a single element\n",
    "\n",
    "Let's create a dictionary with the key being an integer and the value being the squared value of that integer.\n",
    "\n",
    "----"
   ]
  },
  {
   "cell_type": "code",
   "execution_count": null,
   "metadata": {},
   "outputs": [],
   "source": [
    "# Create `d1` with keys of 1 to 5 (inclusively) and values being the squared values of the keys\n",
    "d1 = {i:i**2 for i in range(1,6)}\n",
    "print(d1)"
   ]
  },
  {
   "cell_type": "code",
   "execution_count": null,
   "metadata": {},
   "outputs": [],
   "source": [
    "# We can also get the keys\n",
    "print(d1.keys())"
   ]
  },
  {
   "cell_type": "code",
   "execution_count": null,
   "metadata": {},
   "outputs": [],
   "source": [
    "# Or the values\n",
    "print(d1.values())"
   ]
  },
  {
   "cell_type": "code",
   "execution_count": null,
   "metadata": {},
   "outputs": [],
   "source": [
    "# Or both at the same time\n",
    "print(d1.items())"
   ]
  },
  {
   "cell_type": "markdown",
   "metadata": {},
   "source": [
    "### Creating a New Dictionary Based On Original\n",
    "\n",
    "Now, let's create a new dictionary `d2`, using dictionary comprehension, that contains only the keys that are **even**. We will also replace the original values (the squared values) with the string \"key was even\"."
   ]
  },
  {
   "cell_type": "code",
   "execution_count": null,
   "metadata": {},
   "outputs": [],
   "source": [
    "d2 = {k:\"key was even\" for (k,v) in d1.items() if k%2 == 0}\n",
    "print(d2)"
   ]
  },
  {
   "cell_type": "markdown",
   "metadata": {},
   "source": [
    "-----\n",
    "\n",
    "You can also change the keys. Let's try to creating `d3` which will take the original dictionary, `d1`, and replace the key with the string \"even\" if the original key was an even number. Keep the values the same."
   ]
  },
  {
   "cell_type": "code",
   "execution_count": null,
   "metadata": {},
   "outputs": [],
   "source": [
    "d3 = {\"even\":v for (k,v) in d1.items() if k%2 == 0}\n",
    "print(d3)"
   ]
  },
  {
   "cell_type": "markdown",
   "metadata": {},
   "source": [
    "### What Happened?\n",
    "\n",
    "You tell me!\n",
    "\n",
    "----"
   ]
  },
  {
   "cell_type": "markdown",
   "metadata": {},
   "source": [
    "### Adding an `else` Clause\n",
    "\n",
    "In many cases, you want to have an else clause in your dictionary comprehension statement. Suppose we want to have \"key was even\" for values where the key was an even number and \"key was odd\" for the values where key was an odd number. To do this, we need to adjust our statement that created `d2` above to include an else clause. To do so, however, we move the conditional statement into the values portion of the dictionary creation."
   ]
  },
  {
   "cell_type": "code",
   "execution_count": null,
   "metadata": {},
   "outputs": [],
   "source": [
    "# Create a new dictionary, d4, bassed on the original dictionary, d1.\n",
    "# It should have the original keys, but the values should be \"key was even\"\n",
    "# or \"key was odd\" based on the key itself\n",
    "\n",
    "d4 = {k:(\"key was even\" if k%2 == 0 else \"key was odd\") for (k,v) in d1.items()}\n",
    "print(d4)"
   ]
  },
  {
   "cell_type": "markdown",
   "metadata": {},
   "source": [
    "-----\n",
    "\n",
    "### Nested Dictionary Comprehension\n",
    "\n",
    "There are many times when you have a **nested dictionary** - a dictionary that has values that are themselves dictionaries. You can nest your dictionary comprehension statements, but you must be cautious because the readability becomes much more difficult.\n",
    "\n",
    "Let's create a nested dictionary. Then let's use nested `for` loops to create a new dictionary based off it. Then, we'll translate the nested `for` loop approach to a nested dictionary comprehension statement."
   ]
  },
  {
   "cell_type": "code",
   "execution_count": null,
   "metadata": {},
   "outputs": [],
   "source": [
    "# Create a nested dictionary\n",
    "nDict = {\"first\":{\"one\":1}, \"second\":{\"two\":2}}\n",
    "print(nDict)"
   ]
  },
  {
   "cell_type": "code",
   "execution_count": null,
   "metadata": {},
   "outputs": [],
   "source": [
    "# Now, use nested for loops to create a new nested dictionary that converts the integer values to floats\n",
    "floatDict = {}\n",
    "for (outerK, outerV) in nDict.items():\n",
    "    for (innerK, innerV) in outerV.items():\n",
    "        floatDict[outerK] = {innerK:float(innerV)}\n",
    "        \n",
    "print(floatDict)"
   ]
  },
  {
   "cell_type": "code",
   "execution_count": null,
   "metadata": {},
   "outputs": [],
   "source": [
    "# Now do the same thing with a nested comprehension statement\n",
    "floatDict2 = {outerK:{innerK:float(innerV) for (innerK, innerV) in outerV.items()} for (outerK, outerV) in nDict.items()}\n",
    "print(floatDict2)"
   ]
  },
  {
   "cell_type": "markdown",
   "metadata": {},
   "source": [
    "#### Which Do You Like Better?\n",
    "\n",
    "As you can see the nested comprehension statement starts to get complex quickly. One of the ways to unpack the nested comprehension statement is to compare it to the nested `for` loops above. Notice that the **outer** `for` appears at the far right of the nested comprehension statement. In this sense, you can think of of reading the comprehension statement \"backwards\" from right to left to translate it into a nested `for` loop.\n",
    "\n",
    "-----"
   ]
  },
  {
   "cell_type": "markdown",
   "metadata": {},
   "source": [
    "-----\n",
    "\n",
    "<font color='red' size = '5'> Student Exercise </font>\n",
    "\n",
    "In the **Code** cell below, write Python code that will create a new dictionary called `vowelDict` that contain the letters \"a\", \"e\", \"i\", \"o\", and \"u\" for keys and the number of occurrences of each vowel found in the given `sentence`. \n",
    "\n",
    "- *MAJOR HINT:* Do **not** try to complete this task with a comprehension statement.\n",
    "- *HINT:* It is good practice to put the sentence in lower case and only checking for the lower case vowels.\n",
    "- *SANITY CHECK:* If you do this correctly, your dictionary `vowelDict` should look like this: `{'o': 11, 'u': 7, 'a': 1, 'i': 1}`\n",
    "\n",
    "-----"
   ]
  },
  {
   "cell_type": "code",
   "execution_count": null,
   "metadata": {},
   "outputs": [],
   "source": [
    "# Initializing our variable `sentence`\n",
    "sentence = \"How much wood could a woodchuck chuck if woodchuck could chuck wood?\"\n",
    "\n",
    "### YOUR CODE HERE\n"
   ]
  },
  {
   "cell_type": "markdown",
   "metadata": {},
   "source": [
    "-----\n",
    "\n",
    "<font color='red' size = '5'> Student Exercise </font>\n",
    "\n",
    "In the **Code** cell below, you have been given a dictionary of students' performances. The key is a `tuple` that contains a name, gender, and class. The value is a `list` of test grades for the student. You have two tasks, where the second builds off of the first one.\n",
    "\n",
    "1. Create a new dictionary, called `dictAvgGrade`, using a comprehension statement that calculates the average grade for each student.\n",
    "2. Write a list comprehension statement that creates a list called `gradesSoph` where each element of the list is the average grade of a sophomore. You should use the work you completed in task 1 above to make your life easier.\n",
    "\n",
    "-----\n"
   ]
  },
  {
   "cell_type": "code",
   "execution_count": null,
   "metadata": {},
   "outputs": [],
   "source": [
    "studentPerf = {('Jeffery','male','junior'):[0.81,0.75,0.74,0.8],\n",
    "('Able','male','senior'):[0.87,0.79,0.81,0.81],\n",
    "('Don','male','junior'):[0.82,0.77,0.8,0.8],\n",
    "('Will','male','senior'):[0.86,0.78,0.77,0.78],\n",
    "('John','male','junior'):[0.74,0.81,0.87,0.73],\n",
    "('Patrick','male','senior'):[0.9,0.82,0.94,0.79],\n",
    "('Iggie','male','senior'):[0.8,0.88,0.87,0.88],\n",
    "('Harvey','male','sophomore'):[0.66,0.76,0.79,0.76],\n",
    "('Ralph','male','senior'):[0.81,0.78,0.8,0.89],\n",
    "('Edward','male','senior'):[0.81,0.87,0.88,0.84],\n",
    "('Eric','male','junior'):[0.76,0.73,0.83,0.76],\n",
    "('Wallace','male','sophomore'):[0.7,0.8,0.79,0.8],\n",
    "('Ronald','male','senior'):[0.76,0.78,0.82,0.83],\n",
    "('Perry','male','junior'):[0.83,0.87,0.77,0.75],\n",
    "('Robert','male','senior'):[0.92,0.8,0.82,0.84],\n",
    "('Thomas','male','junior'):[0.76,0.72,0.8,0.72],\n",
    "('Mark','male','senior'):[0.87,0.79,0.81,0.83],\n",
    "('Santiago','male','junior'):[0.77,0.81,0.74,0.75],\n",
    "('Diego','male','senior'):[0.78,0.8,0.8,0.8],\n",
    "('Samuel','male','senior'):[0.8,0.89,0.82,0.87],\n",
    "('Alejandro','male','senior'):[0.86,0.79,0.87,0.8]}"
   ]
  },
  {
   "cell_type": "code",
   "execution_count": null,
   "metadata": {},
   "outputs": [],
   "source": [
    "## Task 1\n",
    "# Create a dictionary with a comprehension statement\n",
    "# The key should be the student tuple from studentPerf\n",
    "# The value should be the average grade for that student\n",
    "\n",
    "### YOUR CODE HERE\n",
    "\n",
    "print(\"dictAvgGrade:\", dictAvgGrade)"
   ]
  },
  {
   "cell_type": "code",
   "execution_count": null,
   "metadata": {},
   "outputs": [],
   "source": [
    "## Task 2\n",
    "# Create a list of grades for the sophomores using a comprehension statement\n",
    "\n",
    "### YOUR CODE HERE\n",
    "\n",
    "\n",
    "print(\"gradesSoph:\", gradesSoph)"
   ]
  },
  {
   "cell_type": "markdown",
   "metadata": {
    "deletable": false,
    "editable": false
   },
   "source": [
    "-----\n",
    "\n",
    "**&copy; 2021 - Present: Matthew D. Dean, Ph.D.   \n",
    "Clinical Associate Professor of Business Analytics at William \\& Mary.**"
   ]
  }
 ],
 "metadata": {
  "kernelspec": {
   "display_name": "Python 3",
   "language": "python",
   "name": "python3"
  },
  "language_info": {
   "codemirror_mode": {
    "name": "ipython",
    "version": 3
   },
   "file_extension": ".py",
   "mimetype": "text/x-python",
   "name": "python",
   "nbconvert_exporter": "python",
   "pygments_lexer": "ipython3",
   "version": "3.8.5"
  }
 },
 "nbformat": 4,
 "nbformat_minor": 4
}
