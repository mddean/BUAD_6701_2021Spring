{
 "cells": [
  {
   "cell_type": "markdown",
   "metadata": {},
   "source": [
    "# Module 3: Introduction to Python\n",
    "\n",
    "This module focuses on the basic features in the Python programming language that underlie most data analytics programs (or scripts). We have already learned the basic concepts of the Python programming language such as how to create variables, basic data types and mathematical operators, and how to document your programs with comments. Now, we turn our attention to other built-in data types and data structures in Python. Then, we will learn about Boolean and logical operators in Python and how they can be used to control the flow of a Python program by using conditional statements. We will also explore two different types of loops to control the flow of our programs. Then, we will learn about functions and how they can simplify developing and maintaining computer programs. We will also learn how to create and call functions in Python. \n",
    "\n",
    "Finally, we introduces a few more somewhat advanced features in the Python programming language that we encounter frequently. First, we turn our attention to **comprehension** statements for both a `list` and a `dict`. Comprehension statements are simply ways to rewrite a `for` loop with a single line of code. Then, we will learn about **lambda** functions. These are unnamed functions that are often used a single time in your code.\n",
    "\n",
    "\n",
    "## Learning Objectives\n",
    "\n",
    "#### By the end of this module, you should be able to:\n",
    "\n",
    "- write simple Python scripts,\n",
    "- effectively create and use variables of different data types in a Python program,\n",
    "- understand the different built-in data structures in Python,\n",
    "- write simple Python functions,\n",
    "- apply Boolean and logical operators within conditional statements in a Python program\n",
    "- understand how to turn a `for` loop into a comprehension statement\n",
    "- write comprehension statements for both `list`s and dictionaries\n",
    "- understand how a lambda function works in Python\n",
    "- write lambda functions\n",
    "\n",
    "### Activities\n",
    "\n",
    "| Activities                | \n",
    "| :--------------------------------------- | \n",
    "| **[Module 3: Python Data Structures][nb1]** |\n",
    "| **[Module 3: Python Conditional Statements and Control Flow][nb2]** |\n",
    "| **[Module 3: Introduction to Python Functions][nb3]** |\n",
    "| **[Module 3: Comprehension Statements][nb4]** |\n",
    "| **[Module 3: Lambda Functions][nb5]** |\n",
    "\n",
    "\n",
    "[nb1]: dataStructures.ipynb\n",
    "[nb2]: intro2control.ipynb\n",
    "[nb3]: intro2functions.ipynb\n",
    "[nb4]: compStmts.ipynb\n",
    "[nb5]: lambdaFn.ipynb"
   ]
  },
  {
   "cell_type": "markdown",
   "metadata": {},
   "source": [
    "## Ancillary Information\n",
    "\n",
    "The following links are to additional documentation that you might find helpful in learning this material.\n",
    "\n",
    "1. When to use a list comprehension in Python [tutorial][1].\n",
    "2. DataCamp's tutorial on [Python List Comprehension][2].\n",
    "3. DataCamp's [Python Dictionary Comprehension Tutorial][3].\n",
    "4. The official Python documentation for [lambda functions][4].\n",
    "5. The wikibook [Python Programming/Functions][5] has information relevant to the advanced features of creating user-defined functions, much of what we did **not** cover, but is nonetheless very useful information. \n",
    "\n",
    "-----\n",
    "\n",
    "[1]: https://realpython.com/list-comprehension-python/\n",
    "[2]: https://www.datacamp.com/community/tutorials/python-list-comprehension\n",
    "[3]: https://www.datacamp.com/community/tutorials/python-dictionary-comprehension\n",
    "[4]: https://docs.python.org/3/howto/functional.html#small-functions-and-the-lambda-expression\n",
    "[5]: https://en.wikibooks.org/wiki/Python_Programming/Functions"
   ]
  },
  {
   "cell_type": "markdown",
   "metadata": {
    "deletable": false,
    "editable": false
   },
   "source": [
    "-----\n",
    "\n",
    "**&copy; 2021 - Present: Matthew D. Dean, Ph.D.   \n",
    "Clinical Associate Professor of Business Analytics at William \\& Mary.**"
   ]
  }
 ],
 "metadata": {
  "kernelspec": {
   "display_name": "Python 3",
   "language": "python",
   "name": "python3"
  },
  "language_info": {
   "codemirror_mode": {
    "name": "ipython",
    "version": 3
   },
   "file_extension": ".py",
   "mimetype": "text/x-python",
   "name": "python",
   "nbconvert_exporter": "python",
   "pygments_lexer": "ipython3",
   "version": "3.8.5"
  }
 },
 "nbformat": 4,
 "nbformat_minor": 2
}
