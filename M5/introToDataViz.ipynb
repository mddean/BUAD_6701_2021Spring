{
 "cells": [
  {
   "cell_type": "markdown",
   "metadata": {},
   "source": [
    "# M5 - Introduction to Data Visualization"
   ]
  },
  {
   "cell_type": "markdown",
   "metadata": {},
   "source": [
    "----\n",
    "\n",
    "## Distribution Analysis\n",
    "\n",
    "Many times you are interested in the distribution of a variable/attribute/column in a dataset. We can create summary statistics as well as create some visuals. For distributional analysis we want to understand the \"shape\" of the variable. The two common aspects to the shape of the distribution is central location and dispersion/spread. Central location is often described by the mean, median, and/or mode. Dispersion is often described by standard deviation, variance, range, and/or inter-quartile range."
   ]
  },
  {
   "cell_type": "markdown",
   "metadata": {},
   "source": [
    "### An Example - The Normal Distribution\n",
    "\n",
    "Remember the Normal distribution from your statistics classes? It is a **family** of distributions described by two parameters, a mean ($\\mu$) and a standard deviation ($\\sigma$). For a given $\\mu$, the larger the $\\sigma$ the more dispersed the data is, meaning the distribution is flatter with heavier tails. Let's plot two different Normal distributions with the same $\\mu$ but two different $\\sigma$s. "
   ]
  },
  {
   "cell_type": "code",
   "execution_count": null,
   "metadata": {},
   "outputs": [],
   "source": [
    "# Import statements\n",
    "import matplotlib.pyplot as plt\n",
    "import numpy as np\n",
    "import scipy.stats\n",
    "\n",
    "# Give the range for x from -10 to +10\n",
    "xMin = -10.0\n",
    "xMax = 10.0\n",
    "\n",
    "# Set the mean at 0 and then set two different standard deviations\n",
    "mean = 0.0 \n",
    "std1 = 2.0\n",
    "std2 = 3.0\n",
    "\n",
    "# Return 100 evenly spaced numbers between -10 and +10.\n",
    "x = np.linspace(xMin, xMax, num=100)\n",
    "\n",
    "# Create the y variables for each distribution\n",
    "y = scipy.stats.norm.pdf(x, mean, std1)\n",
    "y2 = scipy.stats.norm.pdf(x, mean, std2)\n",
    "\n",
    "# Plot the N(0, 2) in coral\n",
    "plt.plot(x, y, color=\"coral\")\n",
    "\n",
    "# Plot the N(0, 3) in blue\n",
    "plt.plot(x, y2, color=\"blue\")"
   ]
  },
  {
   "cell_type": "markdown",
   "metadata": {},
   "source": [
    "-----\n",
    "\n",
    "### Automobile Data\n",
    "\n",
    "We have the file `auto.csv` which contains information on different vehicles. The data contains the following variables:\n",
    "\n",
    "- mpg: miles per gallon\n",
    "- cylinders: number of cylinders for the engine (between 4 and 8)\n",
    "- displacement: engine displacement (cubic inches)\n",
    "- horsepower: engine horsepower\n",
    "- weight: vehicle weight (lbs.)\n",
    "- acceleration: time to accelerate from 0 to 60 mph (seconds)\n",
    "- year: model year\n",
    "- origin: origin of the vehicle (1=American, 2=European, 3=Japanese)\n",
    "- name: vehicle name"
   ]
  },
  {
   "cell_type": "code",
   "execution_count": null,
   "metadata": {},
   "outputs": [],
   "source": [
    "# import pandas\n",
    "import pandas as pd\n",
    "\n",
    "# Read the file in\n",
    "cars = pd.read_csv(\"auto.csv\")\n",
    "cars.info()"
   ]
  },
  {
   "cell_type": "code",
   "execution_count": null,
   "metadata": {},
   "outputs": [],
   "source": [
    "# Sample\n",
    "cars.sample(7)"
   ]
  },
  {
   "cell_type": "code",
   "execution_count": null,
   "metadata": {},
   "outputs": [],
   "source": [
    "# summary statistics\n",
    "cars.describe()"
   ]
  },
  {
   "cell_type": "markdown",
   "metadata": {},
   "source": [
    "### Horsepower?\n",
    "\n",
    "Why didn't we get summary statistics for horsepower? How do we fix it?"
   ]
  },
  {
   "cell_type": "code",
   "execution_count": null,
   "metadata": {},
   "outputs": [],
   "source": [
    "# Check to see if we have missing values\n",
    "cars.isnull().sum()"
   ]
  },
  {
   "cell_type": "markdown",
   "metadata": {},
   "source": [
    "We don't have any missing values. We saw the `horsepower` was an object. That is why we do not have any summary statistics for it. The method `describe()` can only provide summary statistics on numerical columns. We can look at `value_counts` for horsepower and see if that helps."
   ]
  },
  {
   "cell_type": "code",
   "execution_count": null,
   "metadata": {},
   "outputs": [],
   "source": [
    "cars.horsepower.value_counts()"
   ]
  },
  {
   "cell_type": "markdown",
   "metadata": {},
   "source": [
    "Unfortunately, that did not help much. We would have to spit out all of the 94 unique values to see if we notice anything. One way to do this is to convert the index of the `Series` that resulted from calling `value_counts()` to an array and print that out. Our hope here is that we see something that is making `horsepower` show up as an object."
   ]
  },
  {
   "cell_type": "code",
   "execution_count": null,
   "metadata": {},
   "outputs": [],
   "source": [
    "# See all of the unique values for horsepower\n",
    "cars.horsepower.value_counts().index.array"
   ]
  },
  {
   "cell_type": "code",
   "execution_count": null,
   "metadata": {},
   "outputs": [],
   "source": [
    "# Perhaps a simpler way\n",
    "# We could also use .unique()\n",
    "cars.horsepower.unique()"
   ]
  },
  {
   "cell_type": "markdown",
   "metadata": {},
   "source": [
    "Ah! We found it -- there is a `?` in at least one of the rows of our data in the column `horsepower`. Let's find them."
   ]
  },
  {
   "cell_type": "code",
   "execution_count": null,
   "metadata": {},
   "outputs": [],
   "source": [
    "cars[cars.horsepower == \"?\"]"
   ]
  },
  {
   "cell_type": "markdown",
   "metadata": {},
   "source": [
    "At this point you have decide if you want to replace the `?` with data or delete those rows of data, etc. We saw how to fill in missing data in the last module, but this is slightly different. We don't have \"missing\" data, but rather a character that represents that the data are indeed missing. The \"simplest\" thing to do is to make a subset that contains only the rows with a \"real\" value for `horsepower`. We lose six row of data, but this approach should then allow us to see the summary statistics with `describe` for the column."
   ]
  },
  {
   "cell_type": "code",
   "execution_count": null,
   "metadata": {},
   "outputs": [],
   "source": [
    "# Make a new DataFrame that only contains rows *without* horsepower == ?\n",
    "subsetCars = cars[cars.horsepower != \"?\"]\n",
    "subsetCars.info()"
   ]
  },
  {
   "cell_type": "markdown",
   "metadata": {},
   "source": [
    "Notice that the field/variable/attribute `horsepower` is still an `object`, so we will not be able to get summary statistics with `.describe()`. We can force that column of the `DataFrame` to be an integer with the following code."
   ]
  },
  {
   "cell_type": "code",
   "execution_count": null,
   "metadata": {},
   "outputs": [],
   "source": [
    "subsetCars = pd.DataFrame(data=subsetCars).astype(dtype={\"horsepower\": int})\n",
    "subsetCars.info()"
   ]
  },
  {
   "cell_type": "code",
   "execution_count": null,
   "metadata": {},
   "outputs": [],
   "source": [
    "# Now describe() should give us summary statistics on horsepower\n",
    "subsetCars.describe()"
   ]
  },
  {
   "cell_type": "code",
   "execution_count": null,
   "metadata": {},
   "outputs": [],
   "source": [
    "# Create a histogram of mpg using pandas\n",
    "subsetCars.mpg.plot(kind=\"hist\")"
   ]
  },
  {
   "cell_type": "code",
   "execution_count": null,
   "metadata": {},
   "outputs": [],
   "source": [
    "# Use matplotlib.pyplot to create a histogram\n",
    "plt.hist(subsetCars.mpg)"
   ]
  },
  {
   "cell_type": "markdown",
   "metadata": {},
   "source": [
    "You should have noticed that when use use `matplotlib.pyplot` and call `.hist()` it returned a `tuple` of the counts or frequencies for each bin as well as the starting and ending values for the x-axis bins."
   ]
  },
  {
   "cell_type": "markdown",
   "metadata": {},
   "source": [
    "-----\n",
    "\n",
    "## Frequency Polygon\n",
    "\n",
    "There is not a built-in way to get a frequency polygon. One option is to use the option `histype = \"step\"`. Another option is to write our own function to create the frequency polygon. To write our own function, notice that at the top of that output cell we saw a tuple with three elements. We are going to use that output to help us create a frquency polygon.\n",
    "\n",
    "First, let's try the \"step\" option."
   ]
  },
  {
   "cell_type": "code",
   "execution_count": null,
   "metadata": {},
   "outputs": [],
   "source": [
    "plt.hist(subsetCars.mpg, histtype=\"step\")"
   ]
  },
  {
   "cell_type": "markdown",
   "metadata": {},
   "source": [
    "#### Not Bad\n",
    "\n",
    "Overall, that is not too bad. Generally, though a true frequency polygon would use a single point for each bin. Below, I have a function that will find the middle of each bin and use that for where to plot the frequency/count for a particular bin."
   ]
  },
  {
   "cell_type": "code",
   "execution_count": null,
   "metadata": {},
   "outputs": [],
   "source": [
    "def getXandYForFreqPlot(valuesAndEdges):\n",
    "    \"\"\"\n",
    "    This function will return a tuple containing x and y\n",
    "    values to create a frequency plot. The input must be \n",
    "    a tuple created from calling pyplot.hist. It will find\n",
    "    the center of each bin and use that in newX. \n",
    "    \n",
    "    Parameters\n",
    "    ----------\n",
    "    valuesAndEdges - a tuple created from calling pyplot.hist\n",
    "    \n",
    "    Returns\n",
    "    -------\n",
    "    (newX, theCount) - a list of x-coordinates and a list of y-coordinates\n",
    "    \"\"\"\n",
    "    theCount = valuesAndEdges[0]\n",
    "    xValue = valuesAndEdges[1].tolist()\n",
    "\n",
    "    newX = []\n",
    "    beginning = xValue.pop(0)\n",
    "    counter = 0\n",
    "    for i in xValue:\n",
    "        # find the midpoint of the bin and put in newX\n",
    "        newX.append(beginning + ((i - beginning) / 2))\n",
    "        beginning = i\n",
    "        counter += 1\n",
    "\n",
    "    return (newX, theCount)"
   ]
  },
  {
   "cell_type": "code",
   "execution_count": null,
   "metadata": {},
   "outputs": [],
   "source": [
    "# Call plt.hist and store the resulting tuple in n\n",
    "n = plt.hist(subsetCars.mpg)\n",
    "\n",
    "# Get the x and y values to creat the frequency plot\n",
    "x, y = getXandYForFreqPlot(n)\n",
    "\n",
    "# Plot the frequency plot on top of the histogram\n",
    "plt.plot(x, y)"
   ]
  },
  {
   "cell_type": "code",
   "execution_count": null,
   "metadata": {},
   "outputs": [],
   "source": [
    "# Just the frequency polygon\n",
    "plt.plot(x, y)"
   ]
  },
  {
   "cell_type": "markdown",
   "metadata": {},
   "source": [
    "----\n",
    "\n",
    "### Histograms Based on Another Variable\n",
    "\n",
    "Many times we want to create histograms for a particular variable but visualize it based on another variable, often a categorical variable. In this particular dataset, the column `origin` is numeric but represents three different countries (see the data dictionary at the beginning of this notebook). We would like to plot a histogram of the `mpg` for each `origin`. Using `matplotlib` we can simply call `plt.hist()` for each origin and they will all plot on the same graph. \n",
    "\n",
    "Let's try it."
   ]
  },
  {
   "cell_type": "code",
   "execution_count": null,
   "metadata": {},
   "outputs": [],
   "source": [
    "plt.hist(subsetCars[subsetCars.origin == 1].mpg)\n",
    "plt.hist(subsetCars[subsetCars.origin == 2].mpg)\n",
    "plt.hist(subsetCars[subsetCars.origin == 3].mpg)"
   ]
  },
  {
   "cell_type": "markdown",
   "metadata": {},
   "source": [
    "We immediately see a potential issue with this approach. Some of the data can be \"hidden\" when we overlay the multiple histograms. There are several alternative approaches that we could try. One is to simply use the `step` option. Another is to use the frequency polygon method that we created earlier. A third is to use `seaborn` to create the plot. Let's look at each of these in turn."
   ]
  },
  {
   "cell_type": "markdown",
   "metadata": {},
   "source": [
    "#### Using `step` for Multiple Histograms"
   ]
  },
  {
   "cell_type": "code",
   "execution_count": null,
   "metadata": {},
   "outputs": [],
   "source": [
    "# Try using step\n",
    "plt.hist(subsetCars[subsetCars.origin == 1].mpg, histtype=\"step\")\n",
    "plt.hist(subsetCars[subsetCars.origin == 2].mpg, histtype=\"step\")\n",
    "plt.hist(subsetCars[subsetCars.origin == 3].mpg, histtype=\"step\")"
   ]
  },
  {
   "cell_type": "markdown",
   "metadata": {},
   "source": [
    "#### Using Our Function"
   ]
  },
  {
   "cell_type": "code",
   "execution_count": null,
   "metadata": {},
   "outputs": [],
   "source": [
    "# Use our user-defined function to create a frequency polygon\n",
    "# Call plt.hist and store the resulting tuple in n1\n",
    "n1 = plt.hist(subsetCars[subsetCars.origin == 1].mpg)\n",
    "# Get the x and y values to create the frequency plot\n",
    "x1, y1 = getXandYForFreqPlot(n1)\n",
    "\n",
    "# for second\n",
    "n2 = plt.hist(subsetCars[subsetCars.origin == 2].mpg)\n",
    "x2, y2 = getXandYForFreqPlot(n2)\n",
    "\n",
    "# for third\n",
    "n3 = plt.hist(subsetCars[subsetCars.origin == 3].mpg)\n",
    "x3, y3 = getXandYForFreqPlot(n3)"
   ]
  },
  {
   "cell_type": "code",
   "execution_count": null,
   "metadata": {},
   "outputs": [],
   "source": [
    "# Plot the frequency plots\n",
    "plt.plot(x1, y1)\n",
    "plt.plot(x2, y2)\n",
    "plt.plot(x3, y3)"
   ]
  },
  {
   "cell_type": "markdown",
   "metadata": {},
   "source": [
    "#### Using `seaborn`"
   ]
  },
  {
   "cell_type": "code",
   "execution_count": null,
   "metadata": {},
   "outputs": [],
   "source": [
    "import seaborn as sns"
   ]
  },
  {
   "cell_type": "code",
   "execution_count": null,
   "metadata": {},
   "outputs": [],
   "source": [
    "# Histogram for all of the data\n",
    "sns.histplot(subsetCars.mpg)"
   ]
  },
  {
   "cell_type": "markdown",
   "metadata": {},
   "source": [
    "We can also use `seaborn` to create a histogram by group. In this case, we use a single line of code and send in the grouping variable to the argument `hue`."
   ]
  },
  {
   "cell_type": "code",
   "execution_count": null,
   "metadata": {},
   "outputs": [],
   "source": [
    "sns.histplot(subsetCars, x=\"mpg\", hue=\"origin\")"
   ]
  },
  {
   "cell_type": "markdown",
   "metadata": {},
   "source": [
    "Because `origin` is a numerical variable in the dataset, it creates a gradient color. To get distinct colors for each category, you need a categorical variable -- one with words, for example. We can create a new column in our `DataFrame` that converts the numerical `origin` into a categorical variable."
   ]
  },
  {
   "cell_type": "code",
   "execution_count": null,
   "metadata": {},
   "outputs": [],
   "source": [
    "subsetCars.loc[subsetCars.origin == 1, \"catOrigin\"] = \"American\"\n",
    "subsetCars.loc[subsetCars.origin == 2, \"catOrigin\"] = \"European\"\n",
    "subsetCars.loc[subsetCars.origin == 3, \"catOrigin\"] = \"Japanese\"\n",
    "    \n",
    "subsetCars.sample(5)"
   ]
  },
  {
   "cell_type": "code",
   "execution_count": null,
   "metadata": {},
   "outputs": [],
   "source": [
    "sns.histplot(subsetCars, x=\"mpg\", hue=\"catOrigin\")"
   ]
  },
  {
   "cell_type": "markdown",
   "metadata": {},
   "source": [
    "We can also use the `step` functionality with `seaborn`. Notice the argument name here is `element`."
   ]
  },
  {
   "cell_type": "code",
   "execution_count": null,
   "metadata": {},
   "outputs": [],
   "source": [
    "sns.histplot(subsetCars, x=\"mpg\", hue=\"catOrigin\", element=\"step\")"
   ]
  },
  {
   "cell_type": "markdown",
   "metadata": {},
   "source": [
    "### Rug Plot\n",
    "\n",
    "With `seaborn` we can add what is called a \"rug plot\". What it does is plot marginal distributions by drawing ticks for each individual observation along the $x$ and/or $y$ axes. In `seaborn` the function is called [`rugplot`](https://seaborn.pydata.org/generated/seaborn.rugplot.html).\n",
    "\n",
    "This function is intended to complement other plots by showing the location of individual observations in an unobstrusive way.\n",
    "\n",
    "We can add it to a histogram in two ways. First, we can call `rugplot` immediately after calling `histplot`. We can also use the function `displot` and tell it to add a `rugplot` in a single line of code. Let's look at both approaches."
   ]
  },
  {
   "cell_type": "code",
   "execution_count": null,
   "metadata": {},
   "outputs": [],
   "source": [
    "sns.histplot(subsetCars.mpg)\n",
    "sns.rugplot(subsetCars.mpg)"
   ]
  },
  {
   "cell_type": "code",
   "execution_count": null,
   "metadata": {},
   "outputs": [],
   "source": [
    "# Use displot with a single line of code\n",
    "sns.displot(subsetCars.mpg, rug=True)"
   ]
  },
  {
   "cell_type": "markdown",
   "metadata": {},
   "source": [
    "Sometime we want have a smooth shape of the variable of interest. To do this, we **kernel density estimation**, abbreviated to kde. Adding a `rugplot` to a `kdeplot` is also quite common. Let's do it."
   ]
  },
  {
   "cell_type": "code",
   "execution_count": null,
   "metadata": {},
   "outputs": [],
   "source": [
    "# Create a kde plot with a rug plot of the mpg variable\n",
    "sns.displot(subsetCars.mpg, kind=\"kde\", rug=True)"
   ]
  },
  {
   "cell_type": "markdown",
   "metadata": {},
   "source": [
    "-----\n",
    "\n",
    "## Box Plots\n",
    "\n",
    "Another visual that we use to examine the distribution of a variable is the box plot (or box and whisker plot). The \"box\" is the middle 50% of the distribution. The box plot can also help us identify outliers present in the data."
   ]
  },
  {
   "cell_type": "code",
   "execution_count": null,
   "metadata": {},
   "outputs": [],
   "source": [
    "# Create a box plot of mpg\n",
    "subsetCars.mpg.plot(kind=\"box\")"
   ]
  },
  {
   "cell_type": "markdown",
   "metadata": {},
   "source": [
    "You can also break it out by `origin` or `catOrigin`. You do so by calling `.boxplot()` on the **`DataFrame`** (not the column)."
   ]
  },
  {
   "cell_type": "code",
   "execution_count": null,
   "metadata": {},
   "outputs": [],
   "source": [
    "# Group by origin\n",
    "subsetCars.boxplot(column=\"mpg\", by=\"origin\")"
   ]
  },
  {
   "cell_type": "code",
   "execution_count": null,
   "metadata": {},
   "outputs": [],
   "source": [
    "# Group by origin\n",
    "subsetCars.boxplot(column=\"mpg\", by=\"catOrigin\")"
   ]
  },
  {
   "cell_type": "markdown",
   "metadata": {},
   "source": [
    "We can also use `seaborn` to create box plots. By default, when you send in the variable to argument `x`, you will get a horizontal box plot. If you want a vertical box plot for a single variable, you can use the argument `data` instead."
   ]
  },
  {
   "cell_type": "code",
   "execution_count": null,
   "metadata": {},
   "outputs": [],
   "source": [
    "sns.boxplot(x=subsetCars.mpg)"
   ]
  },
  {
   "cell_type": "code",
   "execution_count": null,
   "metadata": {},
   "outputs": [],
   "source": [
    "# Make it vertical\n",
    "sns.boxplot(data=subsetCars.mpg)"
   ]
  },
  {
   "cell_type": "code",
   "execution_count": null,
   "metadata": {},
   "outputs": [],
   "source": [
    "# To break it out by origin, put origin on the x-axis\n",
    "sns.boxplot(data=subsetCars, x=\"origin\", y=\"mpg\")"
   ]
  },
  {
   "cell_type": "code",
   "execution_count": null,
   "metadata": {},
   "outputs": [],
   "source": [
    "# To break it out by catOrigin, put catOrigin on the x-axis\n",
    "sns.boxplot(data=subsetCars, x=\"catOrigin\", y=\"mpg\", order=[\"American\", \"European\", \"Japanese\"])"
   ]
  },
  {
   "cell_type": "markdown",
   "metadata": {},
   "source": [
    "----\n",
    "\n",
    "<font color='red' size = '5'> Student Exercise </font>\n",
    "\n",
    "You have been given a .csv file that contains spending across different marketing channels and the sales during each time period (i.e., each row) in the file `advertising.csv`. In the **Code** cells below, do the following:\n",
    "\n",
    "1. Read the data from .csv file into a `DataFrame` called `ads`.\n",
    "2. Sample `ads` to see what the data looks like.\n",
    "3. Print out the summary statistics for `ads`.\n",
    "4. Create a histogram of `sales`. Describe its shape.\n",
    "5. Create a boxplot of `sales`. \n",
    "\n",
    "-----"
   ]
  },
  {
   "cell_type": "code",
   "execution_count": null,
   "metadata": {},
   "outputs": [],
   "source": [
    "# 1. Read in the data file to ads\n",
    "\n",
    "\n",
    "# 2. Sample 5 rows of data\n"
   ]
  },
  {
   "cell_type": "code",
   "execution_count": null,
   "metadata": {},
   "outputs": [],
   "source": [
    "# 3. Summary statistics\n"
   ]
  },
  {
   "cell_type": "code",
   "execution_count": null,
   "metadata": {},
   "outputs": [],
   "source": [
    "# Create a histogram on sales\n"
   ]
  },
  {
   "cell_type": "code",
   "execution_count": null,
   "metadata": {},
   "outputs": [],
   "source": [
    "# 5. Create a box plot\n"
   ]
  },
  {
   "cell_type": "markdown",
   "metadata": {
    "deletable": false,
    "editable": false
   },
   "source": [
    "**&copy; 2021 - Present: Matthew D. Dean, Ph.D.   \n",
    "Clinical Associate Professor of Business Analytics at William \\& Mary.**"
   ]
  }
 ],
 "metadata": {
  "kernelspec": {
   "display_name": "Python 3",
   "language": "python",
   "name": "python3"
  },
  "language_info": {
   "codemirror_mode": {
    "name": "ipython",
    "version": 3
   },
   "file_extension": ".py",
   "mimetype": "text/x-python",
   "name": "python",
   "nbconvert_exporter": "python",
   "pygments_lexer": "ipython3",
   "version": "3.8.5"
  }
 },
 "nbformat": 4,
 "nbformat_minor": 4
}
