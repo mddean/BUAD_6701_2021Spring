{
 "cells": [
  {
   "cell_type": "markdown",
   "metadata": {},
   "source": [
    "# Introduction \n",
    "\n",
    "In our previous notebook we saw how to use data visualizations to help us understand distribution analysis of a single variable. In this notebook we move on to looking for relationships between two or more variables within a dataset. In the context of predictive modeling (i.e., forecasting or machine learning), we want to understand how various variables relate to the \"output\" variable -- the one we are trying to predict. One visual approach is to create a **scatter plot** of two variables. In a scatter plot, you want the variable you are trying to predict to **always** be the $y$-variable because you have some \"belief\" that the other varialbe, the $x$-variable is affecting the outcome variable. As you $x$ changes, how does $y$ react?"
   ]
  },
  {
   "cell_type": "markdown",
   "metadata": {},
   "source": [
    "# Graphing Data\n",
    "\n",
    "We have already used the `pandas` package to import data and present it using the \"helper\" functions in `pandas` as well as using the `matplotlib` and `seaborn` packages for plotting. We continue are study of visualization now with scatter plots and a few other visuals that will help us understand the relationships between variables.  "
   ]
  },
  {
   "cell_type": "markdown",
   "metadata": {},
   "source": [
    "The statement below causes the `matplotlib` graphs to appear within the Jupyter Notebook explicitly rather than in a separate window that pops up. This can be very convenient because, among other reasons, the image will be retained in the notebook and computation will not be paused when many graphs are constructed within a loop. Statements that start with `%` are called magic functions. The `%` indicates a system command so that it is executed properly. In newer versions of Jupyter Notebook, you often do **not** need to call it. If you use an IDE, then you will have to use call `plt.show()` to explicitly show your graph. In Juptyer Notebook, you do not need to use that call."
   ]
  },
  {
   "cell_type": "code",
   "execution_count": null,
   "metadata": {},
   "outputs": [],
   "source": [
    "%matplotlib inline"
   ]
  },
  {
   "cell_type": "markdown",
   "metadata": {},
   "source": [
    "The next statement imports the graphing package we will use and uses a very popular, if not ubiquitous alias, `plt`, for this `matplotlib` package. We might as well go ahead and import `pandas` as well."
   ]
  },
  {
   "cell_type": "code",
   "execution_count": null,
   "metadata": {},
   "outputs": [],
   "source": [
    "import matplotlib.pyplot as plt\n",
    "import pandas as pd"
   ]
  },
  {
   "cell_type": "markdown",
   "metadata": {},
   "source": [
    "## Scatter Plots"
   ]
  },
  {
   "cell_type": "markdown",
   "metadata": {},
   "source": [
    "Let's start with two lists and create a scatter plot simply to see what it will look like."
   ]
  },
  {
   "cell_type": "code",
   "execution_count": null,
   "metadata": {},
   "outputs": [],
   "source": [
    "# Create 2 lists: one for x and one for y\n",
    "x = [0,82.0442626658045,164.140532825633,249.101916493353,332.182520454561,416.254670963008,495.330844802651, \\\n",
    "      575.152803567278,653.205144040749,738.002602107511,818.027625347191,898.118246791891,980.079475188722, \\\n",
    "      1061.14169245002,1139.27372549306,1222.46124841828,1300.35875796241,1375.56916894815,1450.58381247379, \\\n",
    "      1528.61926864683,1605.58397275636,1690.73526419816,1765.8607155748,1844.76374052086,1927.68455634244, \\\n",
    "      2007.86892722346,2086.83606915306,2166.71913598734,2251.80135023691,2335.70816516882,2420.79263834332, \\\n",
    "      2499.86354911873,2577.05890165442,2654.19208140119,2730.09283946298,2809.07577275313,2894.08624312766, \\\n",
    "      2969.05670691318,3049.93958564477,3129.75861740531,3206.68277248806,3283.60346903165,3364.58552562287, \\\n",
    "      3449.40362446521,3525.4406380069,3608.13685182861,3690.05929028829,3773.14656467608,3850.22786804579, \\\n",
    "      3930.30737684189,4015.46434790825,4093.50879464788,4172.64841837878,4252.66450124259,4335.57956650011, \\\n",
    "      4420.52164467734,4495.52991250898,4575.39742270308,4650.49642074232,4730.52574677055,4805.68851119975, \\\n",
    "      4880.60019974235,4960.70865715944,5043.67168991259,5118.73724644963,5203.54753389807,5283.38430140739, \\\n",
    "      5359.51383129058,5438.3504224767,5519.19106748314,5597.38879699402]\n",
    "y = [69,70.5331166725557,71.5580608629997,71.7925736363559,71.3468902075964,70.8280365103217,70.6414982437025, \\\n",
    "      70.4451053764375,70.3795952412711,69.7645648576213,69.5426154537094,69.3004779067882,68.9026747371149,68.599154906399, \\\n",
    "      68.519069857217,68.3772433121902,69.1486631584102,68.7548264957532,68.3609585242701,68.5575021969504,68.5786288310157, \\\n",
    "      70.1801398605569,69.7914710297875,70.1491959166127,71.3308639026079,71.9361568322099,71.7841530239482,71.5632100706621, \\\n",
    "      70.9532872882161,70.4120650812618,69.7956890967353,69.6193830861858,69.6154149236862,69.6130427165012,69.7102463368457, \\\n",
    "      69.5264209638887,68.9050613087613,69.1051712486311,68.8193037564598,68.6066819000086,68.6092749335593,68.6204785117934, \\\n",
    "      68.3360360051156,68.5812312774717,68.3713770000006,69.5440095449469,70.5260768620176,72.0285425812187,72.0349254824144, \\\n",
    "      71.8158332177273,71.1892654017154,71.1169346409977,70.8948191898231,70.6895661675202,70.2298913978404,69.6255849641529, \\\n",
    "      69.7340391269025,69.5070018796742,69.6617353391113,69.4627544694931,69.630774569752,69.8026157834872,69.5269217792645, \\\n",
    "      69.0549816241028,69.1984712324886,68.3562401007611,68.1422906748129,68.2062726166005,68.0498033914326,68.6018257745021, \\\n",
    "      68.7606159741864]\n",
    "\n",
    "# Create a scatter plot\n",
    "plt.scatter(x, y)"
   ]
  },
  {
   "cell_type": "markdown",
   "metadata": {},
   "source": [
    "### Comment on Graph Type Selection\n",
    "This graph is of temperature data taken over approximately three days, making it time series data. For time series data, we actually prefer to use a **line** graph instead of a scatter plot. Line graphs should always be used for time series data because they show the data in order of occurence and clearly indicate that order through the use of a line. Let's go ahead and create the line graph."
   ]
  },
  {
   "cell_type": "code",
   "execution_count": null,
   "metadata": {},
   "outputs": [],
   "source": [
    "plt.plot(x, y)"
   ]
  },
  {
   "cell_type": "markdown",
   "metadata": {},
   "source": [
    "## A Slightly More Complex, and Incredibly More Effective Graph Method"
   ]
  },
  {
   "cell_type": "markdown",
   "metadata": {},
   "source": [
    "Graphing can be as simple as the previous two examples, but there is a better way to use `matplotlib` to gain more control over the aesthetics of the graph. While we won't worry about aesthetics now, we will use this new approach to gain familiarity."
   ]
  },
  {
   "cell_type": "code",
   "execution_count": null,
   "metadata": {},
   "outputs": [],
   "source": [
    "fig, ax = plt.subplots()\n",
    "print(f\"The variable fig is of type {type(fig)}\")\n",
    "print(f\"The variable ax is of type {type(ax)}\")\n",
    "ax.plot(x, y)\n",
    "plt.show()"
   ]
  },
  {
   "cell_type": "markdown",
   "metadata": {
    "collapsed": true
   },
   "source": [
    "The matplotlib graph is a complex object with many, many components we can tweak. The components of the graph object are arranged in a hierarchy as demonstrated in the notebook [Extra Data Viz](extraDataViz.ipynb)."
   ]
  },
  {
   "cell_type": "markdown",
   "metadata": {},
   "source": [
    "# Inputting and Handling Data with the pandas Package\n",
    "\n",
    "The data for the first two graphs was typed, which is rarely done. We'll need to input data automatically from files, databases, and other sources. The `pandas` package provides a great (easy) resource for reading data files as we have already seen. We'll use pandas to input the data and manage it from here on out."
   ]
  },
  {
   "cell_type": "code",
   "execution_count": null,
   "metadata": {},
   "outputs": [],
   "source": [
    "import pandas as pd"
   ]
  },
  {
   "cell_type": "markdown",
   "metadata": {},
   "source": [
    "We will be loading data into a `pandas` `DataFrame` data type.  You will recall that a `pandas` `DataFrame` has columns and rows.  The columns have column names and all the data in each column is of the same type.  There is also an index column, whcih we can use to access data rows, or we can use the integer row number as well.  \n",
    "\n",
    "Indicating the variable data type in the variable's name is a good practice to help you remember the data type for the variables.  People often use `df`, in the case of `DataFrame`s, either as the name of a `DataFrame` or they append `df` to the beginning of the variable name.  "
   ]
  },
  {
   "cell_type": "markdown",
   "metadata": {},
   "source": [
    "The `pandas` `.read_csv()` method is very useful for import data from comma separated files.  Note that the data files must have column headings in the first row.  You will, possibly, need to adjust the path to the location of your data file if it is not in the same folder as your default Jupyter folder.\n",
    "\n",
    "Let's look at our `advertising.csv` file again."
   ]
  },
  {
   "cell_type": "code",
   "execution_count": null,
   "metadata": {},
   "outputs": [],
   "source": [
    "\"\"\" Type just the filename, as is done in the statement below, implies that the .csv file\n",
    "    is located in the same folder as this Jupyter notebook. \"\"\"\n",
    "ads = pd.read_csv(\"advertising.csv\")"
   ]
  },
  {
   "cell_type": "markdown",
   "metadata": {},
   "source": [
    "Before we start plotting, let's look at how you would find out about some of the properties of a DataFrame, starting with descriptive statistics."
   ]
  },
  {
   "cell_type": "code",
   "execution_count": null,
   "metadata": {},
   "outputs": [],
   "source": [
    "# Get summary statistics\n",
    "ads.describe()"
   ]
  },
  {
   "cell_type": "markdown",
   "metadata": {},
   "source": [
    "The `.shape` command gives a `tuple` where the element in the 0th position is the number of rows in the `DataFrame` and the element in the 1st position indicates the number of columns."
   ]
  },
  {
   "cell_type": "code",
   "execution_count": null,
   "metadata": {},
   "outputs": [],
   "source": [
    "ads.shape"
   ]
  },
  {
   "cell_type": "markdown",
   "metadata": {},
   "source": [
    "The `ads` `DataFrame` contains four data series. Let's retrieve the column heading to see what they are (even though we already saw them from the results of `.describe()`."
   ]
  },
  {
   "cell_type": "code",
   "execution_count": null,
   "metadata": {},
   "outputs": [],
   "source": [
    "# Returns an Index\n",
    "ads.columns"
   ]
  },
  {
   "cell_type": "code",
   "execution_count": null,
   "metadata": {},
   "outputs": [],
   "source": [
    "# Returns a numpy.ndarray\n",
    "ads.columns.values"
   ]
  },
  {
   "cell_type": "code",
   "execution_count": null,
   "metadata": {},
   "outputs": [],
   "source": [
    "# Returns a list \n",
    "ads.columns.values.tolist()"
   ]
  },
  {
   "cell_type": "markdown",
   "metadata": {},
   "source": [
    "Extract a column of data from a `DataFrame` (a `pandas` `Series` data type)."
   ]
  },
  {
   "cell_type": "code",
   "execution_count": null,
   "metadata": {},
   "outputs": [],
   "source": [
    "ads[\"sales\"]"
   ]
  },
  {
   "cell_type": "code",
   "execution_count": null,
   "metadata": {},
   "outputs": [],
   "source": [
    "type(ads[\"sales\"])"
   ]
  },
  {
   "cell_type": "markdown",
   "metadata": {},
   "source": [
    "# Scatter Plots"
   ]
  },
  {
   "cell_type": "markdown",
   "metadata": {},
   "source": [
    "Let's investigate the relationship of each of our advertising outlets to the resulting/output variable `sales`."
   ]
  },
  {
   "cell_type": "code",
   "execution_count": null,
   "metadata": {},
   "outputs": [],
   "source": [
    "\"\"\" Format of the scatterplot method is as follows: ax.scatter(x-series, y-series) \"\"\"\n",
    "fig, ax = plt.subplots()\n",
    "\"\"\" \n",
    "ax.scatter() statement creates scatterplot\n",
    "The 'alpha' parameter controls dot transparency: 1 = solid, <1 = various transparency levels, 0 = no mark\n",
    "The c parameter designates color of the dots: 'b' stands for blue  \n",
    "\"\"\"\n",
    "ax.scatter(ads.tv, ads.sales, alpha=0.5, c = 'b')  \n",
    "fig.suptitle(\"TV Advertising Effect on Sales\")   # Graph title\n",
    "ax.xaxis.set_label_text(\"TV Advertising Budget\")  # x-axis caption\n",
    "ax.yaxis.set_label_text(\"Sales\")       # y-axis caption\n",
    "fig.set_size_inches(7,5)"
   ]
  },
  {
   "cell_type": "code",
   "execution_count": null,
   "metadata": {},
   "outputs": [],
   "source": [
    "\"\"\" Format of the scatterplot method is as follows: ax.scatter(x-series, y-series) \"\"\"\n",
    "fig, ax = plt.subplots()\n",
    "\"\"\" \n",
    "ax.scatter() statement creates scatterplot\n",
    "The 'alpha' parameter controls dot transparency: 1 = solid, <1 = various transparency levels, 0 = no mark\n",
    "The c parameter designates color of the dots: 'b' stands for blue  \n",
    "\"\"\"\n",
    "ax.scatter(ads.socialMedia, ads.sales, alpha=0.5, c = \"red\")  \n",
    "fig.suptitle(\"Social Media Advertising Effect on Sales\")   # Graph title\n",
    "ax.xaxis.set_label_text(\"Social Media Advertising Budget\")  # x-axis caption\n",
    "ax.yaxis.set_label_text(\"Sales\")       # y-axis caption\n",
    "fig.set_size_inches(7,5)"
   ]
  },
  {
   "cell_type": "code",
   "execution_count": null,
   "metadata": {},
   "outputs": [],
   "source": [
    "\"\"\" Format of the scatterplot method is as follows: ax.scatter(x-series, y-series) \"\"\"\n",
    "fig, ax = plt.subplots()\n",
    "\"\"\" \n",
    "ax.scatter() statement creates scatterplot\n",
    "The 'alpha' parameter controls dot transparency: 1 = solid, <1 = various transparency levels, 0 = no mark\n",
    "The c parameter designates color of the dots: 'b' stands for blue  \n",
    "\"\"\"\n",
    "ax.scatter(ads.streamingRadio, ads.sales, alpha=0.5, c = \"green\")  \n",
    "fig.suptitle(\"Streaming Radio Advertising Effect on Sales\")   # Graph title\n",
    "ax.xaxis.set_label_text(\"Streaming Radio Advertising Budget\")  # x-axis caption\n",
    "ax.yaxis.set_label_text(\"Sales\")       # y-axis caption\n",
    "fig.set_size_inches(7,5)"
   ]
  },
  {
   "cell_type": "markdown",
   "metadata": {
    "collapsed": true
   },
   "source": [
    "### Putting on the Same Figure\n",
    "\n",
    "Let's now create these scatter plots again, but put them all on the same figure. Let's use a single row and three columns. We'll also use `seaborn`."
   ]
  },
  {
   "cell_type": "code",
   "execution_count": null,
   "metadata": {},
   "outputs": [],
   "source": [
    "import seaborn as sns"
   ]
  },
  {
   "cell_type": "code",
   "execution_count": null,
   "metadata": {},
   "outputs": [],
   "source": [
    "# set graphics to seaborn's default style\n",
    "sns.set()\n",
    "\n",
    "# create 1 row by 3 columns subplots, each with a scatter\n",
    "fig, ax = plt.subplots(1, 3, sharey=True, figsize=(12,5))\n",
    "\n",
    "# first subplot is TV ad budget on x-axis\n",
    "ax[0].scatter(ads[\"tv\"], ads[\"sales\"],\n",
    "             facecolors=\"none\", edgecolors=\"b\")\n",
    "\n",
    "# second subplot is Social Media on x-axis\n",
    "ax[1].scatter(ads[\"socialMedia\"], ads[\"sales\"],\n",
    "             facecolors=\"none\", edgecolors=\"r\")\n",
    "\n",
    "# third subplot is Streaming Radio on x-axis\n",
    "ax[2].scatter(ads[\"streamingRadio\"], ads[\"sales\"],\n",
    "             facecolors=\"none\", edgecolors=\"g\")\n",
    "\n",
    "# add y-axis label to just the first subplot\n",
    "ax[0].set_ylabel(\"Sales ($K)\")\n",
    "\n",
    "# add x-axis labels to each plot to tell me which budget it is\n",
    "ax[0].set_xlabel(\"TV\")\n",
    "ax[1].set_xlabel(\"Social Media\")\n",
    "ax[2].set_xlabel(\"Streaming Radio\")"
   ]
  },
  {
   "cell_type": "markdown",
   "metadata": {},
   "source": [
    "We said earlier that we might want to add trend lines (usually straight lines) to help get a better idea of the direction and slope. Let's add trend lines to these plots."
   ]
  },
  {
   "cell_type": "code",
   "execution_count": null,
   "metadata": {},
   "outputs": [],
   "source": [
    "# Create 3 subplots that are scatter and contain OLS line\n",
    "fig, ax = plt.subplots(1, 3, sharey=True, figsize=(12,5))\n",
    "sns.regplot(ax=ax[0], x=ads.tv, y=ads.sales, ci=None, color=\"b\")\n",
    "sns.regplot(ax=ax[1], x=ads.socialMedia, y=ads.sales, ci=None, color=\"r\")\n",
    "sns.regplot(ax=ax[2], x=ads.streamingRadio, y=ads.sales, ci=None, color=\"g\")"
   ]
  },
  {
   "cell_type": "markdown",
   "metadata": {},
   "source": [
    "We would like to put each of these dots all on the same figure. One way to do this is to simply call `plt.scatter()` three times, one for each of the columns. Let's try that."
   ]
  },
  {
   "cell_type": "code",
   "execution_count": null,
   "metadata": {},
   "outputs": [],
   "source": [
    "plt.scatter(ads.tv, ads.sales, color=\"b\")\n",
    "plt.scatter(ads.socialMedia, ads.sales, color=\"r\")\n",
    "plt.scatter(ads.streamingRadio, ads.sales, color=\"g\")"
   ]
  },
  {
   "cell_type": "code",
   "execution_count": null,
   "metadata": {},
   "outputs": [],
   "source": [
    "ads.head()"
   ]
  },
  {
   "cell_type": "markdown",
   "metadata": {},
   "source": [
    "You will notice that the data was given where each row contained four columns. Sometimes we prefer to have the data \"tall and thin\". That is, we would like to see first row of the original data turned into something like:\n",
    "\n",
    "| sales | advertisingOutlet | budget | \n",
    "| --:| :-: | -----: | \n",
    "| 22.1 | tv | 230.1 |\n",
    "| 22.1 | socialMedia | 37.8 |\n",
    "| 22.1 | streamingRadio | 69.2 |\n",
    "\n",
    "\n",
    "We had a total of 200 rows of data in our original dataset. We are making one row for each of the three advertising outlets, so when we change the shape of the data it should contain 600 rows. To change the shape, we use the method `pd.melt()` take a \"wide\" set of data and \"melt\" it to make it long.\n",
    "\n",
    "Once we have it melted, we can then plot based on the new column labeled `advertisingOutlet`. Let's try it."
   ]
  },
  {
   "cell_type": "code",
   "execution_count": null,
   "metadata": {
    "scrolled": true
   },
   "outputs": [],
   "source": [
    "# Make each advertising budget (i.e., TV, Social Media, Streaming Radio)\n",
    "# have its own row with the associated Sales output. Let's melt!\n",
    "adsMelted = pd.melt(ads,\n",
    "                    value_vars=[\"tv\", \"socialMedia\", \"streamingRadio\"],\n",
    "                    var_name=\"advertisingOutlet\",\n",
    "                    id_vars=\"sales\",\n",
    "                    value_name=\"budget\")\n",
    "\n",
    "# Look at the new shape\n",
    "print(adsMelted.shape)\n",
    "adsMelted.sample(10)"
   ]
  },
  {
   "cell_type": "markdown",
   "metadata": {},
   "source": [
    "We will use `lmplot` to get them all on the same graph."
   ]
  },
  {
   "cell_type": "code",
   "execution_count": null,
   "metadata": {},
   "outputs": [],
   "source": [
    "sns.lmplot(x=\"budget\", y=\"sales\", data=adsMelted, hue=\"advertisingOutlet\", fit_reg=False)"
   ]
  },
  {
   "cell_type": "code",
   "execution_count": null,
   "metadata": {},
   "outputs": [],
   "source": [
    "# Let's use open circles\n",
    "# We need to pass scatter plot keywords using argument scatter_kws\n",
    "sns.lmplot(x=\"budget\", y=\"sales\", data=adsMelted, hue=\"advertisingOutlet\", fit_reg=False,\n",
    "          scatter_kws={\"facecolor\":\"none\"})"
   ]
  },
  {
   "cell_type": "code",
   "execution_count": null,
   "metadata": {},
   "outputs": [],
   "source": [
    "# Make the solid circles more transparent\n",
    "sns.lmplot(x=\"budget\", y=\"sales\", data=adsMelted, hue=\"advertisingOutlet\", fit_reg=False,\n",
    "          scatter_kws={\"alpha\":0.5})"
   ]
  },
  {
   "cell_type": "markdown",
   "metadata": {},
   "source": [
    "Change the markers to be different for each advertising outlet."
   ]
  },
  {
   "cell_type": "code",
   "execution_count": null,
   "metadata": {},
   "outputs": [],
   "source": [
    "sns.lmplot(x=\"budget\", y=\"sales\", data=adsMelted, hue=\"advertisingOutlet\", fit_reg=False,\n",
    "          markers=[\"o\", \"x\", \"+\"])"
   ]
  },
  {
   "cell_type": "markdown",
   "metadata": {},
   "source": [
    "----\n",
    "\n",
    "## Pair Plots - Looking at More than 2 Variables Simultaneously\n",
    "\n",
    "There are many times when we want to look at the relationship among all of the numerical variables. One approach is to do scatter plots for each possible pair, one by one. This is tedious. Fortunately, `seaborn` provides a convenient and easy way to plot them all with a single line of code. The method is called `pairplot()`. Let's try it.\n",
    "\n",
    "*Note: If you have a lot of data and a lot of columns, this call can take some time to complete.* "
   ]
  },
  {
   "cell_type": "code",
   "execution_count": null,
   "metadata": {},
   "outputs": [],
   "source": [
    "sns.pairplot(ads)"
   ]
  },
  {
   "cell_type": "markdown",
   "metadata": {},
   "source": [
    "You should notice that the bottom row of this plot are the three scatter plots we created earlier. What I really like about this plot is that I get the histograms of each variable on the diagonal. I love this \"bonus\". \n",
    "\n",
    "*Thought Exercise: Why would a scatter plot on the diagonal be useless?*"
   ]
  },
  {
   "cell_type": "markdown",
   "metadata": {},
   "source": [
    "----\n",
    "\n",
    "## Correlation Matrix\n",
    "\n",
    "We can get numerical values for the correlation coefficient for every pair variables too. This puts a number on any linear relationships that we may think we recognize from the scatter plot. We can call `.corr()` directly on the `DataFrame` to get the correlation matrix."
   ]
  },
  {
   "cell_type": "code",
   "execution_count": null,
   "metadata": {},
   "outputs": [],
   "source": [
    "ads.corr()"
   ]
  },
  {
   "cell_type": "markdown",
   "metadata": {},
   "source": [
    "You often want to combine the correlation matrix with a visual. The most appopriate visual to use is a graph called a **heatmap**. The `seaborn` package provides a `heatmap()` function that you should pass the correlation matrix to. You can also label each square and change the default color map as shwon below."
   ]
  },
  {
   "cell_type": "code",
   "execution_count": null,
   "metadata": {},
   "outputs": [],
   "source": [
    "# Create a heatmap of the correlation matrix\n",
    "# annot=True will put the correlation coefficient in each square\n",
    "# linewidths=0.5 puts a white line between the squares\n",
    "# cmap=\"Blues\" changes the color map to use \"Blues\"\n",
    "sns.heatmap(ads.corr(), annot=True, linewidths=0.5, cmap=\"Blues\")"
   ]
  },
  {
   "cell_type": "markdown",
   "metadata": {
    "deletable": false,
    "editable": false
   },
   "source": [
    "**&copy; 2021 - Present: Matthew D. Dean, Ph.D.   \n",
    "Clinical Associate Professor of Business Analytics at William \\& Mary.**"
   ]
  }
 ],
 "metadata": {
  "kernelspec": {
   "display_name": "Python 3",
   "language": "python",
   "name": "python3"
  },
  "language_info": {
   "codemirror_mode": {
    "name": "ipython",
    "version": 3
   },
   "file_extension": ".py",
   "mimetype": "text/x-python",
   "name": "python",
   "nbconvert_exporter": "python",
   "pygments_lexer": "ipython3",
   "version": "3.8.5"
  }
 },
 "nbformat": 4,
 "nbformat_minor": 1
}
