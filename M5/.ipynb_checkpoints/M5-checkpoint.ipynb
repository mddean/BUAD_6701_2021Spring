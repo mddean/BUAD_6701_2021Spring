{
 "cells": [
  {
   "cell_type": "markdown",
   "metadata": {},
   "source": [
    "# M5: Data Visualization\n",
    "\n",
    "One of the most useful analysis you can perform, especially when you first receive a dataset, is some data visualization. Data visualization often falls into the realm that is often referred to as \"exploratory data analysis\" or EDA. Data visualization is a vast topic and to do it justice, we would spend an entire course on it. Unfortunately, we don't have the luxury to do so. We'll try to touch on the highlights here. \n",
    "\n",
    "## Learning Objectives\n",
    "\n",
    "#### By the end of this module, you should be able to:\n",
    "\n",
    "- perform some rudimentary exploratory data analysis using visualization\n",
    "- create visualizations using `matplotlib` \n",
    "- create basic plots using `pandas`\n",
    "- create visualizations using `seaborn`\n",
    "\n",
    "\n",
    "### Activities\n",
    "\n",
    "| Activities                | \n",
    "| :--------------------------------------- | \n",
    "| **[Module 5: Introduction to Data Visualization][nb1]** |\n",
    "| **[Module 5: More Data Viz][nb2]** |\n",
    "\n",
    "\n",
    "\n",
    "[nb1]: introToDataViz.ipynb\n",
    "[nb2]: moreDataViz.ipynb"
   ]
  },
  {
   "cell_type": "markdown",
   "metadata": {},
   "source": [
    "### Ancillary Material\n",
    "\n",
    "1. The official API reference for [`matplotlib`][1].\n",
    "2. The [User Guide][2] for `matplotlib`.\n",
    "3. The [tutorial page][3] for `matplotlib`.\n",
    "4. The official documentation page for [`seaborn`][4].\n",
    "5. The [User Guide and Tutorial][5] for `seaborn`.\n",
    "\n",
    "-----\n",
    "\n",
    "[1]: https://matplotlib.org/stable/contents.html\n",
    "[2]: https://matplotlib.org/stable/users/index.html\n",
    "[3]: https://matplotlib.org/stable/tutorials/index.html\n",
    "[4]: https://seaborn.pydata.org/index.html\n",
    "[5]: https://seaborn.pydata.org/tutorial.html"
   ]
  },
  {
   "cell_type": "markdown",
   "metadata": {
    "deletable": false,
    "editable": false
   },
   "source": [
    "**&copy; 2021 - Present: Matthew D. Dean, Ph.D.   \n",
    "Clinical Associate Professor of Business Analytics at William \\& Mary.**"
   ]
  }
 ],
 "metadata": {
  "kernelspec": {
   "display_name": "Python 3",
   "language": "python",
   "name": "python3"
  },
  "language_info": {
   "codemirror_mode": {
    "name": "ipython",
    "version": 3
   },
   "file_extension": ".py",
   "mimetype": "text/x-python",
   "name": "python",
   "nbconvert_exporter": "python",
   "pygments_lexer": "ipython3",
   "version": "3.8.5"
  }
 },
 "nbformat": 4,
 "nbformat_minor": 4
}
