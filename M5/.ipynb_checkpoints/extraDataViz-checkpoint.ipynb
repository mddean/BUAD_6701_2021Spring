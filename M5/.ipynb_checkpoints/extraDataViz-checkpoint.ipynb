{
 "cells": [
  {
   "cell_type": "markdown",
   "metadata": {},
   "source": [
    "# Extra Data Viz\n",
    "\n",
    "This Jupyter Notebook gives a bit more detail on the hierarchal structure of objects in the `matplotlib` package. The information shown here only scratches the surface. You should explore the official documenation [here](https://matplotlib.org/stable/api/_as_gen/matplotlib.pyplot)."
   ]
  },
  {
   "cell_type": "markdown",
   "metadata": {},
   "source": [
    "## A Slightly More Complex, and Incredibly More Effective Graph Method"
   ]
  },
  {
   "cell_type": "markdown",
   "metadata": {},
   "source": [
    "Graphing can be as simple as the previous examples we've explored earlier, but there is a better way to use matplotlib to gain more control over the aesthetics of the graph. While we won't worry about aesthetics now, we will use this new approach to gain familiarity."
   ]
  },
  {
   "cell_type": "code",
   "execution_count": null,
   "metadata": {},
   "outputs": [],
   "source": [
    "import matplotlib.pyplot as plt"
   ]
  },
  {
   "cell_type": "code",
   "execution_count": null,
   "metadata": {},
   "outputs": [],
   "source": [
    "# Create 2 lists: one for x and one for y\n",
    "x = [0,82.0442626658045,164.140532825633,249.101916493353,332.182520454561,416.254670963008,495.330844802651, \\\n",
    "      575.152803567278,653.205144040749,738.002602107511,818.027625347191,898.118246791891,980.079475188722, \\\n",
    "      1061.14169245002,1139.27372549306,1222.46124841828,1300.35875796241,1375.56916894815,1450.58381247379, \\\n",
    "      1528.61926864683,1605.58397275636,1690.73526419816,1765.8607155748,1844.76374052086,1927.68455634244, \\\n",
    "      2007.86892722346,2086.83606915306,2166.71913598734,2251.80135023691,2335.70816516882,2420.79263834332, \\\n",
    "      2499.86354911873,2577.05890165442,2654.19208140119,2730.09283946298,2809.07577275313,2894.08624312766, \\\n",
    "      2969.05670691318,3049.93958564477,3129.75861740531,3206.68277248806,3283.60346903165,3364.58552562287, \\\n",
    "      3449.40362446521,3525.4406380069,3608.13685182861,3690.05929028829,3773.14656467608,3850.22786804579, \\\n",
    "      3930.30737684189,4015.46434790825,4093.50879464788,4172.64841837878,4252.66450124259,4335.57956650011, \\\n",
    "      4420.52164467734,4495.52991250898,4575.39742270308,4650.49642074232,4730.52574677055,4805.68851119975, \\\n",
    "      4880.60019974235,4960.70865715944,5043.67168991259,5118.73724644963,5203.54753389807,5283.38430140739, \\\n",
    "      5359.51383129058,5438.3504224767,5519.19106748314,5597.38879699402]\n",
    "y = [69,70.5331166725557,71.5580608629997,71.7925736363559,71.3468902075964,70.8280365103217,70.6414982437025, \\\n",
    "      70.4451053764375,70.3795952412711,69.7645648576213,69.5426154537094,69.3004779067882,68.9026747371149,68.599154906399, \\\n",
    "      68.519069857217,68.3772433121902,69.1486631584102,68.7548264957532,68.3609585242701,68.5575021969504,68.5786288310157, \\\n",
    "      70.1801398605569,69.7914710297875,70.1491959166127,71.3308639026079,71.9361568322099,71.7841530239482,71.5632100706621, \\\n",
    "      70.9532872882161,70.4120650812618,69.7956890967353,69.6193830861858,69.6154149236862,69.6130427165012,69.7102463368457, \\\n",
    "      69.5264209638887,68.9050613087613,69.1051712486311,68.8193037564598,68.6066819000086,68.6092749335593,68.6204785117934, \\\n",
    "      68.3360360051156,68.5812312774717,68.3713770000006,69.5440095449469,70.5260768620176,72.0285425812187,72.0349254824144, \\\n",
    "      71.8158332177273,71.1892654017154,71.1169346409977,70.8948191898231,70.6895661675202,70.2298913978404,69.6255849641529, \\\n",
    "      69.7340391269025,69.5070018796742,69.6617353391113,69.4627544694931,69.630774569752,69.8026157834872,69.5269217792645, \\\n",
    "      69.0549816241028,69.1984712324886,68.3562401007611,68.1422906748129,68.2062726166005,68.0498033914326,68.6018257745021, \\\n",
    "      68.7606159741864]"
   ]
  },
  {
   "cell_type": "code",
   "execution_count": null,
   "metadata": {},
   "outputs": [],
   "source": [
    "fig,ax = plt.subplots()\n",
    "print('The variable fig is of type',type(fig))\n",
    "print('The variable ax is of type',type(ax))\n",
    "ax.plot(x, y)\n",
    "plt.show()"
   ]
  },
  {
   "cell_type": "markdown",
   "metadata": {
    "collapsed": true
   },
   "source": [
    "The matplotlib graph is a complex object with many, many components we can tweak.  The components of the graph object are arranged in a hierarchy as we demonstrate in the cells below."
   ]
  },
  {
   "cell_type": "markdown",
   "metadata": {
    "collapsed": true
   },
   "source": [
    "The top-level object is the figure, which contains many sub-copmponents, including a figure title, which is formally called the suptitle, and the axes, which contain the visual graph elements. You can say the the suptitle and axes objects are child objects of the figure object.\n",
    "\n",
    "![Figure Object](gomFig1.jpg)\n",
    "\n",
    "![Figure Hierarchy](gomFig2.jpg)"
   ]
  },
  {
   "cell_type": "markdown",
   "metadata": {
    "collapsed": true
   },
   "source": [
    "Next we can drill down into the axes object and observe its child objects, which include the legend, the y-axis, the x-axis, vertical and horizontal lines, and grid lines.\n",
    "\n",
    "![Axes Object](gomAxes1.jpg)\n",
    "\n",
    "![Axes Hierarchy](gomAxes2.jpg)"
   ]
  },
  {
   "cell_type": "markdown",
   "metadata": {
    "collapsed": true
   },
   "source": [
    "Next we can drill still further down into the xaxis object and observe some of its child objects, which include the label (x-axis caption), tickmarks, tickmark labels.\n",
    "\n",
    "![X-axis Object](gomXaxis1.jpg)\n",
    "\n",
    "![X-axis Hierarchy](gomXaxis2.jpg)"
   ]
  },
  {
   "cell_type": "markdown",
   "metadata": {
    "collapsed": true
   },
   "source": [
    "Although we have looked at only a small fraction of the objects within a matplotlib figure, we can view the hierarchical structure of the objects we have observed in the succession above.\n",
    "\n",
    "![X-axis Object](gomHierarchy.jpg)"
   ]
  },
  {
   "cell_type": "markdown",
   "metadata": {},
   "source": [
    "# Inputting and Handling Data with the pandas Package\n",
    "\n",
    "The data for the first two graphs was typed, which is rarely done.  We'll need to input data automatically from files, databases, and other sources.  The pandas package provides a great (easy) resource for reading data files, and so we'll use pandas to input the data and manage it so we'll need to import that package, which is what we do next."
   ]
  },
  {
   "cell_type": "code",
   "execution_count": null,
   "metadata": {},
   "outputs": [],
   "source": [
    "import pandas as pd"
   ]
  },
  {
   "cell_type": "markdown",
   "metadata": {},
   "source": [
    "We will be loading data into a pandas DataFrame data type.  You will recall that a pandas DataFrame has columns and rows.  The columns have column names and all the data in each column is of the saem type.  There is also an index column, whcih we can use to access data rows, or we can use the integer row number as well.  \n",
    "\n",
    "Indicating the variable data type in the variable's name is a good practice to help you remember the data type for the variables.  People often use df, in the case of DataFrames, either as the name of a DataFrame or they append df to the beginning of the variable name.  "
   ]
  },
  {
   "cell_type": "markdown",
   "metadata": {},
   "source": [
    "The pandas .read_csv() method is very useful for import data from comma separated files.  Note that the data files must have column headings in the first row.  You will, possibly, need to adjust the path to the location of your data file if it is not in the same folder as your default Jupyter folder.\n",
    "\n",
    "The first data set below (stored in the df_oz DataFrame) is from William S. Cleveland and it is included in a typical R installation, which is my source.  These data describe temperature, wind speed, ozone, and radiation levels over time in New York City.  The second data set, which is stored in the df_test DataFrame, gives middle school standard of learning (SOL) scores for six course sections of a social studies course."
   ]
  },
  {
   "cell_type": "code",
   "execution_count": null,
   "metadata": {},
   "outputs": [],
   "source": [
    "\"\"\" Type just the filename, as is done in the statement below, implies that the .csv file\n",
    "    is located in the same folder as this Jupyter notebook. \"\"\"\n",
    "df_oz = pd.read_csv('ozone.csv')"
   ]
  },
  {
   "cell_type": "code",
   "execution_count": null,
   "metadata": {
    "scrolled": true
   },
   "outputs": [],
   "source": [
    "df_oz"
   ]
  },
  {
   "cell_type": "code",
   "execution_count": null,
   "metadata": {},
   "outputs": [],
   "source": [
    "df_oz.head()"
   ]
  },
  {
   "cell_type": "markdown",
   "metadata": {},
   "source": [
    "Before we start plotting, let's look at how you would find out about some of the properties of a DataFrame, starting with descriptive statistics. We've seen all of this before, but it is good practice to get in the habit of doing a few of these calls to explore your data."
   ]
  },
  {
   "cell_type": "code",
   "execution_count": null,
   "metadata": {},
   "outputs": [],
   "source": [
    "df_oz.describe()"
   ]
  },
  {
   "cell_type": "markdown",
   "metadata": {},
   "source": [
    "The `.shape` command gives a `tuple` where the element in the 0th position is the number of rows in the `DataFrame` and the element in the 1st position indicates the number of columns."
   ]
  },
  {
   "cell_type": "code",
   "execution_count": null,
   "metadata": {},
   "outputs": [],
   "source": [
    "df_oz.shape"
   ]
  },
  {
   "cell_type": "markdown",
   "metadata": {},
   "source": [
    "The `df_oz DataFrame` contains four climatic data series for New York City. Retrieve the column heading to see what they are."
   ]
  },
  {
   "cell_type": "code",
   "execution_count": null,
   "metadata": {},
   "outputs": [],
   "source": [
    "df_oz.columns"
   ]
  },
  {
   "cell_type": "code",
   "execution_count": null,
   "metadata": {},
   "outputs": [],
   "source": [
    "df_oz.columns.values"
   ]
  },
  {
   "cell_type": "markdown",
   "metadata": {},
   "source": [
    "Extract a column of data from a `DataFrame` (a `pandas` `Series` data type)"
   ]
  },
  {
   "cell_type": "code",
   "execution_count": null,
   "metadata": {},
   "outputs": [],
   "source": [
    "df_oz['temperature']"
   ]
  },
  {
   "cell_type": "code",
   "execution_count": null,
   "metadata": {},
   "outputs": [],
   "source": [
    "type(df_oz['temperature'])"
   ]
  },
  {
   "cell_type": "markdown",
   "metadata": {},
   "source": [
    "# Graphing with `pandas` DataFrame Data"
   ]
  },
  {
   "cell_type": "markdown",
   "metadata": {},
   "source": [
    "Let's investigate the relationship of ozone level to wind speed with a scatter plot."
   ]
  },
  {
   "cell_type": "code",
   "execution_count": null,
   "metadata": {},
   "outputs": [],
   "source": [
    "\"\"\" Format of the scatterplot method is as follows: ax.scatter(x-series, y-series) \"\"\"\n",
    "fig, ax = plt.subplots()\n",
    "\"\"\" \n",
    "ax.scatter() statement creates scatterplot\n",
    "The 'alpha' parameter controls dot transparency: 1 = solid, <1 = various transparency levels, 0 = no mark\n",
    "The c parameter designates color of the dots: 'b' stands for blue  \n",
    "\"\"\"\n",
    "ax.scatter(df_oz['wind'], df_oz['ozone'], alpha=0.5, c = 'b')  \n",
    "fig.suptitle('Ozone vs. Wind Speed')   # Graph title\n",
    "ax.xaxis.set_label_text('Wind Speed')  # x-axis caption\n",
    "ax.yaxis.set_label_text('Ozone')       # y-axis caption\n",
    "fig.set_size_inches(7,5)"
   ]
  },
  {
   "cell_type": "markdown",
   "metadata": {},
   "source": [
    "Here's ozone level versus solar radiation.  What relationship do you see?"
   ]
  },
  {
   "cell_type": "code",
   "execution_count": null,
   "metadata": {},
   "outputs": [],
   "source": [
    "\"\"\" Format of the scatterplot method is as follows: ax.scatter(x-series, y-series) \"\"\"\n",
    "fig, ax = plt.subplots()\n",
    "\"\"\" \n",
    "ax.scatter() statement creates scatterplot\n",
    "The 'alpha' parameter controls dot transparency: 1 = solid, <1 = various transparency levels, 0 = no mark\n",
    "The c parameter designates color of the dots: 'b' stands for blue  \n",
    "\"\"\"\n",
    "ax.scatter(df_oz['radiation'], df_oz['ozone'], alpha=0.5, c = 'b')    # the 'alpha' parameter controls dot opacity\n",
    "fig.suptitle('Ozone vs. Radiation')\n",
    "ax.xaxis.set_label_text('Radiation (langleys)')\n",
    "ax.yaxis.set_label_text('Ozone (ppb)')\n",
    "ax.set_xlim(0,400)  # Set min and max for x axis\n",
    "ax.set_ylim(0,200)  # Set min and max for y axis \n",
    "fig.set_size_inches(7,5)"
   ]
  },
  {
   "cell_type": "markdown",
   "metadata": {},
   "source": [
    "#  Bar Charts"
   ]
  },
  {
   "cell_type": "code",
   "execution_count": null,
   "metadata": {},
   "outputs": [],
   "source": [
    "state = ['Alabama','Alaska','Arizona','Arkansas','California','Colorado','Connecticut','Delaware','District of Columbia','Florida','Georgia','Hawaii','Idaho','Illinois','Indiana','Iowa','Kansas','Kentucky','Louisiana','Maine','Maryland','Massachusetts','Michigan','Minnesota','Mississippi','Missouri','Montana','Nebraska','Nevada','New Hampshire','New Jersey','New Mexico','New York','North Carolina','North Dakota','Ohio','Oklahoma','Oregon','Pennsylvania','Rhode Island','South Carolina','South Dakota','Tennessee','Texas','Utah','Vermont','Virginia','Washington','West Virginia','Wisconsin','Wyoming']\n",
    "pop = [4779736,710231,6392017,2915918,37253956,5029196,3574097,897934,601723,18801310,9687653,1360301,1567582,12830632,6483802,3046355,2853118,4339367,4533372,1328361,5773552,6547629,9883640,5303925,2967297,5988927,989415,1826341,2700551,1316470,8791894,2059179,19378102,9535483,672591,11536504,3751351,3831074,12702379,1052567,4625364,814180,6346105,25145561,2763885,625741,8001024,6724540,1852994,5686986,563626]\n",
    "\n",
    "\"\"\" Create lists of the state names and populations for the top 6 populus states \"\"\"\n",
    "statePop = [(state[i],pop[i]) for i in range(len(state))]\n",
    "statePop.sort(key = lambda x:x[1], reverse=True)\n",
    "statePlot = [x[0] for x in statePop[:6]]  #[:6]\n",
    "popPlot = [x[1] for x in statePop[:6]]  #[:6]\n",
    "\n",
    "fig,ax = plt.subplots()\n",
    "ax.bar(statePlot,popPlot)"
   ]
  },
  {
   "cell_type": "markdown",
   "metadata": {},
   "source": [
    "# Distributional Data: Histograms"
   ]
  },
  {
   "cell_type": "markdown",
   "metadata": {},
   "source": [
    "Let's look at some distributional data from a database that contains student scores for two tests, one taken at the beginning of the year and one at the end of the year.  Each student's scores are recorded along with their isntructor, school number, and course section number.  Here are the column names:"
   ]
  },
  {
   "cell_type": "code",
   "execution_count": null,
   "metadata": {},
   "outputs": [],
   "source": [
    "dfTest = pd.read_csv('test.csv')"
   ]
  },
  {
   "cell_type": "code",
   "execution_count": null,
   "metadata": {},
   "outputs": [],
   "source": [
    "dfTest.columns.values"
   ]
  },
  {
   "cell_type": "markdown",
   "metadata": {},
   "source": [
    "Here's what the data look like:"
   ]
  },
  {
   "cell_type": "code",
   "execution_count": null,
   "metadata": {
    "scrolled": true
   },
   "outputs": [],
   "source": [
    "dfTest"
   ]
  },
  {
   "cell_type": "code",
   "execution_count": null,
   "metadata": {},
   "outputs": [],
   "source": [
    "dfTest.head()"
   ]
  },
  {
   "cell_type": "markdown",
   "metadata": {},
   "source": [
    "Before we proceed, let's clean things up a bit by using the StudentIdentifier data as the index.  It is unnecessary to have both the (automatic) integer index and the StudentIdentifier."
   ]
  },
  {
   "cell_type": "code",
   "execution_count": null,
   "metadata": {},
   "outputs": [],
   "source": [
    "dfTest = dfTest.set_index('StudentIdentifier')"
   ]
  },
  {
   "cell_type": "code",
   "execution_count": null,
   "metadata": {},
   "outputs": [],
   "source": [
    "dfTest.head()"
   ]
  },
  {
   "cell_type": "markdown",
   "metadata": {},
   "source": [
    "`pandas` provides an easy way, using the `.unique()` method, to find the distinct entries in each column, for example to find what instructors are represented in the database"
   ]
  },
  {
   "cell_type": "code",
   "execution_count": null,
   "metadata": {},
   "outputs": [],
   "source": [
    "dfTest['InstructorName'].unique()"
   ]
  },
  {
   "cell_type": "markdown",
   "metadata": {},
   "source": [
    "Let's filter the rows, choosing only those rows where Smith is the instructor. We will use the statement below, which creates a `pandas` `Series` of boolean values, one for every row of the InstructorName column.  We will use this Series to filter the rows of the `dfTest` `DataFrame` where the Boolean values are `True`, which implies that Smith is the instructor."
   ]
  },
  {
   "cell_type": "code",
   "execution_count": null,
   "metadata": {},
   "outputs": [],
   "source": [
    "dfTest['InstructorName'] == 'Smith'"
   ]
  },
  {
   "cell_type": "code",
   "execution_count": null,
   "metadata": {},
   "outputs": [],
   "source": [
    "dfTest.loc[dfTest['InstructorName'] == 'Smith']"
   ]
  },
  {
   "cell_type": "code",
   "execution_count": null,
   "metadata": {},
   "outputs": [],
   "source": [
    "dfTest.loc[dfTest['InstructorName'] == 'Smith']['InstructorName'].unique()"
   ]
  },
  {
   "cell_type": "markdown",
   "metadata": {},
   "source": [
    "Let's plot a frequency histogram of Smith's students for the year-end test scores.  First, here is how we get at the data."
   ]
  },
  {
   "cell_type": "code",
   "execution_count": null,
   "metadata": {
    "scrolled": true
   },
   "outputs": [],
   "source": [
    "dfTest.loc[dfTest['InstructorName'] == 'Smith']['EndYearTestScore']"
   ]
  },
  {
   "cell_type": "markdown",
   "metadata": {},
   "source": [
    "Here's a frequency histogram for Instructor Smith's students at the end of the school year."
   ]
  },
  {
   "cell_type": "code",
   "execution_count": null,
   "metadata": {},
   "outputs": [],
   "source": [
    "fig, ax = plt.subplots()\n",
    "ax.hist(x = dfTest.loc[dfTest['InstructorName'] == 'Smith']['EndYearTestScore'], bins = 20, facecolor='g', alpha=0.75)\n",
    "\n",
    "fig.suptitle('End of Year test Score Frequency Histogram')\n",
    "fig.set_size_inches(7,5)\n",
    "\n",
    "ax.xaxis.set_label_text('End Year Test Score')\n",
    "ax.xaxis.set_tick_params(which = 'both', top = False, bottom = True, labelbottom = True)  # Turn top x axis tick marks off \n",
    "\n",
    "ax.yaxis.set_label_text('Frequency of Scores')\n",
    "ax.yaxis.set_tick_params(which = 'both', right = False, left = True, labelleft = True)   # Turn right y axis tick marks off\n",
    "\n",
    "ax.set_xlim(64, 85)\n",
    "ax.set_ylim(0, 8)"
   ]
  },
  {
   "cell_type": "markdown",
   "metadata": {},
   "source": [
    "### Comment\n",
    "The graph above has plenty of aesthetic issues.  Which ones do you see?  You may want to try to resolve these issues on your own."
   ]
  },
  {
   "cell_type": "markdown",
   "metadata": {},
   "source": [
    "A bar chart can be used to create a histogram also, but using this chart type requires that the data be processed into frequency histogram format before plotting."
   ]
  },
  {
   "cell_type": "code",
   "execution_count": null,
   "metadata": {},
   "outputs": [],
   "source": [
    "\"\"\" Create frequency histogram data from DataFrame \"\"\"\n",
    "scores = dfTest.loc[dfTest['InstructorName'] == 'Smith']['EndYearTestScore']\n",
    "\n",
    "\"\"\" Using pandas .value_counts() method and list comprehension to create th\n",
    "    frequency histogram data \"\"\"\n",
    "scores = dict(scores.value_counts())\n",
    "scoresminx = min(scores)\n",
    "maxx = max(scores)\n",
    "minx = min(scores)\n",
    "x = [i for i in range(minx,maxx+1)]    # x series data is required to label the x-axis\n",
    "freq = [scores[i] for i in range(minx,maxx+1)]  # created y-axis data\n",
    "\n",
    "\"\"\" Plot frequency histogram data \"\"\"\n",
    "fig, ax = plt.subplots()\n",
    "ax.bar(x=x,height=freq, color='g', alpha=0.75)\n",
    "\n",
    "fig.suptitle('End of Year test Score Frequency Histogram')\n",
    "fig.set_size_inches(7,5)\n",
    "\n",
    "ax.xaxis.set_label_text('End Year Test Score')\n",
    "ax.yaxis.set_label_text('Frequency of Scores')\n",
    "\n",
    "ax.set_xlim(64, 85)\n",
    "ax.set_ylim(0, 8)"
   ]
  },
  {
   "cell_type": "markdown",
   "metadata": {},
   "source": [
    "Block of code from the cell above that creates a dictionary with the frequency histogram data."
   ]
  },
  {
   "cell_type": "code",
   "execution_count": null,
   "metadata": {},
   "outputs": [],
   "source": [
    "scores = dfTest.loc[dfTest['InstructorName'] == 'Smith']['EndYearTestScore']\n",
    "print(scores.value_counts())\n",
    "scores = dict(scores.value_counts())\n",
    "scores"
   ]
  },
  {
   "cell_type": "markdown",
   "metadata": {},
   "source": [
    "Here's are three approaches to comparing Smith's and Green's student scores at the end of the year.  Are any of these graphs acceptable?\n",
    "\n",
    "- Plot one histogram on top of another\n",
    "- Plot one histogram on top of another with partially transparent bars\n",
    "- Plot histogram bars side by side"
   ]
  },
  {
   "cell_type": "code",
   "execution_count": null,
   "metadata": {},
   "outputs": [],
   "source": [
    "fig, ax = plt.subplots()\n",
    "\n",
    "ax.hist(x = dfTest.loc[dfTest['InstructorName'] == 'Smith']['EndYearTestScore'], bins = 20, facecolor='r')\n",
    "ax.hist(x = dfTest.loc[dfTest['InstructorName'] == 'Green']['EndYearTestScore'], bins = 20, facecolor='g')\n",
    "\n",
    "fig.suptitle('End of Year test Score Frequency Histogram')\n",
    "fig.set_size_inches(7,5)\n",
    "\n",
    "ax.xaxis.set_label_text('End Year Test Score')\n",
    "ax.yaxis.set_label_text('Frequency of Scores')\n",
    "\n",
    "ax.set_xlim(64, 85)\n",
    "ax.set_ylim(0, 8)"
   ]
  },
  {
   "cell_type": "code",
   "execution_count": null,
   "metadata": {},
   "outputs": [],
   "source": [
    "fig, ax = plt.subplots()\n",
    "\n",
    "ax.hist(x = dfTest.loc[dfTest['InstructorName'] == 'Smith']['EndYearTestScore'], bins = 20, facecolor='r', alpha=0.5)\n",
    "ax.hist(x = dfTest.loc[dfTest['InstructorName'] == 'Green']['EndYearTestScore'], bins = 20, facecolor='g', alpha=0.5)\n",
    "\n",
    "fig.suptitle('End of Year test Score Frequency Histogram')\n",
    "fig.set_size_inches(7,5)\n",
    "\n",
    "ax.xaxis.set_label_text('End Year Test Score')\n",
    "ax.yaxis.set_label_text('Frequency of Scores')\n",
    "\n",
    "ax.set_xlim(64, 85)\n",
    "ax.set_ylim(0, 8)"
   ]
  },
  {
   "cell_type": "code",
   "execution_count": null,
   "metadata": {},
   "outputs": [],
   "source": [
    "fig, ax = plt.subplots()\n",
    "\n",
    "n, bins, patches = ax.hist((dfTest.loc[dfTest['InstructorName'] == 'Smith']['EndYearTestScore'], \\\n",
    "         dfTest.loc[dfTest['InstructorName'] == 'Green']['EndYearTestScore']), bins = 20, stacked = False)\n",
    "for i in range(len(patches)):\n",
    "    if i%2 == 0:\n",
    "        plt.setp(patches[i],'facecolor','r')\n",
    "    else:\n",
    "        plt.setp(patches[i],'facecolor','g')\n",
    "\n",
    "fig.suptitle('End of Year test score Frequency Histogram')\n",
    "fig.set_size_inches(7,5)\n",
    "\n",
    "ax.xaxis.set_label_text('End Year Test Score')\n",
    "ax.yaxis.set_label_text('Frequency of Scores')\n",
    "\n",
    "ax.set_xlim(64, 85)\n",
    "ax.set_ylim(0, 8)\n",
    "ax.legend(['Smith','Green'])"
   ]
  },
  {
   "cell_type": "markdown",
   "metadata": {},
   "source": [
    "# Distributional Data: Boxplots"
   ]
  },
  {
   "cell_type": "markdown",
   "metadata": {},
   "source": [
    "Here's a boxplot of Smith's end of year student test scores."
   ]
  },
  {
   "cell_type": "code",
   "execution_count": null,
   "metadata": {},
   "outputs": [],
   "source": [
    "fig, ax = plt.subplots()\n",
    "\n",
    "ax.boxplot(dfTest.loc[dfTest['InstructorName'] == 'Smith']['EndYearTestScore'],labels=['Smith'])\n",
    "ax.yaxis.axes.set_ylim(60,85)\n",
    "#ax.set_xticklabels(['Smith'])  # alternative method to set x tickmark labels"
   ]
  },
  {
   "cell_type": "markdown",
   "metadata": {},
   "source": [
    "Code for comparing Smith and Green"
   ]
  },
  {
   "cell_type": "code",
   "execution_count": null,
   "metadata": {},
   "outputs": [],
   "source": [
    "# Create a list with a pandas Series for each instructor we want to compare\n",
    "data = []       # create an empty Python list; sublists will be appended for each boxplot\n",
    "data.append(dfTest.loc[dfTest['InstructorName'] == 'Smith']['EndYearTestScore'])\n",
    "data.append(dfTest.loc[dfTest['InstructorName'] == 'Green']['EndYearTestScore'])\n",
    "data_min = min([min(sublist) for sublist in data])  # this and the following 3 lines automatically size the graph to the data \n",
    "data_max = max([max(sublist) for sublist in data])  # while providing buffer space\n",
    "\n",
    "fig, ax = plt.subplots()\n",
    "\n",
    "fig.set_figheight(5)\n",
    "fig.set_figwidth(7)\n",
    "#fig.set_size_inches(7,5)  # Alternate method for setting figure size\n",
    "ax.boxplot(data,labels=['Smith','Green'])\n",
    "\n",
    "ax.set_ylim(data_min - 2, data_max + 2)  # create some vertical buffer space\n",
    "#ax.set_xticklabels(['Smith','Green'])\n",
    "ax.set_ylabel('Test Score')\n",
    "ax.set_xlabel('Instructor')"
   ]
  },
  {
   "cell_type": "code",
   "execution_count": null,
   "metadata": {},
   "outputs": [],
   "source": [
    "data = []       # create an empty Python list; sublists will be appended for each boxplot\n",
    "data.append(dfTest.loc[dfTest['InstructorName'] == 'Smith']['EndYearTestScore'])\n",
    "data.append(dfTest.loc[dfTest['InstructorName'] == 'Green']['EndYearTestScore'])\n",
    "data"
   ]
  },
  {
   "cell_type": "markdown",
   "metadata": {},
   "source": [
    "Code for comparing Smith, Jones, and Green"
   ]
  },
  {
   "cell_type": "code",
   "execution_count": null,
   "metadata": {},
   "outputs": [],
   "source": [
    "# Get data\n",
    "instructors = ['Smith','Green','Jones']\n",
    "#instructors = dfTest['InstructorName'].unique()\n",
    "data = []       # create an empty Python list; sublists will be appended for each boxplot\n",
    "for instructor in instructors:\n",
    "    data.append(dfTest.loc[dfTest['InstructorName'] == instructor]['EndYearTestScore'])\n",
    "data_min = min([min(sublist) for sublist in data])  # this and the following 3 lines automatically size the graph to the data \n",
    "data_max = max([max(sublist) for sublist in data])  # while providing buffer space\n",
    "\n",
    "fig, ax = plt.subplots()\n",
    "\n",
    "fig.set_figheight(5)\n",
    "fig.set_figwidth(7)\n",
    "\n",
    "ax.boxplot(data)\n",
    "\n",
    "ax.yaxis.axes.set_ylim(data_min - 2, data_max + 2)   # Create vertical buffer space\n",
    "#plt.ylim([data_min - 2, data_max + 2])              # Alternate method for creating vertical buffer space\n",
    "ax.set_xticklabels(instructors)   # Alternate method for labels x-axis tickmark labels\n",
    "ax.set_ylabel('Test Score')\n",
    "ax.set_xlabel('Instructor')\n",
    "\n",
    "plt.show()"
   ]
  },
  {
   "cell_type": "code",
   "execution_count": null,
   "metadata": {},
   "outputs": [],
   "source": [
    "dfTest['InstructorName'].unique()"
   ]
  },
  {
   "cell_type": "markdown",
   "metadata": {},
   "source": [
    "# Pareto Charts"
   ]
  },
  {
   "cell_type": "markdown",
   "metadata": {
    "collapsed": true
   },
   "source": [
    "Pareto diagrams highlight the issues that are most important.  They are named after Willifred Pareto and highlight the \"vital few versus the trivial many\" and visualize the famous \"80-20 Rule.\""
   ]
  },
  {
   "cell_type": "code",
   "execution_count": null,
   "metadata": {},
   "outputs": [],
   "source": [
    "# U.S. Budget Data in Trillions of Dollars\n",
    "bdata = [1.28,1.05,0.6093,0.22195,0.16063,0.1357,0.10226,0.08499,0.06148,0.05022,0.04485,0.02981]\n",
    "blabels = ['Unemp','Health','Mil.','Interest', 'Veterans','Agri.','Edu','Trans','Housing','Intl','EnergyEnv','Science']\n",
    "\n",
    "\"\"\" Create cumulative percentage data series \"\"\"\n",
    "bdata_cum = []\n",
    "for i in range(len(bdata)):\n",
    "    bdata_cum.append(sum(bdata[0:i+1])/sum(bdata))\n",
    "\n",
    "# Create plot and set figure object settings\n",
    "fig, ax = plt.subplots()\n",
    "fig.suptitle('United States Budget Analysis', fontsize = 16)\n",
    "fig.set_size_inches(9,5)\n",
    "#fig.set_figwidth(9)\n",
    "#fig.set_figheight(5)\n",
    "\n",
    "# Set bar chart parameters\n",
    "ax.bar(blabels,bdata, align='center')\n",
    "ax.set_ylim(0,sum(bdata))   # set limits on first y-axis to align with second y-axis\n",
    "\n",
    "# Construct a second y-axis\n",
    "ax1 = ax.twinx()\n",
    "ax1.plot(bdata_cum,color='k')\n",
    "ax1.set_ylim(0,1)     # The second y-axis is a percentage scale from zero to 100%\n",
    "\n",
    "# If you want to save the graph as a file ucomment the following line\n",
    "# fig.savefig('pareto.jpg', dpi=2000)"
   ]
  },
  {
   "cell_type": "markdown",
   "metadata": {
    "collapsed": true
   },
   "source": [
    "Note the overlap in the x-axis tickmark labels in the graph above.\n",
    "\n",
    "In the following code a typical version of a Pareto chart is shown where bars are shown for only the most frequent items."
   ]
  },
  {
   "cell_type": "code",
   "execution_count": null,
   "metadata": {},
   "outputs": [],
   "source": [
    "# Data\n",
    "blabels1 = ['SS','Health','Mil.','Interest', 'Vet.','Agri.','Other']\n",
    "bindex = 6\n",
    "bother = sum(bdata[bindex:])\n",
    "bdata1 = bdata[:bindex] + [bother]\n",
    "bdata_cum = []\n",
    "for i in range(len(bdata1)):\n",
    "    bdata_cum.append(sum(bdata1[0:i+1])/sum(bdata1))\n",
    "\n",
    "fig, ax = plt.subplots()\n",
    "fig.set_figwidth(9)\n",
    "fig.set_figheight(5)\n",
    "\n",
    "# Bar chart settings\n",
    "ax.bar(blabels1,bdata1, align='center')\n",
    "ax.set_ylim(0,sum(bdata1))\n",
    "\n",
    "# Line chart settings\n",
    "ax1 = ax.twinx()\n",
    "ax1.plot(bdata_cum,color='k')\n",
    "ax1.set_ylim(0,1)"
   ]
  },
  {
   "cell_type": "markdown",
   "metadata": {},
   "source": [
    "# Multiple Plots\n",
    "\n",
    "There are multiple ways to plot multiple data series.  They can be on the same axes or they can be placed in separate graphs.\n",
    "\n",
    "Actually, note that we have already plotted two data series on the same axes when we created the Pareto graphs above using the `ax.twinx()` statement.\n",
    "\n",
    "Creating multiple plots requires that we use the `plt.subplots()` command to greater advantage than we have heretofore."
   ]
  },
  {
   "cell_type": "markdown",
   "metadata": {},
   "source": [
    "Let's plot two axes in the same figure using data that we've alrady plotted by plotting two graphs in a single \"row.\"  First not that the `ax` object now holds two axes and can be accessed by subscripts."
   ]
  },
  {
   "cell_type": "code",
   "execution_count": null,
   "metadata": {},
   "outputs": [],
   "source": [
    "fig,ax = plt.subplots(nrows=1,ncols=2)\n",
    "for i in range(len(ax)):\n",
    "    print(ax[i])"
   ]
  },
  {
   "cell_type": "markdown",
   "metadata": {},
   "source": [
    "Then, we can simply duplicate some of the code we have already used to create the prior graphs."
   ]
  },
  {
   "cell_type": "code",
   "execution_count": null,
   "metadata": {},
   "outputs": [],
   "source": [
    "fig,ax = plt.subplots(nrows=1,ncols=2)\n",
    "\n",
    "fig.suptitle('These Graphs Do Not Go Together')\n",
    "\n",
    "\"\"\" Create the boxplot for three instructors in the first subplot \"\"\"\n",
    "instructors = ['Smith','Green','Jones']\n",
    "data = []       # create an empty Python list; sublists will be appended for each boxplot\n",
    "for instructor in instructors:\n",
    "    data.append(dfTest.loc[dfTest['InstructorName'] == instructor]['EndYearTestScore'])\n",
    "data_min = min([min(sublist) for sublist in data])  # this and the following 3 lines automatically size the graph to the data \n",
    "data_max = max([max(sublist) for sublist in data])  # while providing buffer space\n",
    "\n",
    "fig.set_figheight(5)\n",
    "fig.set_figwidth(7)\n",
    "\n",
    "ax[0].boxplot(data)\n",
    "ax[0].yaxis.axes.set_ylim(data_min - 2, data_max + 2)   # Create vertical buffer space\n",
    "#plt.ylim([data_min - 2, data_max + 2])                 # Alternate method for creating vertical buffer space\n",
    "ax[0].set_xticklabels(instructors)                      # Alternate method for labels x-axis tickmark labels\n",
    "ax[0].set_ylabel('Test Score')\n",
    "ax[0].set_xlabel('Instructor')\n",
    "ax[0].set_title('Boxplot')\n",
    "\n",
    "\n",
    "\"\"\" Create Ozone-Radiation scatterplot in the second subplot\"\"\"\n",
    "ax[1].scatter(df_oz['radiation'], df_oz['ozone'], alpha=0.5, c = 'b')    # the 'alpha' parameter controls dot opacity\n",
    "ax[1].xaxis.set_label_text('Radiation (langleys)')\n",
    "ax[1].yaxis.set_label_text('Ozone (ppb)')\n",
    "ax[1].set_xlim(0,400)  # Set min and max for x axis\n",
    "ax[1].set_ylim(0,200)  # Set min and max for y axis \n",
    "ax[1].set_title('Scatterplot')"
   ]
  },
  {
   "cell_type": "markdown",
   "metadata": {},
   "source": [
    "Plot 4 subplots.  I will produce four subplots using a loop.  First, note how to index the different subplots."
   ]
  },
  {
   "cell_type": "code",
   "execution_count": null,
   "metadata": {},
   "outputs": [],
   "source": [
    "fig,ax = plt.subplots(nrows=2,ncols=2)\n",
    "for i in range(len(ax)):\n",
    "    for j in range(len(ax[i])):\n",
    "        print(ax[i,j])"
   ]
  },
  {
   "cell_type": "code",
   "execution_count": null,
   "metadata": {},
   "outputs": [],
   "source": [
    "fig,ax = plt.subplots(nrows=2,ncols=2)\n",
    "\n",
    "\"\"\" This list of lists is in an amenable form to create the graphs in a loop \"\"\"\n",
    "\"\"\" Each of the four sublists have a x-series sublist and a y-series sublist \"\"\"\n",
    "data = [[[[0,1,2,3],[2,2,2,2]],[[0,1,2,3],[0,1,2,3]]],[[[0,1,2,3],[3,2,1,0]],[[0,1,2,3],[3,3,1,1]]]]\n",
    "\n",
    "fig.suptitle('These Graphs Do Go Together')\n",
    "\n",
    "for i in range(len(ax)):\n",
    "    for j in range(len(ax[i])):\n",
    "        ax[i,j].plot(data[i][j][0],data[i][j][1])\n",
    "        ax[i,j].set_xlabel('Subplot ('+str(i)+','+str(j)+') x-axis')\n",
    "        ax[i,j].set_ylabel('Subplot ('+str(i)+','+str(j)+') y-axis')\n",
    "        ax[i,j].set_ylim(0,3.1)\n",
    "\n",
    "plt.show()"
   ]
  },
  {
   "cell_type": "markdown",
   "metadata": {
    "deletable": false,
    "editable": false
   },
   "source": [
    "**&copy; 2021 - Present: Matthew D. Dean, Ph.D.   \n",
    "Clinical Associate Professor of Business Analytics at William \\& Mary.**"
   ]
  }
 ],
 "metadata": {
  "kernelspec": {
   "display_name": "Python 3",
   "language": "python",
   "name": "python3"
  },
  "language_info": {
   "codemirror_mode": {
    "name": "ipython",
    "version": 3
   },
   "file_extension": ".py",
   "mimetype": "text/x-python",
   "name": "python",
   "nbconvert_exporter": "python",
   "pygments_lexer": "ipython3",
   "version": "3.8.5"
  }
 },
 "nbformat": 4,
 "nbformat_minor": 1
}
