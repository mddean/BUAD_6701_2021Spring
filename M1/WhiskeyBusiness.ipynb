{
 "cells": [
  {
   "cell_type": "markdown",
   "metadata": {},
   "source": [
    "# M1 - A First Example\n",
    "We want to get the daily closing stock prices from 2016 to 2020 for the major players in the distilled and blended liquor industry. These are Brown-Forman Corporation (BF-B), Diageo (DEO), Eastside Distilling (EAST), and MGP Ingredients (MGPI). After retrieving the data, we want to make a simple line plot for each company."
   ]
  },
  {
   "cell_type": "code",
   "execution_count": null,
   "metadata": {},
   "outputs": [],
   "source": [
    "# We are going to use a package called 'yahooquery'\n",
    "# It pulls the data from Yahoo Finance.\n",
    "from yahooquery import Ticker\n",
    "\n",
    "%matplotlib inline"
   ]
  },
  {
   "cell_type": "code",
   "execution_count": null,
   "metadata": {},
   "outputs": [],
   "source": [
    "# We create a Ticker object by passing it a list of four ticker symbols\n",
    "# The second parameter passed in tells the code to make requests to\n",
    "# Yahoo Finance asynchronously (need to do this for when querying\n",
    "# multiple ticker symbols).\n",
    "\n",
    "tickers = Ticker(\"BF-B DEO EAST MGPI\", asynchronous=True)"
   ]
  },
  {
   "cell_type": "code",
   "execution_count": null,
   "metadata": {},
   "outputs": [],
   "source": [
    "# Get the daily stock price history starting January 1, 2016\n",
    "# and ending December 31, 2020. The result will be a pandas\n",
    "# DataFrame, which I am calling 'df'. We can look at the first\n",
    "# few rows using the .head() function.\n",
    "\n",
    "df = tickers.history(start=\"2016-01-01\", end=\"2020-12-31\")\n",
    "df.head()"
   ]
  },
  {
   "cell_type": "code",
   "execution_count": null,
   "metadata": {},
   "outputs": [],
   "source": [
    "# Take a peek at what the dataframe looks like\n",
    "# We see can see all of the columns of the dataframe, along with how\n",
    "# how many rows there are as well as the datatype for each column.\n",
    "# Useful information!\n",
    "\n",
    "df.info()"
   ]
  },
  {
   "cell_type": "code",
   "execution_count": null,
   "metadata": {},
   "outputs": [],
   "source": [
    "# We can take a look at the index of the dataframe.\n",
    "# We have a MultiIndex -- this is also considered a hierarchal index.\n",
    "# Unfortunately, for our simple desire of a line plot, this type of index\n",
    "# makes it slightly more \"involved\" to get our graph\n",
    "\n",
    "df.index"
   ]
  },
  {
   "cell_type": "code",
   "execution_count": null,
   "metadata": {},
   "outputs": [],
   "source": [
    "# We can also list all of the columns of our dataframe\n",
    "df.columns"
   ]
  },
  {
   "cell_type": "code",
   "execution_count": null,
   "metadata": {},
   "outputs": [],
   "source": [
    "# Let's look at Brown-Forman (because they make Woodford Reserve).\n",
    "# We can use the .loc() function to pull out just BF-B.\n",
    "df.loc[(\"BF-B\")]"
   ]
  },
  {
   "cell_type": "code",
   "execution_count": null,
   "metadata": {},
   "outputs": [],
   "source": [
    "# We can easily plot BF-B closing price over the 5-year period.\n",
    "# The pandas dataframe let's us plot directly with it ... pretty cool!\n",
    "df.loc[(\"BF-B\")].plot(y=\"close\")"
   ]
  },
  {
   "cell_type": "code",
   "execution_count": null,
   "metadata": {},
   "outputs": [],
   "source": [
    "# What happens if we try to plot the closing price for everything?\n",
    "# This plots only a single line ... \n",
    "df['close'].plot()"
   ]
  },
  {
   "cell_type": "markdown",
   "metadata": {},
   "source": [
    "## No Good\n",
    "That result does not look correct. I wanted to see 4 different lines, one for each ticker symbol. Instead, I got a single line. Here is where the <code>MultiIndex</code> on our original dataframe is causing us some pain. In short, we want each ticker symbol to be its own column in order for the plotting function to create separate lines.\n",
    "\n",
    "### One Approach to Fix\n",
    "Let's create a new <code>DataFrame</code> that stores the just the closing stock price over the 5-year period, but make each column one of the ticker symbols.\n",
    "\n",
    "#### Step 1.\n",
    "Pull out the closing stock price for BF-B as a <code>Series</code>, rename it, and make it a <code>DataFrame</code> called <code>myDF</code>.\n",
    "\n",
    "#### Step 2.\n",
    "Add DEO, EAST, and MGPI to <code>myDF</code> each as its own column, naming them correctly.\n",
    "\n",
    "#### Step 3.\n",
    "Look at our <code>myDF</code> to see what it looks like"
   ]
  },
  {
   "cell_type": "code",
   "execution_count": null,
   "metadata": {},
   "outputs": [],
   "source": [
    "# Step 1.\n",
    "myDF = df.loc[\"BF-B\"][\"close\"].rename(\"BF-B\").to_frame()\n",
    "\n",
    "# Step 2.\n",
    "myDF[\"DEO\"] = df.loc[\"DEO\"][\"close\"]\n",
    "myDF[\"EAST\"] = df.loc[\"EAST\"][\"close\"]\n",
    "myDF[\"MGPI\"] = df.loc[\"MGPI\"][\"close\"]\n",
    "\n",
    "# Step 3.\n",
    "myDF"
   ]
  },
  {
   "cell_type": "markdown",
   "metadata": {},
   "source": [
    "## Time to Plot\n",
    "Let's use the package <code>seaborn</code> to plot the four time series. I'll set the style to <code>ticks</code> to clean up the plot a little. Additionally, we'll make the color palette colorblind-friendly. Finally, I <code>despine</code> the plot which is simply removing the top and right lines of the graph region."
   ]
  },
  {
   "cell_type": "code",
   "execution_count": null,
   "metadata": {},
   "outputs": [],
   "source": [
    "import seaborn as sns\n",
    "sns.set_style(\"ticks\")\n",
    "\n",
    "sns.lineplot(data=myDF, palette=\"colorblind\")\n",
    "sns.despine()"
   ]
  },
  {
   "cell_type": "markdown",
   "metadata": {},
   "source": [
    "### Another Approach to Fix\n",
    "Let's create a new `DataFrame` that stores the just the closing stock price over the 5-year period, but make each column one of the ticker symbols.\n",
    "\n",
    "#### Step 1.\n",
    "Pull out the closing stock price for all of the tickers as `Series`, rename it, and make it a <code>DataFrame</code> called `justClose`.\n",
    "\n",
    "#### Step 2.\n",
    "Reset the index of `justClose` so that we remove the `MultiIndex`.\n",
    "\n",
    "#### Step 3.\n",
    "Pivot the data in `justClose` so that we have each symbol as its own column."
   ]
  },
  {
   "cell_type": "code",
   "execution_count": null,
   "metadata": {},
   "outputs": [],
   "source": [
    "# Step 1. Pull out just the closing stock price for every stock of every day\n",
    "justClose = df[\"close\"].to_frame()\n",
    "justClose"
   ]
  },
  {
   "cell_type": "code",
   "execution_count": null,
   "metadata": {},
   "outputs": [],
   "source": [
    "# Step 2. Reset the index removing the multi-index\n",
    "justClose.reset_index(inplace=True)\n",
    "justClose"
   ]
  },
  {
   "cell_type": "code",
   "execution_count": null,
   "metadata": {},
   "outputs": [],
   "source": [
    "# Step 3. Pivot the data on \"date\", making each symbol its own column, \n",
    "# using the closing price as the value\n",
    "pivotedJC = justClose.pivot(index=\"date\", columns=\"symbol\", values=\"close\")\n",
    "pivotedJC"
   ]
  },
  {
   "cell_type": "code",
   "execution_count": null,
   "metadata": {},
   "outputs": [],
   "source": [
    "# Looks good. So, let's plot using native dataframe capability\n",
    "pivotedJC.plot()"
   ]
  },
  {
   "cell_type": "code",
   "execution_count": null,
   "metadata": {},
   "outputs": [],
   "source": [
    "# We can also plot with seaborn like we did before.\n",
    "sns.set_style(\"ticks\")\n",
    "\n",
    "sns.lineplot(data=pivotedJC, palette=\"colorblind\")\n",
    "sns.despine()"
   ]
  },
  {
   "cell_type": "markdown",
   "metadata": {
    "deletable": false,
    "editable": false
   },
   "source": [
    "**&copy; 2021 - Present: Matthew D. Dean, Ph.D.   \n",
    "Clinical Associate Professor of Business Analytics at William \\& Mary.**"
   ]
  }
 ],
 "metadata": {
  "kernelspec": {
   "display_name": "Python 3",
   "language": "python",
   "name": "python3"
  },
  "language_info": {
   "codemirror_mode": {
    "name": "ipython",
    "version": 3
   },
   "file_extension": ".py",
   "mimetype": "text/x-python",
   "name": "python",
   "nbconvert_exporter": "python",
   "pygments_lexer": "ipython3",
   "version": "3.8.5"
  }
 },
 "nbformat": 4,
 "nbformat_minor": 4
}
