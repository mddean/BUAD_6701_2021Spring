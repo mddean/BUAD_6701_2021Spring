{
 "cells": [
  {
   "cell_type": "markdown",
   "metadata": {},
   "source": [
    "# Introduction to Markdown\n",
    "\n",
    "-----"
   ]
  },
  {
   "cell_type": "markdown",
   "metadata": {},
   "source": [
    "[Markdown][1] is a plain text formatting syntax that you can easily use to write text that can be converted to formatted text, for example, HTML. Markdown was developed by John Gruber, who runs the popular [Daring Fireball][df] blog. Markdown has found many uses, two of which are relevant for this course:\n",
    "1. github documentation pages, and\n",
    "2. IPython Notebook documentation cells.\n",
    "\n",
    "Markdown is [free software][2] that is available under a BSD-style open source license. The Jupyter organization has [documentation][3] that demonstrates how to use Markdown within a cell to produce formatted text, and of course we often use documentation presented in Jupyter Notebooks that use Markdown cells.\n",
    "\n",
    "The rest of this Jupyter Notebook will review the standard mechanisms for documenting your work in Markdown.\n",
    "\n",
    "-----\n",
    "[df]: http://daringfireball.net\n",
    "[1]: https://en.wikipedia.org/wiki/Markdown\n",
    "[2]: http://daringfireball.net/projects/markdown/license\n",
    "[3]: http://jupyter-notebook.readthedocs.io/en/latest/examples/Notebook/Working%20With%20Markdown%20Cells.html"
   ]
  },
  {
   "cell_type": "markdown",
   "metadata": {},
   "source": [
    "## Header Text\n",
    "\n",
    "You can mark different sections of text by using different header levels. Markdown provides support for six header levels, which are generally marked by one or more hash `#` characters, where the number of hash characters indicates the header level. For example, to make a first level header text called *Markdown* followed by a second level header called *Header Text*, you would use the following:\n",
    "\n",
    "```\n",
    "\n",
    "# Markdown\n",
    "  \n",
    "## Header Text\n",
    "\n",
    "```\n",
    "The result would look like:\n",
    "\n",
    "# Markdown\n",
    "\n",
    "## Header Text\n",
    "\n",
    "-----"
   ]
  },
  {
   "cell_type": "markdown",
   "metadata": {},
   "source": [
    "## Paragraphs\n",
    "\n",
    "Normally, you simply write text as normal for a document. Paragraphs are simply one or more lines that are enclosed in blank lines. If you need to insert a line break between two lines of text (sometimes useful when writing out lists), you simply add two or more blank spaces at the end\n",
    "of the line to break.\n",
    "  \n",
    "```\n",
    "Here is a simple Markdown formatted text that consists of several sentences. This demonstrates how normal text can be written in a Jupyter Notebook cell, which can provide ancillary information about a specific data analytics effort.\n",
    "```\n",
    "\n",
    "Which would result in the following:\n",
    "\n",
    "Here is a simple Markdown formatted text that consists of several sentences. This demonstrates how normal text can be written in a Jupyter Notebook cell, which can provide ancillary information about a specific data analytics effort.\n",
    "\n",
    "-----"
   ]
  },
  {
   "cell_type": "markdown",
   "metadata": {},
   "source": [
    "## Text Styling\n",
    "\n",
    "You can easily indicate text that should be *italicized* by enclosing the appropriate text in single asterisk `*` characters. Likewise, for **bold** text, you enclose the text in two asterisk `**` characters. For example, the following Markdown text will:\n",
    "\n",
    "first create **bold text** followed by *italics text*:\n",
    "\n",
    "```\n",
    "first create **bold text** followed by *italics text*\n",
    "```\n",
    "\n",
    "-----"
   ]
  },
  {
   "cell_type": "markdown",
   "metadata": {},
   "source": [
    "<font color='red' size = '5'> Student Exercise </font>\n",
    "\n",
    "In the empty **Markdown** cell below, write a Markdown formatted document that includes a first level heading, a sentence, a second level heading, and another sentence. Be sure to include both **bolded** text and *italicized* text in the document.\n",
    "\n",
    "-----"
   ]
  },
  {
   "cell_type": "markdown",
   "metadata": {},
   "source": []
  },
  {
   "cell_type": "markdown",
   "metadata": {},
   "source": [
    "-----"
   ]
  },
  {
   "cell_type": "markdown",
   "metadata": {},
   "source": [
    "## Lists\n",
    "\n",
    "You can easily create two types of lists in Markdown: unordered and ordered, both of which can be nested. To make a simple unordered list, we simply prefix the list entries (that is a line) by a single asterisk `*`, dash `-`, or plus `+` character. To create a nested list, you indent the nested list by one or more spaces. For consistency, I prefer to use the dash `-` character to indicate unordered lists. For example, the following Markdown:\n",
    "\n",
    "```\n",
    "- Item 1\n",
    "- Item 2\n",
    " - Item 2.1\n",
    " - Item 2.2\n",
    "- Item 3\n",
    "```\n",
    "\n",
    "will produce the following list:\n",
    "- Item 1\n",
    "- Item 2\n",
    " - Item 2.1\n",
    " - Item 2.2\n",
    "- Item 3\n",
    "\n",
    "Ordered lists are similar, but are prefixed by numbers and a period, for example `1.` for the first item. The Markdown numbers used to indicate list items do not have to start at one. As an example, the text generated from the following Markdown will be formatted to begin at two and proceed sequentially.\n",
    "\n",
    "```\n",
    "2. Item 1\n",
    "3. Item 2  \n",
    "4. Item 3\n",
    "```\n",
    "\n",
    "will produce the following list:\n",
    "\n",
    "2. Item 1\n",
    "3. Item 2  \n",
    "4. Item 3\n",
    "\n",
    "-----"
   ]
  },
  {
   "cell_type": "markdown",
   "metadata": {},
   "source": [
    "## Representing Code\n",
    "\n",
    "One of the most useful features of Markdown is the ability to include formatted code directly in the text. Code elements can be included in two manners: inline and block. Inline code elements are simply wrapped in single starting quote \\` characters (also called a backtick or more formally grave accent). For example, the Markdown \\`print(\"Hello World!\")\\` renders as `print(\"Hello World!\")`. Code blocks can also be placed on a single line with no quote characters by indenting the line four characters:\n",
    "\n",
    "\n",
    "    print(\"Hello World!\")\n",
    "\n",
    "\n",
    "For longer code blocks, you can enclose the block in three backtick/single quote characters \\`\\`\\`. For example, the following code block in Markdown:   \n",
    "\n",
    "\n",
    "\\`\\`\\`\n",
    "\n",
    "x = 3  \n",
    "y = 4  \n",
    "z = 5   \n",
    "  \n",
    "print(\"%b\" % (x\\*\\*2 + y\\*\\*2 = z\\*\\*2)   \n",
    "\\`\\`\\`\n",
    "\n",
    "\n",
    "will produce the following code block:  \n",
    "\n",
    "```\n",
    "x = 3  \n",
    "y = 4  \n",
    "z = 5   \n",
    "  \n",
    "print(\"%b\" % (x**2 + y**2 = z**2) \n",
    "```   \n",
    "\n",
    "You also can use what is known as Github flavored Markdown to indicate the target program language by adding the language name after the initial three single quote characters. For example, to indicate Python, you would use \\`\\`\\`python, while to indicate Javascript, you would use \\`\\`\\`javascript. For example, applying this to the previous example produces the syntax-highlighted version:\n",
    "\n",
    "```python  \n",
    "x = 3  \n",
    "y = 4  \n",
    "z = 5   \n",
    "  \n",
    "print(\"%b\" % (x**2 + y**2 = z**2) \n",
    "```\n",
    "\n",
    "-----"
   ]
  },
  {
   "cell_type": "markdown",
   "metadata": {},
   "source": [
    "## Quoting Text\n",
    "\n",
    "You also can write quoted text by prefixing the line with a greater-than `>` character. You can also write multi-line block quoted text by prefixing every line with a greater-than `>` character. For example, the following Markdown:  \n",
    "\n",
    "\n",
    "\\> Here is a long line of text  \n",
    "\\> that we wrapped over multiple lines by inserting a Markdown line break  \n",
    "\\> that is of course multiple space characters inserted at the end  \n",
    "\\> of a line.\n",
    "\n",
    "\n",
    "will produce the following formatted text:\n",
    "\n",
    "> Here is a long line of text  \n",
    "> that we wrapped over multiple lines by inserting a Markdown line break  \n",
    "> that is of course multiple space characters inserted at the end  \n",
    "> of a line.\n",
    "\n",
    "For more detailed discussion, look at the official [Markdown][1] documentation.\n",
    "\n",
    "-----\n",
    "\n",
    "[1]: http://daringfireball.net/projects/markdown/"
   ]
  },
  {
   "cell_type": "markdown",
   "metadata": {},
   "source": [
    "<font color='red' size = '5'> Student Exercise </font>\n",
    "\n",
    "In the empty **Markdown** cell below, write a Markdown formatted document that includes an unordered list, an ordered list, a quotation, and a simple `python` script (you can copy the previous Python script from this notebook).\n",
    "\n",
    "-----"
   ]
  },
  {
   "cell_type": "markdown",
   "metadata": {},
   "source": []
  },
  {
   "cell_type": "markdown",
   "metadata": {},
   "source": [
    "-----"
   ]
  },
  {
   "cell_type": "markdown",
   "metadata": {},
   "source": [
    "## Math Formulae\n",
    "\n",
    "We can include detailed math formulae in a markdown cell by using [LaTeX][1], a general purpose text formatting language that is commonly used in academia for scientific articles. LaTeX can be difficult to master but is fairly simple for writing simple math formulae. The LaTeX formulae are translated for display in a web browser by the [MathJax][2] Javascript display engine. \n",
    "\n",
    "To indicate a LaTeX formula, the simplest approach is to enclose the relevant LaTeX between dollar sign characters, `$ ... $` or to make the expression appear on its own line you enclose the expression between double dollar sign characters, `$$ ... $$`. Many specific functions or math symbols are prefixed with a backslash character, `\\`. For example, to write the LaTeX formula for lowercase Greek character theta, you would write `$\\theta$`. The [support for mathematical expressions][3] in LaTeX is quite extensive, and there are tools, such as [LaTeXit][4] or browser add-ons that can help build and test LaTeX expressions.\n",
    "\n",
    "For example, the LaTeX expression \n",
    "\n",
    "```\n",
    "$\\int_0^{\\pi} \\sin(\\theta)\\ d\\theta = 2$\n",
    "```\n",
    "\n",
    "is translated into \n",
    "\n",
    "$\\int_0^{\\pi} \\sin(\\theta)\\ d\\theta = 2$ \n",
    "\n",
    "in a Markdown cell by MathJaX.\n",
    "\n",
    "LaTeX can also be used in code blocks to provide cleaner or more descriptive plot labels (for example, theta versus $\\theta$).\n",
    "\n",
    "-----\n",
    "[1]: http://latex-project.org\n",
    "[2]: http://www.mathjax.org\n",
    "[3]: https://en.wikibooks.org/wiki/LaTeX/Mathematics\n",
    "[4]: http://pierre.chachatelier.fr/latexit/latexit-home.php?lang=en"
   ]
  },
  {
   "cell_type": "markdown",
   "metadata": {},
   "source": [
    "## Ancillary Information\n",
    "\n",
    "The following links are to additional documentation that you might find helpful in learning this material. Reading these web-accessible documents is completely optional.\n",
    "\n",
    "1. Github [Markdown][1] documentation.\n",
    "2. Github [Markdown Cheatsheet][mc].\n",
    "\n",
    "-----\n",
    "\n",
    "[1]: https://guides.github.com/features/mastering-markdown/\n",
    "[mc]: https://guides.github.com/pdfs/markdown-cheatsheet-online.pdf"
   ]
  },
  {
   "cell_type": "markdown",
   "metadata": {
    "deletable": false,
    "editable": false
   },
   "source": [
    "**&copy; 2021 - Present: Matthew D. Dean, Ph.D.   \n",
    "Clinical Associate Professor of Business Analytics at William \\& Mary.**"
   ]
  }
 ],
 "metadata": {
  "kernelspec": {
   "display_name": "Python 3",
   "language": "python",
   "name": "python3"
  },
  "language_info": {
   "codemirror_mode": {
    "name": "ipython",
    "version": 3
   },
   "file_extension": ".py",
   "mimetype": "text/x-python",
   "name": "python",
   "nbconvert_exporter": "python",
   "pygments_lexer": "ipython3",
   "version": "3.8.5"
  }
 },
 "nbformat": 4,
 "nbformat_minor": 1
}
