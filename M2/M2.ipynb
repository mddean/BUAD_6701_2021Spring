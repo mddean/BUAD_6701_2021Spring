{
 "cells": [
  {
   "cell_type": "markdown",
   "metadata": {},
   "source": [
    "# Module 2: Getting Started with Markdown and Python\n",
    "\n",
    "This module introduces Markdown and some very basic starting Python concepts.\n",
    "\n",
    "-----\n",
    "\n",
    "## Introduction to Markdown\n",
    "\n",
    "First, we introduce [Markdown][md], which is an annotated format for writing text that can be rendered easily in different manners. You will use Markdown throughout the course, as it is enables writing documents quickly by forcing the writer to concentrate on the content over presentation.\n",
    "\n",
    "### Objectives\n",
    "\n",
    "By the end of this section, you will be able to write Markdown to indicate:\n",
    "\n",
    "- header text,\n",
    "- inline styling,\n",
    "- lists,\n",
    "- code,\n",
    "- math formula, and\n",
    "- quoting text.\n",
    "\n",
    "### In Class Practice\n",
    "\n",
    "We will be using the [Introduction to Markdown][intro2md] notebook.\n",
    "\n",
    "### Additional Resources\n",
    "\n",
    "Reading: Read the some [Markdown documentation][mb] that provides a basic overview of how to write by using Markdown.\n",
    "\n",
    "Reading: Explore the [Markdown tutorial][mt], where you can interactively explore using Markdown to format text.\n",
    "\n",
    "Reading: Read the [Markdown cheat sheet][cs] that gives you a quick reference to the syntax.\n",
    "\n",
    "\n",
    "[md]: https://en.wikipedia.org/wiki/Markdown\n",
    "\n",
    "[intro2md]: intro2md.ipynb\n",
    "\n",
    "[mb]: https://www.markdownguide.org/\n",
    "\n",
    "[cs]: https://www.markdownguide.org/cheat-sheet/\n",
    "\n",
    "[mt]: https://www.markdowntutorial.com/\n",
    "\n",
    "-----"
   ]
  },
  {
   "cell_type": "markdown",
   "metadata": {},
   "source": [
    "## Introduction to Python\n",
    "\n",
    "Now, we introduce the Python programming language. The purpose of this course is not to teach you to become a proficient Python programmer, although that might happen, but to teach you how to write and execute Python scripts to perform useful basic data analytics tasks related to business and accounting in particular. Here, we will explore some of the most basic concepts of Python to help us quickly get up to speed.\n",
    "\n",
    "### Objectives\n",
    "\n",
    "By the end of this section, you will understand\n",
    "\n",
    "- that writing code is an important tool, that\n",
    "   - can distinguish job candidates,\n",
    "   - forces you to learn to think and act logically,\n",
    "   - develops creative approaches for problem-solving, and\n",
    "   - enables you to communicate effectively with technology experts,\n",
    "- the special Python keywords,\n",
    "- how to use the built-in Python help function,\n",
    "- how to write Python comments,\n",
    "- how to work with the built-in Python math operators,\n",
    "- the Python basic data types, and\n",
    "- how to create and use Python variables. \n",
    "\n",
    "### In Class Practice\n",
    "\n",
    "We will be using the [Introduction to Python][intro2py] notebook.\n",
    "\n",
    "### Additional Resources\n",
    "\n",
    "Reading: Why accounting students might want to [learn to code][code].\n",
    "\n",
    "[intro2py]: intro2py.ipynb\n",
    "\n",
    "[code]: https://www.aicpa.org/interestareas/accountingeducation/newsandpublications/should-accounting-students-code.html"
   ]
  },
  {
   "cell_type": "markdown",
   "metadata": {
    "deletable": false,
    "editable": false
   },
   "source": [
    "**&copy; 2021: Matthew D. Dean, Ph.D.   \n",
    "Clinical Associate Professor of Business Analytics at William \\& Mary.**"
   ]
  }
 ],
 "metadata": {
  "kernelspec": {
   "display_name": "Python 3",
   "language": "python",
   "name": "python3"
  },
  "language_info": {
   "codemirror_mode": {
    "name": "ipython",
    "version": 3
   },
   "file_extension": ".py",
   "mimetype": "text/x-python",
   "name": "python",
   "nbconvert_exporter": "python",
   "pygments_lexer": "ipython3",
   "version": "3.7.6"
  }
 },
 "nbformat": 4,
 "nbformat_minor": 4
}
