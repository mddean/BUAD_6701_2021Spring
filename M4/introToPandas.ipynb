{
 "cells": [
  {
   "cell_type": "markdown",
   "metadata": {},
   "source": [
    "## Introduction to pandas"
   ]
  },
  {
   "cell_type": "markdown",
   "metadata": {},
   "source": [
    "[This is what it's all about](https://www.youtube.com/watch?v=6UvbhER4RmM)"
   ]
  },
  {
   "cell_type": "markdown",
   "metadata": {},
   "source": [
    "One of the early criticisms of many in the data science arena of the Python language was the lack of useful data structures for performing data analysis tasks. This criticism stemmed in part from comparisons between the R language and Python since R has a built-in *DataFrame* object that greatly simplified many data analysis tasks. This deficiency was addressed in 2008 by Wes McKinney with the creation of [pandas][1] (the name was originally an abbreviation of panel data), and this module continues to be improved. To quote the pandas documentation:\n",
    "\n",
    ">Python has long been great for data munging and preparation, but less\n",
    ">so for data analysis and modeling. pandas helps fill this gap, enabling\n",
    ">you to carry out your entire data analysis workflow in Python without\n",
    ">having to switch to a more domain specific language like R.\n",
    "\n",
    "The pandas module introduces several new data structures like the `Series`, `DataFrame`, and `Panel` that build on top of existing tools like `NumPy` to speed up data analysis tasks. Note that the `NumPy` module provides support for numerical operations, including the generation of random data, which we will use in this notebook. The Pandas module also provides efficient mechanisms for moving data between in-memory representations and different data formats, including comma separated values (.csv) and text files, JSON files, SQL databases, HDF5 format files, and even Excel spreadsheets. Finally, the pandas module also provides support for dealing with missing or incomplete data and aggregating or grouping data.\n",
    "\n",
    "-----\n",
    "[1]: http://pandas.pydata.org"
   ]
  },
  {
   "cell_type": "markdown",
   "metadata": {},
   "source": [
    "### Importing pandas\n",
    "\n",
    "We import pandas using the `pd` alias."
   ]
  },
  {
   "cell_type": "code",
   "execution_count": null,
   "metadata": {},
   "outputs": [],
   "source": [
    "import pandas as pd"
   ]
  },
  {
   "cell_type": "markdown",
   "metadata": {},
   "source": [
    "### Data Types\n",
    "\n",
    "There are two main data types in pandas: `Series` and `DataFrame`. They have similar functionality. A `DataFrame` contains one or more `Series` objects. Each data column (which is a `Series`) in a `DataFrame` must contain only a single data type (e.g., int32, float64, object) Note that there is also the types `TimeSeries` and `Panel` in pandas, but the types we will most commonly use are `DataFrame` and `Series`.\n",
    "\n",
    "### `Series`\n",
    "\n",
    "A `Series` is useful to hold data that can be accessed by using a specific label. Let's create a few different `Series` objects."
   ]
  },
  {
   "cell_type": "code",
   "execution_count": null,
   "metadata": {},
   "outputs": [],
   "source": [
    "# Create a Series by passing it a list\n",
    "s1 = pd.Series([\"a\", \"b\", \"c\", \"d\"])\n",
    "print(s1)"
   ]
  },
  {
   "cell_type": "markdown",
   "metadata": {},
   "source": [
    "Notice that 2 columns were printed out. The first column is the *index* and the second column is the data from the `list` that we passed in upon creation. The index was generated automatically for us when we created the `s1`. You can specify the index either at creation time or after `Series` has been created. We can get both the index and the values from a series with appropriate methods."
   ]
  },
  {
   "cell_type": "code",
   "execution_count": null,
   "metadata": {},
   "outputs": [],
   "source": [
    "# What type is s1?\n",
    "print(type(s1))"
   ]
  },
  {
   "cell_type": "code",
   "execution_count": null,
   "metadata": {},
   "outputs": [],
   "source": [
    "# Get the values from s1\n",
    "s1.values"
   ]
  },
  {
   "cell_type": "code",
   "execution_count": null,
   "metadata": {},
   "outputs": [],
   "source": [
    "# What type is returned when calling values?\n",
    "print(type(s1.values))"
   ]
  },
  {
   "cell_type": "code",
   "execution_count": null,
   "metadata": {},
   "outputs": [],
   "source": [
    "# Get the index of s1\n",
    "s1.index"
   ]
  },
  {
   "cell_type": "markdown",
   "metadata": {},
   "source": [
    "Because we did not give it an index at creation, it created and used a `RangeIndex`."
   ]
  },
  {
   "cell_type": "code",
   "execution_count": null,
   "metadata": {},
   "outputs": [],
   "source": [
    "# How big is the index?\n",
    "print(f\"s1.size = {s1.size}\")\n",
    "\n",
    "# what is the type of the index\n",
    "print(type(s1.index))"
   ]
  },
  {
   "cell_type": "code",
   "execution_count": null,
   "metadata": {},
   "outputs": [],
   "source": [
    "# Change the index\n",
    "s1.index = [\"one\", \"two\", \"three\", \"four\"]\n",
    "s1"
   ]
  },
  {
   "cell_type": "markdown",
   "metadata": {},
   "source": [
    "You can name the series if you want."
   ]
  },
  {
   "cell_type": "code",
   "execution_count": null,
   "metadata": {},
   "outputs": [],
   "source": [
    "# Name s1 series\n",
    "s1.name = \"Silly Series\""
   ]
  },
  {
   "cell_type": "code",
   "execution_count": null,
   "metadata": {},
   "outputs": [],
   "source": [
    "print(s1.name)"
   ]
  },
  {
   "cell_type": "code",
   "execution_count": null,
   "metadata": {},
   "outputs": [],
   "source": [
    "# Now when we print out the series, we should see its name also\n",
    "s1"
   ]
  },
  {
   "cell_type": "markdown",
   "metadata": {},
   "source": [
    "-----\n",
    "\n",
    "### Operations with `Series`\n",
    "\n",
    "Let's create a larger `Series` try a few different basic operations"
   ]
  },
  {
   "cell_type": "code",
   "execution_count": null,
   "metadata": {},
   "outputs": [],
   "source": [
    "# Create ice cream flavors list\n",
    "iceCream = [\"chocolate\", \"strawberry\", \"vanilla\", \"rum raisin\", \"chocolate\", \"vanilla\", \n",
    "           \"vanilla\", \"strawberry\", \"rum raisin\", \"chocolate\", \"strawberry\", \"cotton candy\", \n",
    "           \"chocolate\", \"vanilla\", \"rum raisin\", \"vanilla\", \"vanilla\", \"strawberry\", \n",
    "           \"chocolate\", \"vanilla\", \"chocolate\", \"vanilla\", \"strawberry\", \"vanilla\", \n",
    "           \"chocolate\", \"chocolate\", \"purple cow\", \"chocolate\", \"rum raisin\", \"vanilla\", \n",
    "           \"chocolate\", \"bubble gum\", \"vanilla\"]"
   ]
  },
  {
   "cell_type": "code",
   "execution_count": null,
   "metadata": {
    "scrolled": true
   },
   "outputs": [],
   "source": [
    "# Create a new series\n",
    "flavors = pd.Series(iceCream)\n",
    "flavors"
   ]
  },
  {
   "cell_type": "code",
   "execution_count": null,
   "metadata": {},
   "outputs": [],
   "source": [
    "# Look at just the top using .head()\n",
    "flavors.head()"
   ]
  },
  {
   "cell_type": "code",
   "execution_count": null,
   "metadata": {},
   "outputs": [],
   "source": [
    "# By default head gives top 5\n",
    "# You can specify n - the number to show\n",
    "flavors.head(3)"
   ]
  },
  {
   "cell_type": "code",
   "execution_count": null,
   "metadata": {},
   "outputs": [],
   "source": [
    "# You can also see the bottom using .tail()\n",
    "flavors.tail(3)"
   ]
  },
  {
   "cell_type": "code",
   "execution_count": null,
   "metadata": {},
   "outputs": [],
   "source": [
    "# Sometimes we want to \"sample\" from the series \n",
    "flavors.sample(5)"
   ]
  },
  {
   "cell_type": "markdown",
   "metadata": {},
   "source": [
    "#### Counting Categorical Series\n",
    "\n",
    "Suppose our ice cream flavors were the results of a survey we gave to your fellow students. It would be nice to know which flavors were the most popular, least popular, etc. You could sum up the responses for each flavor using a `for` loop. Fortunately, pandas provides a much easier way to arrive at our summary by using the `value_counts()` method. Let's try it."
   ]
  },
  {
   "cell_type": "code",
   "execution_count": null,
   "metadata": {},
   "outputs": [],
   "source": [
    "# Find out the popularity of each flavor\n",
    "flavors.value_counts()"
   ]
  },
  {
   "cell_type": "code",
   "execution_count": null,
   "metadata": {},
   "outputs": [],
   "source": [
    "# What type does value_counts() return?\n",
    "print(type(flavors.value_counts()))"
   ]
  },
  {
   "cell_type": "markdown",
   "metadata": {},
   "source": [
    "Because the returned object is a `Series`, you can use `.index` and `.values` like on any other `Series` object. \n",
    "\n",
    "There is also a way to easily find only the unique values for a categorical `Series` like we have: use the `unique()` method."
   ]
  },
  {
   "cell_type": "code",
   "execution_count": null,
   "metadata": {},
   "outputs": [],
   "source": [
    "# Find only the unique flavors\n",
    "flavors.unique()"
   ]
  },
  {
   "cell_type": "markdown",
   "metadata": {},
   "source": [
    "-----\n",
    "\n",
    "### Creating Random Data\n",
    "\n",
    "I want to create some random numerical data to see how a `Series` is different from one with categorical data as we had above. We'll use the `numpy` package to generate the random numbers. "
   ]
  },
  {
   "cell_type": "code",
   "execution_count": null,
   "metadata": {},
   "outputs": [],
   "source": [
    "import numpy as np"
   ]
  },
  {
   "cell_type": "code",
   "execution_count": null,
   "metadata": {
    "scrolled": true
   },
   "outputs": [],
   "source": [
    "# Set the seed so that I can replicate the random numbers\n",
    "np.random.seed(42)\n",
    "\n",
    "# List comprehension to generate random floating point numbers with one digit\n",
    "temps = [float(f\"{np.random.randint(45, 67) + np.random.random():.1f}\") for i in range(50)]\n",
    "temps"
   ]
  },
  {
   "cell_type": "code",
   "execution_count": null,
   "metadata": {
    "scrolled": true
   },
   "outputs": [],
   "source": [
    "# Create a series from float list temps\n",
    "tempF = pd.Series(temps)\n",
    "tempF"
   ]
  },
  {
   "cell_type": "markdown",
   "metadata": {},
   "source": [
    "-----\n",
    "\n",
    "### Accessing `Series` Data\n",
    "\n",
    "Data rows can be accessed either by the \"label\" in the index column or by their position in the data column. The `.loc` command finds data rows based on their label. The `.iloc` command finds data rows based on its position; that is, the sequence in which the rows are found in the `Series`. When we created our `tempF` `Series`, we did not specify an index. Therefore, it will have a `RangeIndex` starting at 0 and increments by 1 for each subsequent row. When we create a `Series` this way, the commands `.loc` and `.iloc` will work identically for our `tempF` object."
   ]
  },
  {
   "cell_type": "code",
   "execution_count": null,
   "metadata": {},
   "outputs": [],
   "source": [
    "# Get the element using the label (index) of 0\n",
    "tempF.loc[0]"
   ]
  },
  {
   "cell_type": "code",
   "execution_count": null,
   "metadata": {},
   "outputs": [],
   "source": [
    "# Get the element using the position of 0\n",
    "tempF.iloc[0]"
   ]
  },
  {
   "cell_type": "markdown",
   "metadata": {},
   "source": [
    "But now let's change the indices to something else."
   ]
  },
  {
   "cell_type": "code",
   "execution_count": null,
   "metadata": {},
   "outputs": [],
   "source": [
    "# Change index to start at 50\n",
    "tempF.index = range(50, 100, 1)\n",
    "tempF.index"
   ]
  },
  {
   "cell_type": "markdown",
   "metadata": {},
   "source": [
    "The statement below will result in an error since our index labels have changed."
   ]
  },
  {
   "cell_type": "code",
   "execution_count": null,
   "metadata": {
    "scrolled": false
   },
   "outputs": [],
   "source": [
    "tempF.loc[0]"
   ]
  },
  {
   "cell_type": "markdown",
   "metadata": {},
   "source": [
    "To get the first element of the `Series`, we need to use the newly labeled index of 50.\n",
    "\n",
    "Using `.iloc[0]`, on the other hand, will still give us the first data row in the `Series`."
   ]
  },
  {
   "cell_type": "code",
   "execution_count": null,
   "metadata": {},
   "outputs": [],
   "source": [
    "tempF.loc[50]"
   ]
  },
  {
   "cell_type": "code",
   "execution_count": null,
   "metadata": {},
   "outputs": [],
   "source": [
    "tempF.iloc[0]"
   ]
  },
  {
   "cell_type": "markdown",
   "metadata": {},
   "source": [
    "-----\n",
    "\n",
    "### Series Methods for Numerical Data\n",
    "\n",
    "When we have a numerical data type in a `Series`, we will often want some summary statistics to get an idea of the data we are dealing with. Let's try a few of the methods we have available to us."
   ]
  },
  {
   "cell_type": "code",
   "execution_count": null,
   "metadata": {},
   "outputs": [],
   "source": [
    "# We add up the values with sum()\n",
    "print(f\"tempF.sum():     {tempF.sum()}\")\n",
    "\n",
    "# We can find the average with mean()\n",
    "print(f\"tempF.mean():    {tempF.mean()}\")\n",
    "\n",
    "# We can find the median with median()\n",
    "print(f\"tempF.median():  {tempF.median()}\")\n",
    "\n",
    "# We can find the product with product()\n",
    "print(f\"tempF.product(): {tempF.product()}\")"
   ]
  },
  {
   "cell_type": "markdown",
   "metadata": {},
   "source": [
    "Those options are all nice, but there is a function that we can use on a numerical `Series` that provides some of the most common summary statistics: `describe()`."
   ]
  },
  {
   "cell_type": "code",
   "execution_count": null,
   "metadata": {},
   "outputs": [],
   "source": [
    "# Get the summary statistics\n",
    "tempF.describe()"
   ]
  },
  {
   "cell_type": "markdown",
   "metadata": {},
   "source": [
    "#### Sorting\n",
    "\n",
    "We will also want to sort a `Series` based on the numerical values. As expected, you can sort either ascending or descending."
   ]
  },
  {
   "cell_type": "code",
   "execution_count": null,
   "metadata": {},
   "outputs": [],
   "source": [
    "# First look at the head()\n",
    "tempF.head()"
   ]
  },
  {
   "cell_type": "code",
   "execution_count": null,
   "metadata": {},
   "outputs": [],
   "source": [
    "# Try sorting to see what happens\n",
    "tempF.sort_values()\n",
    "tempF.head()"
   ]
  },
  {
   "cell_type": "markdown",
   "metadata": {},
   "source": [
    "Well that did not work the way we had hoped. What happened? The `sort_values()` returns a new `Series` object. We can store the result in a new variable and see if that reacts the way we had hoped."
   ]
  },
  {
   "cell_type": "code",
   "execution_count": null,
   "metadata": {
    "scrolled": true
   },
   "outputs": [],
   "source": [
    "sortedTemps = tempF.sort_values()\n",
    "sortedTemps.head()"
   ]
  },
  {
   "cell_type": "markdown",
   "metadata": {},
   "source": [
    "What if we want to keep it in the same variable? We can sort \"inplace\"."
   ]
  },
  {
   "cell_type": "code",
   "execution_count": null,
   "metadata": {},
   "outputs": [],
   "source": [
    "# See original\n",
    "tempF.head()"
   ]
  },
  {
   "cell_type": "code",
   "execution_count": null,
   "metadata": {},
   "outputs": [],
   "source": [
    "# Sort in place\n",
    "tempF.sort_values(inplace=True)\n",
    "tempF.head()"
   ]
  },
  {
   "cell_type": "markdown",
   "metadata": {},
   "source": [
    "Now, if we want to sort in descending, we have to add the argument `ascending=False`."
   ]
  },
  {
   "cell_type": "code",
   "execution_count": null,
   "metadata": {},
   "outputs": [],
   "source": [
    "tempF.sort_values(inplace=True, ascending=False)\n",
    "tempF.head()"
   ]
  },
  {
   "cell_type": "markdown",
   "metadata": {},
   "source": [
    "What if you want to get back to the original sort order? Well, if you created the `Series` object with a `RangeIndex`, you can use that to get back to the original order by calling `sort_index()`."
   ]
  },
  {
   "cell_type": "code",
   "execution_count": null,
   "metadata": {},
   "outputs": [],
   "source": [
    "# Re-sort using the index\n",
    "tempF.sort_index(inplace=True)\n",
    "tempF.head()"
   ]
  },
  {
   "cell_type": "markdown",
   "metadata": {},
   "source": [
    "----\n",
    "\n",
    "### Appending One Series to Another\n",
    "\n",
    "We can use the `.append()` method to add a new `Series` to an existing one. As we saw with sorting, the combined `Series` object is not permananent unless you resave it or save it in a new variable."
   ]
  },
  {
   "cell_type": "code",
   "execution_count": null,
   "metadata": {},
   "outputs": [],
   "source": [
    "# Look at original size and index\n",
    "print(f\"tempF.size:  {tempF.size}\")\n",
    "print(f\"tempF.index: {tempF.index}\")\n",
    "\n",
    "# Create a new single element Series\n",
    "tempSeries = pd.Series([0.0])\n",
    "\n",
    "# append it to tempF and see if \"stuck\"\n",
    "tempF.append(tempSeries)\n",
    "\n",
    "print(\"AFTER APPENDING:\")\n",
    "print(f\"tempF.size:  {tempF.size}\")\n",
    "print(f\"tempF.index: {tempF.index}\")"
   ]
  },
  {
   "cell_type": "markdown",
   "metadata": {},
   "source": [
    "This confirms that it did not save it back to the original `Series` object. Let's try again."
   ]
  },
  {
   "cell_type": "code",
   "execution_count": null,
   "metadata": {},
   "outputs": [],
   "source": [
    "# append it to tempF and save it back to tempF\n",
    "tempF = tempF.append(tempSeries)\n",
    "\n",
    "print(\"AFTER APPENDING:\")\n",
    "print(f\"tempF.size:  {tempF.size}\")\n",
    "print(f\"tempF.index: {tempF.index}\")"
   ]
  },
  {
   "cell_type": "markdown",
   "metadata": {},
   "source": [
    "Now, we have our combined `Series`. Notice that the index it gave the new element was `0`. If we want to get rid of that new value, then we can use the `.drop()` method. The `.drop()` method deletes a row in a `Series` based on the row label (i.e., index). Let's try it."
   ]
  },
  {
   "cell_type": "code",
   "execution_count": null,
   "metadata": {},
   "outputs": [],
   "source": [
    "tempF.drop(labels=0, inplace=True)\n",
    "print(\"AFTER DROPPING:\")\n",
    "print(f\"tempF.size:  {tempF.size}\")\n",
    "print(f\"tempF.index: {tempF.index}\")"
   ]
  },
  {
   "cell_type": "markdown",
   "metadata": {},
   "source": [
    "----\n",
    "\n",
    "### Plotting a Series\n",
    "\n",
    "Pictures (visualizations) are valuable to help understand your data. The `pandas` package provides very helpful methods to easily plot our data. Let's try it."
   ]
  },
  {
   "cell_type": "code",
   "execution_count": null,
   "metadata": {},
   "outputs": [],
   "source": [
    "# Plot the flavors of ice cream and how many votes each received\n",
    "# We want to use a BAR chart. Each flavor will be its own bar.\n",
    "flavors.value_counts().plot(kind=\"bar\")"
   ]
  },
  {
   "cell_type": "markdown",
   "metadata": {},
   "source": [
    "That was super easy. What if want to plot our `tempF` `Series`? We have numerical instead of categorical data. Let's try just calling `.plot()` and see what happens. What is your guess of the type of chart it will create?"
   ]
  },
  {
   "cell_type": "code",
   "execution_count": null,
   "metadata": {},
   "outputs": [],
   "source": [
    "# Plot using default kind for numerical data.\n",
    "tempF.plot()"
   ]
  },
  {
   "cell_type": "markdown",
   "metadata": {},
   "source": [
    "So, we got a line chart. This would be appropriate **ONLY** if the $x$-axis was *time*. If we were interested in looking at the *distribution* or *shape* of the values, we would use a histogram or boxplot."
   ]
  },
  {
   "cell_type": "code",
   "execution_count": null,
   "metadata": {},
   "outputs": [],
   "source": [
    "# Try creating a histogram\n",
    "tempF.plot(kind=\"hist\")"
   ]
  },
  {
   "cell_type": "markdown",
   "metadata": {},
   "source": [
    "By default it made 10 \"bins\" or \"buckets\". You can change the number of bins."
   ]
  },
  {
   "cell_type": "code",
   "execution_count": null,
   "metadata": {},
   "outputs": [],
   "source": [
    "# Use 5 bins\n",
    "tempF.plot(kind=\"hist\", bins=5)"
   ]
  },
  {
   "cell_type": "code",
   "execution_count": null,
   "metadata": {},
   "outputs": [],
   "source": [
    "# Let's try a boxplot\n",
    "tempF.plot(kind=\"box\")"
   ]
  },
  {
   "cell_type": "markdown",
   "metadata": {},
   "source": [
    "----\n",
    "\n",
    "<font color='red' size = '5'> Student Exercise </font>\n",
    "\n",
    "In the **Code** cell below, you have been given a `list` of the US presidents heights in centimeters. Create a `Series` object named `prezSeries` from the given list.\n",
    "\n",
    "1. Print out the type of `prezSeries` to verify that you created the `Series` object correctly.\n",
    "2. Print out the summary statistics for the `Series`.\n",
    "3. Create a histogram of the heights.\n",
    "4. Create a boxplot of the heights.\n",
    "\n",
    "\n",
    "-----"
   ]
  },
  {
   "cell_type": "code",
   "execution_count": null,
   "metadata": {},
   "outputs": [],
   "source": [
    "# list of data to convert to a Series\n",
    "prezHeights = [193, 192, 191, 189, 188, 188, 188, 188, 188, 187, \n",
    "               185, 185, 185, 183, 183, 183, 183, 183, 183, 182, \n",
    "               182, 182, 182, 182, 180, 180, 179, 178, 178, 178, \n",
    "               178, 177, 175, 175, 174, 173, 173, 173, 173, 171, \n",
    "               170, 170, 168, 168, 163]\n",
    "\n",
    "### YOUR CODE HERE\n",
    "# 1. Create Series object and print out its type\n",
    "\n",
    "\n",
    "# 2. Print out summary statistics\n",
    "\n",
    "\n",
    "# 3. and 4. Histogram and Box Plot\n",
    "# Leave these lines of code\n",
    "import matplotlib.pyplot as plt\n",
    "# set up multiple subplots in same figure\n",
    "fig, axes = plt.subplots(nrows=2)\n",
    "\n",
    "# In your plot command you need to tell it where to place each chart\n",
    "# Do this with ax=axes[0] will put the chart in the first row\n",
    "# and ax=axes[1] will put the chart in the second row\n"
   ]
  },
  {
   "cell_type": "markdown",
   "metadata": {},
   "source": [
    "-----\n",
    "\n",
    "## Using `DataFrame`s\n",
    "\n",
    "A `DataFrame` is simply a two-dimensional object show columns have the type `Series`. Thus, all of the `Series` properties and methods we did earlier can be applied to `DataFrame` columns.\n",
    "\n",
    "### Reading Files with `pandas`\n",
    "\n",
    "Commonly the data we are interested in resides in external files. While there are \"base\" ways to read data from files with \"built-in\" Python functions, `pandas` provides an efficient and easy alternative to read the data from files into a `DataFrame`. If your file is in a text file, such as a .csv file, you can use the `.read_csv()` method. The nice thing about .csv files is that they are text and can easily be transferred and read on any operating system. If instead, your data is stored in Microsoft Excel files, there are `pandas` methods to read data from that format too. Let's start with .csv files."
   ]
  },
  {
   "cell_type": "code",
   "execution_count": null,
   "metadata": {},
   "outputs": [],
   "source": [
    "# Read the data from the \"iris.csv\" file into a variable called df\n",
    "df = pd.read_csv(\"iris.csv\")\n",
    "print(f\"Type of df variable: {type(df)}\")\n",
    "df.head()"
   ]
  },
  {
   "cell_type": "code",
   "execution_count": null,
   "metadata": {},
   "outputs": [],
   "source": [
    "# We can look at the data types for the columns\n",
    "df.dtypes"
   ]
  },
  {
   "cell_type": "markdown",
   "metadata": {},
   "source": [
    "### Accessing Elements of a `DataFrame`\n",
    "\n",
    "To get the entire column, we use `df[\"ColumnName\"]`. "
   ]
  },
  {
   "cell_type": "code",
   "execution_count": null,
   "metadata": {},
   "outputs": [],
   "source": [
    "# Pull out the \"Species\" column\n",
    "df[\"Species\"]"
   ]
  },
  {
   "cell_type": "code",
   "execution_count": null,
   "metadata": {},
   "outputs": [],
   "source": [
    "# What is the type of the column? You should already know this\n",
    "type(df[\"Species\"])"
   ]
  },
  {
   "cell_type": "code",
   "execution_count": null,
   "metadata": {},
   "outputs": [],
   "source": [
    "# If you want a specific row of a DataFrame, you can use .loc or .iloc\n",
    "# Get first row\n",
    "df.loc[0]"
   ]
  },
  {
   "cell_type": "code",
   "execution_count": null,
   "metadata": {},
   "outputs": [],
   "source": [
    "# Now with iloc\n",
    "df.iloc[0]"
   ]
  },
  {
   "cell_type": "markdown",
   "metadata": {},
   "source": [
    "### Methods and Properties of a `DataFrame`\n",
    "\n",
    "Many of the ones we've seen with `Series` objects apply to a `DataFrame`. Let's look at a few of them."
   ]
  },
  {
   "cell_type": "code",
   "execution_count": null,
   "metadata": {},
   "outputs": [],
   "source": [
    "# New one - shape: returns a tuple (rows, columns)\n",
    "df.shape"
   ]
  },
  {
   "cell_type": "code",
   "execution_count": null,
   "metadata": {},
   "outputs": [],
   "source": [
    "# Already saw data types\n",
    "df.dtypes"
   ]
  },
  {
   "cell_type": "code",
   "execution_count": null,
   "metadata": {},
   "outputs": [],
   "source": [
    "# Can get the index\n",
    "df.index"
   ]
  },
  {
   "cell_type": "code",
   "execution_count": null,
   "metadata": {},
   "outputs": [],
   "source": [
    "# Can get the values\n",
    "df.values"
   ]
  },
  {
   "cell_type": "code",
   "execution_count": null,
   "metadata": {},
   "outputs": [],
   "source": [
    "# The values are of type numpy.ndarray\n",
    "type(df.values)"
   ]
  },
  {
   "cell_type": "code",
   "execution_count": null,
   "metadata": {},
   "outputs": [],
   "source": [
    "# If you want to convert it to a list\n",
    "print(f\"Type of df.values.tolist(): {type(df.values.tolist())}\")\n",
    "df.values.tolist()"
   ]
  },
  {
   "cell_type": "code",
   "execution_count": null,
   "metadata": {},
   "outputs": [],
   "source": [
    "# Can get the columns\n",
    "df.columns"
   ]
  },
  {
   "cell_type": "code",
   "execution_count": null,
   "metadata": {},
   "outputs": [],
   "source": [
    "# if you only want to make the column names a list\n",
    "df.columns.values.tolist()"
   ]
  },
  {
   "cell_type": "code",
   "execution_count": null,
   "metadata": {},
   "outputs": [],
   "source": [
    "# Our very powerful friend describe() is REALLY useful for DataFrames\n",
    "df.describe()"
   ]
  },
  {
   "cell_type": "markdown",
   "metadata": {},
   "source": [
    "### Sorting a `DataFrame`"
   ]
  },
  {
   "cell_type": "code",
   "execution_count": null,
   "metadata": {},
   "outputs": [],
   "source": [
    "# Let's sort by SepalWidthCm\n",
    "df.sort_values(by=\"SepalWidthCm\", inplace=True)\n",
    "df"
   ]
  },
  {
   "cell_type": "code",
   "execution_count": null,
   "metadata": {},
   "outputs": [],
   "source": [
    "# Remember we can get back to the original order using the index (assuming we didn't change it)\n",
    "df.sort_index(inplace=True)\n",
    "df"
   ]
  },
  {
   "cell_type": "code",
   "execution_count": null,
   "metadata": {},
   "outputs": [],
   "source": [
    "# What if you want to sort by multiple columns\n",
    "# That's easy\n",
    "df.sort_values(by=[\"SepalLengthCm\", \"SepalWidthCm\"], inplace=True)\n",
    "df"
   ]
  },
  {
   "cell_type": "markdown",
   "metadata": {},
   "source": [
    "### Creating New Columns in a `DataFrame`\n",
    "\n",
    "There are many times that you will want to create a new column within an existing `DataFrame`, often based on the current columns. In machine learning parlance, this is often referred to as \"feature engineering\". To keep things very, very simple here we will simply convert one of the columns from centimeters to inches. Hopefully it is obvious that this would not really help us if we were trying to improve some of our machine learning models since it is a simple conversion rather than exploring a relationship among different variables. \n",
    "\n",
    "Let's convert the `PetalLengthCm` column to inches and name it `PetalLengthIn`. \n",
    "\n",
    "The statement below is, at first glance, perhaps confusing. It seems we are dividing a `DataFrame` column, which is a `Series` by a constant. Will this work because it appears we have mixed types of a `Series` and a `float`? Indeed it will work. The division is interpreted element-wise, so each element of the `Series` is divided by our conversion constant of 2.54."
   ]
  },
  {
   "cell_type": "code",
   "execution_count": null,
   "metadata": {},
   "outputs": [],
   "source": [
    "# conversion constant\n",
    "cmPerInch = 2.54\n",
    "df[\"PetalLengthIn\"] = df[\"PetalLengthCm\"] / cmPerInch\n",
    "df"
   ]
  },
  {
   "cell_type": "markdown",
   "metadata": {},
   "source": [
    "### Grouping\n",
    "\n",
    "As expert users of Excel, you understand PivotTables and really want to use them in Python. We'll look at this in more detail later, but here is a small taste of creating one. We are interested in looking at the average values for each numerical column for each species. That is, we want to \"group by\" species and see the average for all the columns."
   ]
  },
  {
   "cell_type": "code",
   "execution_count": null,
   "metadata": {},
   "outputs": [],
   "source": [
    "# Create a pivot table\n",
    "df.groupby(\"Species\").mean()"
   ]
  },
  {
   "cell_type": "markdown",
   "metadata": {},
   "source": [
    "Wow! Super easy! Let's try using this information to help us \"predict\" the species of any observations we might encounter. We'll define a function that looks at our newly created column `PetalLengthIn` and return one of the three species. We will then want to use that user-defined function to create a new column in our `DataFrame`."
   ]
  },
  {
   "cell_type": "code",
   "execution_count": null,
   "metadata": {},
   "outputs": [],
   "source": [
    "# Define a predict function\n",
    "def predict(row):\n",
    "    if row[\"PetalLengthIn\"] <= 1.0:\n",
    "        return \"Iris-setosa\"\n",
    "    elif row[\"PetalLengthIn\"] <= 1.9:\n",
    "        return \"Iris-versicolor\"\n",
    "    else:\n",
    "        return \"Iris-virginica\""
   ]
  },
  {
   "cell_type": "markdown",
   "metadata": {},
   "source": [
    "Now, we will use the `.apply` method of the `DataFrame`. This function causes these actions:\n",
    "\n",
    "- Each row of the `DataFrame` is passed, one-by-one, to the function whose name is given as the first argument. In this case the function name is our user-defined `predict`.\n",
    "- The return value from the `predict` function for each row is appended to the new column `Predict` in the same row that gave rise to the return value.\n",
    "- The `axis` argument determines whether the `DataFrame` data is sent to `predict` by rows or by columns.\n",
    "\n",
    "This last point is very confusing for beginners. Specifying `axis = \"columns\"` means that one \"set\" of column values are sent to the function in each pass. That means, by the way I think, that the data are sent row by row. Specifying `axis = \"rows\"` implies the converse: the total contents of each column, including the index column, are sent one-by-one to the function."
   ]
  },
  {
   "cell_type": "code",
   "execution_count": null,
   "metadata": {},
   "outputs": [],
   "source": [
    "df[\"Predict\"] = df.apply(predict, axis=\"columns\")\n",
    "df"
   ]
  },
  {
   "cell_type": "markdown",
   "metadata": {},
   "source": [
    "How good were our predictions? We can compare the `Species` column with the `Predict` column and add up the ones that were the same. "
   ]
  },
  {
   "cell_type": "code",
   "execution_count": null,
   "metadata": {},
   "outputs": [],
   "source": [
    "# How many correct did we have\n",
    "(df[\"Species\"] == df[\"Predict\"]).sum()"
   ]
  },
  {
   "cell_type": "code",
   "execution_count": null,
   "metadata": {},
   "outputs": [],
   "source": [
    "# What percentage is that?\n",
    "(df[\"Species\"] == df[\"Predict\"]).sum() / len(df)"
   ]
  },
  {
   "cell_type": "markdown",
   "metadata": {},
   "source": [
    "----\n",
    "\n",
    "<font color='red' size = '5'> Student Exercise </font>\n",
    "\n",
    "You have been given an Excel file with the list of US presidents and their heights. In the **Code** cell below, read the data from Excel file into a `DataFrame` called `presidents`.\n",
    "\n",
    "1. Print out the type of `presidents` to verify that you created the `DataFrame` object correctly.\n",
    "2. Sample `presidents` to see what the data looks like.\n",
    "3. Print out the summary statistics for `presidents`.\n",
    "4. Create a new column that converts `HeightCm` into inches.\n",
    "5. Create a histogram of your new column. How does it compare to the one you created in the previous exercise?\n",
    "\n",
    "\n",
    "-----"
   ]
  },
  {
   "cell_type": "code",
   "execution_count": null,
   "metadata": {},
   "outputs": [],
   "source": [
    "### YOUR CODE HERE\n"
   ]
  },
  {
   "cell_type": "markdown",
   "metadata": {
    "deletable": false,
    "editable": false
   },
   "source": [
    "**&copy; 2021 - Present: Matthew D. Dean, Ph.D.   \n",
    "Clinical Associate Professor of Business Analytics at William \\& Mary.**"
   ]
  }
 ],
 "metadata": {
  "kernelspec": {
   "display_name": "Python 3",
   "language": "python",
   "name": "python3"
  },
  "language_info": {
   "codemirror_mode": {
    "name": "ipython",
    "version": 3
   },
   "file_extension": ".py",
   "mimetype": "text/x-python",
   "name": "python",
   "nbconvert_exporter": "python",
   "pygments_lexer": "ipython3",
   "version": "3.8.5"
  }
 },
 "nbformat": 4,
 "nbformat_minor": 4
}
