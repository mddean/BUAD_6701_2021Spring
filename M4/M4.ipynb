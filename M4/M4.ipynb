{
 "cells": [
  {
   "cell_type": "markdown",
   "metadata": {},
   "source": [
    "# Module 4: Introduction to `pandas`\n",
    "\n",
    "In this module, we'll be introduced to one of the most powerful and useful packages/modules available - `pandas`. It is the de facto standard for data manipulation in Python\n",
    "\n",
    "## Learning Objectives\n",
    "\n",
    "#### By the end of this module, you should be able to:\n",
    "\n",
    "- create `Series` objects\n",
    "- create `DataFrame` objects\n",
    "- use various operations on `Series` and `DataFrame` objects to accomplish handy tasks\n",
    "- create basic plots using `pandas`\n",
    "\n",
    "\n",
    "### Activities\n",
    "\n",
    "| Activities                | \n",
    "| :--------------------------------------- | \n",
    "| **[Module 4: Introduction to Pandas][nb1]** |\n",
    "| **[Module 4: More Pandas][nb2]** |\n",
    "\n",
    "\n",
    "\n",
    "[nb1]: introToPandas.ipynb\n",
    "[nb2]: morePandas.ipynb"
   ]
  },
  {
   "cell_type": "markdown",
   "metadata": {},
   "source": [
    "## Ancillary Information\n",
    "\n",
    "\n",
    "1. The official API reference for [`pandas.Series`][1].\n",
    "2. The official API reference for [`pandas.DataFrame`][2].\n",
    "3. The [user guide][3] for `pandas`.\n",
    "\n",
    "-----\n",
    "\n",
    "[1]: https://pandas.pydata.org/pandas-docs/stable/reference/api/pandas.Series.html\n",
    "[2]: https://pandas.pydata.org/pandas-docs/stable/reference/api/pandas.DataFrame.html\n",
    "[3]: https://pandas.pydata.org/pandas-docs/stable/user_guide/index.html"
   ]
  },
  {
   "cell_type": "markdown",
   "metadata": {
    "deletable": false,
    "editable": false
   },
   "source": [
    "-----\n",
    "\n",
    "**&copy; 2021: Matthew D. Dean, Ph.D.   \n",
    "Clinical Associate Professor of Business Analytics at William \\& Mary.**"
   ]
  }
 ],
 "metadata": {
  "kernelspec": {
   "display_name": "Python 3",
   "language": "python",
   "name": "python3"
  },
  "language_info": {
   "codemirror_mode": {
    "name": "ipython",
    "version": 3
   },
   "file_extension": ".py",
   "mimetype": "text/x-python",
   "name": "python",
   "nbconvert_exporter": "python",
   "pygments_lexer": "ipython3",
   "version": "3.7.6"
  }
 },
 "nbformat": 4,
 "nbformat_minor": 2
}
