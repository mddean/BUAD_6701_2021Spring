{
 "cells": [
  {
   "cell_type": "markdown",
   "metadata": {},
   "source": [
    "# Module 3: Additional Python Concepts and Introduction to `pandas`\n",
    "\n",
    "This module introduces a few more somewhat advanced features in the Python programming language that we encounter frequently. First, we turn our attention to **comprehension** statements for both a `list` and a `dict`. Comprehension statements are simply ways to rewrite a `for` loop with a single line of code. Then, we will learn about **lambda** functions. These are unnamed functions that are often used a single time in your code. We'll then be introduced to one of the most powerful and useful packages/modules available - `pandas`. \n",
    "\n",
    "## Learning Objectives\n",
    "\n",
    "#### By the end of this module, you should be able to:\n",
    "\n",
    "- understand how to turn a `for` loop into a comprehension statement\n",
    "- write comprehension statements for both `list`s and dictionaries\n",
    "- understand how a lambda function works in Python\n",
    "- write lambda functions\n",
    "\n",
    "### Activities\n",
    "\n",
    "| Activities                | \n",
    "| :--------------------------------------- | \n",
    "| **[Module 3: Comprehension Statements][nb1]** |\n",
    "| **[Module 3: Lambda Functions][nb2]** |\n",
    "| **[Module 3: Introduction to Pandas][nb3]** |\n",
    "\n",
    "\n",
    "[nb1]: compStmts.ipynb\n",
    "[nb2]: lambdaFn.ipynb\n",
    "[nb3]: introToPandas.ipynb\n"
   ]
  },
  {
   "cell_type": "markdown",
   "metadata": {},
   "source": [
    "## Ancillary Information\n",
    "\n",
    "The following links are to additional documentation that you might find helpful in learning this material.\n",
    "\n",
    "1. When to use a list comprehension in Python [tutorial][1].\n",
    "2. DataCamp's tutorial on [Python List Comprehension][2].\n",
    "3. DataCamp's [Python Dictionary Comprehension Tutorial][3].\n",
    "4. The official Python documentation for [lambda functions][4].\n",
    "5. The wikibook [Python Programming/Functions][5] has information relevant to the advanced features of creating user-defined functions, much of what we did **not** cover, but is nonetheless very useful information. \n",
    "6. The official API reference for [`pandas.DataFrame`][6].\n",
    "\n",
    "-----\n",
    "\n",
    "[1]: https://realpython.com/list-comprehension-python/\n",
    "[2]: https://www.datacamp.com/community/tutorials/python-list-comprehension\n",
    "[3]: https://www.datacamp.com/community/tutorials/python-dictionary-comprehension\n",
    "[4]: https://docs.python.org/3/howto/functional.html#small-functions-and-the-lambda-expression\n",
    "[5]: https://en.wikibooks.org/wiki/Python_Programming/Functions\n",
    "[6]: https://pandas.pydata.org/pandas-docs/stable/reference/api/pandas.DataFrame.html"
   ]
  },
  {
   "cell_type": "markdown",
   "metadata": {
    "deletable": false,
    "editable": false
   },
   "source": [
    "-----\n",
    "\n",
    "**&copy; 2021: Matthew D. Dean, Ph.D.   \n",
    "Clinical Associate Professor of Business Analytics at William \\& Mary.**"
   ]
  }
 ],
 "metadata": {
  "kernelspec": {
   "display_name": "Python 3",
   "language": "python",
   "name": "python3"
  },
  "language_info": {
   "codemirror_mode": {
    "name": "ipython",
    "version": 3
   },
   "file_extension": ".py",
   "mimetype": "text/x-python",
   "name": "python",
   "nbconvert_exporter": "python",
   "pygments_lexer": "ipython3",
   "version": "3.7.6"
  }
 },
 "nbformat": 4,
 "nbformat_minor": 2
}
